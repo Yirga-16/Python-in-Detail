{
 "cells": [
  {
   "cell_type": "markdown",
   "metadata": {},
   "source": [
    "<small><small><i>\n",
    "All the IPython Notebooks in this lecture series by **Yirga Belay** are available @ **[GitHub](https://github.com/Yirga-16/Python-in-Detail/tree/main/02_Python_Datatypes/tree/main/002_Python_String_Methods)**\n",
    "</i></small></small>"
   ]
  },
  {
   "cell_type": "markdown",
   "metadata": {},
   "source": [
    "# Python String `index()`\n",
    "\n",
    "The string **`index()`** method returns the index of a substring inside the **[string](https://github.com/Yirga-16/Python-in-Detail/tree/main/02_Python_Datatypes/blob/main/002_Python_String.ipynb)** (if found). If the substring is not found, it raises an exception.\n",
    "\n",
    "**Syntax**:\n",
    "\n",
    "```python\n",
    "str.index(sub[, start[, end]] )\n",
    "```"
   ]
  },
  {
   "cell_type": "markdown",
   "metadata": {
    "heading_collapsed": true
   },
   "source": [
    "## `index()` Parameters\n",
    "\n",
    "The **`index()`** method takes three parameters:\n",
    "\n",
    "* **sub** - substring to be searched in the string **`str`**.\n",
    "* **start** and **`end`** (optional) - substring is searched within **`str[start:end]`**."
   ]
  },
  {
   "cell_type": "markdown",
   "metadata": {},
   "source": [
    "## Return Value from `index()`\n",
    "\n",
    "* If substring exists inside the string, it returns the lowest index in the string where substring is found.\n",
    "* If substring doesn't exist inside the string, it raises a **ValueError** exception.\n",
    "\n",
    "The **`index()`** method is similar to **[find() method for strings](https://github.com/Yirga-16/Python-in-Detail/tree/main/02_Python_Datatypes/blob/main/002_Python_String_Methods/008_Python_String_find%28%29.ipynb)**.\n",
    "\n",
    "The only difference is that **`find()`** method returns -1 if the substring is not found, whereas **`index()`** throws an exception."
   ]
  },
  {
   "cell_type": "code",
   "execution_count": 1,
   "metadata": {
    "ExecuteTime": {
     "end_time": "2021-06-23T08:21:36.673823Z",
     "start_time": "2021-06-23T08:21:36.366210Z"
    },
    "scrolled": true
   },
   "outputs": [
    {
     "name": "stdout",
     "output_type": "stream",
     "text": [
      "Substring 'is fun': 19\n"
     ]
    },
    {
     "ename": "ValueError",
     "evalue": "substring not found",
     "output_type": "error",
     "traceback": [
      "\u001b[1;31m---------------------------------------------------------------------------\u001b[0m",
      "\u001b[1;31mValueError\u001b[0m                                Traceback (most recent call last)",
      "Cell \u001b[1;32mIn[1], line 8\u001b[0m\n\u001b[0;32m      5\u001b[0m result \u001b[38;5;241m=\u001b[39m sentence\u001b[38;5;241m.\u001b[39mindex(\u001b[38;5;124m'\u001b[39m\u001b[38;5;124mis fun\u001b[39m\u001b[38;5;124m'\u001b[39m)\n\u001b[0;32m      6\u001b[0m \u001b[38;5;28mprint\u001b[39m(\u001b[38;5;124m\"\u001b[39m\u001b[38;5;124mSubstring \u001b[39m\u001b[38;5;124m'\u001b[39m\u001b[38;5;124mis fun\u001b[39m\u001b[38;5;124m'\u001b[39m\u001b[38;5;124m:\u001b[39m\u001b[38;5;124m\"\u001b[39m, result)\n\u001b[1;32m----> 8\u001b[0m result \u001b[38;5;241m=\u001b[39m \u001b[43msentence\u001b[49m\u001b[38;5;241;43m.\u001b[39;49m\u001b[43mindex\u001b[49m\u001b[43m(\u001b[49m\u001b[38;5;124;43m'\u001b[39;49m\u001b[38;5;124;43mJava\u001b[39;49m\u001b[38;5;124;43m'\u001b[39;49m\u001b[43m)\u001b[49m\n\u001b[0;32m      9\u001b[0m \u001b[38;5;28mprint\u001b[39m(\u001b[38;5;124m\"\u001b[39m\u001b[38;5;124mSubstring \u001b[39m\u001b[38;5;124m'\u001b[39m\u001b[38;5;124mJava\u001b[39m\u001b[38;5;124m'\u001b[39m\u001b[38;5;124m:\u001b[39m\u001b[38;5;124m\"\u001b[39m, result)\n",
      "\u001b[1;31mValueError\u001b[0m: substring not found"
     ]
    }
   ],
   "source": [
    "# Example 1: index() With Substring argument Only\n",
    "\n",
    "sentence = 'Python programming is fun.'\n",
    "\n",
    "result = sentence.index('is fun')\n",
    "print(\"Substring 'is fun':\", result)\n",
    "\n",
    "result = sentence.index('Java')\n",
    "print(\"Substring 'Java':\", result)"
   ]
  },
  {
   "cell_type": "markdown",
   "metadata": {},
   "source": [
    ">**Note:** Index in Python starts from 0 and not 1. So the occurrence is 19 and not 20."
   ]
  },
  {
   "cell_type": "code",
   "execution_count": null,
   "metadata": {
    "ExecuteTime": {
     "end_time": "2021-06-23T08:21:38.110337Z",
     "start_time": "2021-06-23T08:21:38.085926Z"
    }
   },
   "outputs": [],
   "source": [
    "# Example 2: index() With start and end Arguments\n",
    "\n",
    "sentence = 'Python programming is fun.'\n",
    "\n",
    "# Substring is searched in 'gramming is fun.'\n",
    "print(sentence.index('ing', 10))\n",
    "\n",
    "# Substring is searched in 'gramming is '\n",
    "print(sentence.index('g is', 10, -4))\n",
    "\n",
    "# Substring is searched in 'programming'\n",
    "print(sentence.index('fun', 7, 18))"
   ]
  },
  {
   "cell_type": "code",
   "execution_count": null,
   "metadata": {
    "ExecuteTime": {
     "end_time": "2021-06-23T08:21:47.908122Z",
     "start_time": "2021-06-23T08:21:47.886641Z"
    }
   },
   "outputs": [],
   "source": [
    "# Example 3:\n",
    "\n",
    "s=\"I Love Python Tutorial\"\n",
    "print(s.index('i'))\n",
    "print(s.index('i',2))\n",
    "print(s.index('Love'))\n",
    "print(s.index('Love',7))\n",
    "print(s.index('i',0,10))"
   ]
  },
  {
   "cell_type": "code",
   "execution_count": null,
   "metadata": {},
   "outputs": [],
   "source": []
  }
 ],
 "metadata": {
  "hide_input": false,
  "kernelspec": {
   "display_name": "Python 3 (ipykernel)",
   "language": "python",
   "name": "python3"
  },
  "language_info": {
   "codemirror_mode": {
    "name": "ipython",
    "version": 3
   },
   "file_extension": ".py",
   "mimetype": "text/x-python",
   "name": "python",
   "nbconvert_exporter": "python",
   "pygments_lexer": "ipython3",
   "version": "3.11.0"
  },
  "toc": {
   "base_numbering": 1,
   "nav_menu": {},
   "number_sections": true,
   "sideBar": true,
   "skip_h1_title": false,
   "title_cell": "Table of Contents",
   "title_sidebar": "Contents",
   "toc_cell": false,
   "toc_position": {},
   "toc_section_display": true,
   "toc_window_display": false
  },
  "varInspector": {
   "cols": {
    "lenName": 16,
    "lenType": 16,
    "lenVar": 40
   },
   "kernels_config": {
    "python": {
     "delete_cmd_postfix": "",
     "delete_cmd_prefix": "del ",
     "library": "var_list.py",
     "varRefreshCmd": "print(var_dic_list())"
    },
    "r": {
     "delete_cmd_postfix": ") ",
     "delete_cmd_prefix": "rm(",
     "library": "var_list.r",
     "varRefreshCmd": "cat(var_dic_list()) "
    }
   },
   "types_to_exclude": [
    "module",
    "function",
    "builtin_function_or_method",
    "instance",
    "_Feature"
   ],
   "window_display": false
  }
 },
 "nbformat": 4,
 "nbformat_minor": 2
}
