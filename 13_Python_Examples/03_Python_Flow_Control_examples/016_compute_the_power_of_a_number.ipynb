{
 "cells": [
  {
   "cell_type": "markdown",
   "metadata": {},
   "source": [
    "<small><small><i>\n",
    "All the IPython Notebooks in this **Python Examples** series by Dr. Milaan Parmar are available @ **[GitHub](https://github.com/milaan9/90_Python_Examples)**\n",
    "</i></small></small>"
   ]
  },
  {
   "cell_type": "markdown",
   "metadata": {},
   "source": [
    "# Python Program to Compute the Power of a Number\n",
    "\n",
    "In this example, you will learn to compute the power of a number.\n",
    "\n",
    "To understand this example, you should have the knowledge of the following **[Python programming](https://github.com/milaan9/01_Python_Introduction/blob/main/000_Intro_to_Python.ipynb)** topics:\n",
    "\n",
    "* **[Python pow()](https://github.com/milaan9/04_Python_Functions/blob/main/002_Python_Functions_Built_in/050_Python_pow%28%29.ipynb)**\n",
    "* **[Python for Loop](https://github.com/milaan9/03_Python_Flow_Control/blob/main/005_Python_for_Loop.ipynb)**\n",
    "* **[Python while Loop](https://github.com/milaan9/03_Python_Flow_Control/blob/main/006_Python_while_Loop.ipynb)**"
   ]
  },
  {
   "cell_type": "code",
   "execution_count": 1,
   "metadata": {
    "ExecuteTime": {
     "end_time": "2021-08-03T14:39:07.950075Z",
     "start_time": "2021-08-03T14:39:07.908083Z"
    }
   },
   "outputs": [
    {
     "name": "stdout",
     "output_type": "stream",
     "text": [
      "Value of 2 power 3 is: 8\n"
     ]
    },
    {
     "data": {
      "text/plain": [
       "'\\n>>Output/Runtime Test Cases:\\n     \\nValue of 2 power 3 is: 8\\n'"
      ]
     },
     "execution_count": 1,
     "metadata": {},
     "output_type": "execute_result"
    }
   ],
   "source": [
    "# Example 1: Calculate power of a number using a while loop\n",
    "\n",
    "base = 2\n",
    "exponent = 3\n",
    "power = exponent\n",
    "\n",
    "result = 1\n",
    "\n",
    "while exponent != 0:\n",
    "    result *= base\n",
    "    exponent-=1\n",
    "\n",
    "print(\"Value of\", base, \"power\", power, \"is:\", str(result))\n",
    "        \n",
    "'''\n",
    ">>Output/Runtime Test Cases:\n",
    "     \n",
    "Value of 2 power 3 is: 8\n",
    "'''"
   ]
  },
  {
   "cell_type": "markdown",
   "metadata": {},
   "source": [
    "**Explanation:**\n",
    "\n",
    "In this program, **`base`** and **`exponent`** are assigned values 2 and 3 respectively.\n",
    "\n",
    "Using the **`while`** loop, we keep on multiplying the **`result`** by **`base`** until the **`exponent`** becomes zero.\n",
    "\n",
    "In this case, we multiply **`result`** by base 3 times in total, so **`result`** = 1 * 2 * 2 * 2 = 8."
   ]
  },
  {
   "cell_type": "code",
   "execution_count": 2,
   "metadata": {
    "ExecuteTime": {
     "end_time": "2021-08-03T14:39:08.088257Z",
     "start_time": "2021-08-03T14:39:07.953004Z"
    }
   },
   "outputs": [
    {
     "name": "stdout",
     "output_type": "stream",
     "text": [
      "Value of 2 power 3 is: 8\n"
     ]
    },
    {
     "data": {
      "text/plain": [
       "'\\n>>Output/Runtime Test Cases:\\n     \\nValue of 2 power 3 is: 8\\n'"
      ]
     },
     "execution_count": 2,
     "metadata": {},
     "output_type": "execute_result"
    }
   ],
   "source": [
    "# Example 2: Calculate power of a number using a for loop\n",
    "\n",
    "base = 2\n",
    "exponent = 3\n",
    "power = exponent\n",
    "\n",
    "result = 1\n",
    "\n",
    "for exponent in range(exponent, 0, -1):\n",
    "    result *= base\n",
    "\n",
    "print(\"Value of\", base, \"power\", power, \"is:\", str(result))\n",
    "        \n",
    "'''\n",
    ">>Output/Runtime Test Cases:\n",
    "     \n",
    "Value of 2 power 3 is: 8\n",
    "'''"
   ]
  },
  {
   "cell_type": "markdown",
   "metadata": {},
   "source": [
    "**Explanation:**\n",
    "\n",
    "Here, instead of using a while loop, we've used a for loop.\n",
    "\n",
    "After each iteration, the exponent is decremented by 1, and the result is multiplied by the base exponent number of times.\n",
    "\n",
    "Both programs above do not work if you have a negative exponent. For that, you need to use the **[pow() function](https://github.com/milaan9/04_Python_Functions/blob/main/002_Python_Functions_Built_in/050_Python_pow%28%29.ipynb)** in Python library."
   ]
  },
  {
   "cell_type": "code",
   "execution_count": 3,
   "metadata": {
    "ExecuteTime": {
     "end_time": "2021-08-03T14:39:08.211790Z",
     "start_time": "2021-08-03T14:39:08.093139Z"
    }
   },
   "outputs": [
    {
     "name": "stdout",
     "output_type": "stream",
     "text": [
      "Value of 2 power -3 is: 0.125\n"
     ]
    },
    {
     "data": {
      "text/plain": [
       "'\\n>>Output/Runtime Test Cases:\\n     \\nValue of 2 power -3 is: 0.125\\n'"
      ]
     },
     "execution_count": 3,
     "metadata": {},
     "output_type": "execute_result"
    }
   ],
   "source": [
    "# Example 3: Calculate the power of a number using pow() function\n",
    "\n",
    "base = 2\n",
    "exponent = -3\n",
    "power = exponent\n",
    "\n",
    "result = pow(base, exponent)\n",
    "\n",
    "print(\"Value of\", base, \"power\", power, \"is:\", str(result))\n",
    "        \n",
    "'''\n",
    ">>Output/Runtime Test Cases:\n",
    "     \n",
    "Value of 2 power -3 is: 0.125\n",
    "'''"
   ]
  },
  {
   "cell_type": "code",
   "execution_count": null,
   "metadata": {},
   "outputs": [],
   "source": []
  }
 ],
 "metadata": {
  "hide_input": false,
  "kernelspec": {
   "display_name": "Python 3",
   "language": "python",
   "name": "python3"
  },
  "language_info": {
   "codemirror_mode": {
    "name": "ipython",
    "version": 3
   },
   "file_extension": ".py",
   "mimetype": "text/x-python",
   "name": "python",
   "nbconvert_exporter": "python",
   "pygments_lexer": "ipython3",
   "version": "3.8.8"
  },
  "toc": {
   "base_numbering": 1,
   "nav_menu": {},
   "number_sections": true,
   "sideBar": true,
   "skip_h1_title": false,
   "title_cell": "Table of Contents",
   "title_sidebar": "Contents",
   "toc_cell": false,
   "toc_position": {},
   "toc_section_display": true,
   "toc_window_display": false
  },
  "varInspector": {
   "cols": {
    "lenName": 16,
    "lenType": 16,
    "lenVar": 40
   },
   "kernels_config": {
    "python": {
     "delete_cmd_postfix": "",
     "delete_cmd_prefix": "del ",
     "library": "var_list.py",
     "varRefreshCmd": "print(var_dic_list())"
    },
    "r": {
     "delete_cmd_postfix": ") ",
     "delete_cmd_prefix": "rm(",
     "library": "var_list.r",
     "varRefreshCmd": "cat(var_dic_list()) "
    }
   },
   "types_to_exclude": [
    "module",
    "function",
    "builtin_function_or_method",
    "instance",
    "_Feature"
   ],
   "window_display": false
  }
 },
 "nbformat": 4,
 "nbformat_minor": 4
}
