{
 "cells": [
  {
   "cell_type": "markdown",
   "metadata": {},
   "source": [
    "<small><small><i>\n",
    "All the IPython Notebooks in this **Python Examples** series by Dr. Milaan Parmar are available @ **[GitHub](https://github.com/milaan9/90_Python_Examples)**\n",
    "</i></small></small>"
   ]
  },
  {
   "cell_type": "markdown",
   "metadata": {},
   "source": [
    "# Python Program to Check Armstrong Number\n",
    "\n",
    "In this example, you will learn to check whether an n-digit integer is an Armstrong number or not.\n",
    "\n",
    "To understand this example, you should have the knowledge of the following **[Python programming](https://github.com/milaan9/01_Python_Introduction/blob/main/000_Intro_to_Python.ipynb)** topics:\n",
    "\n",
    "* **[Python if-else Statement](https://github.com/milaan9/03_Python_Flow_Control/blob/main/002_Python_if_else_statement.ipynb)**\n",
    "* **[Python while Loop](https://github.com/milaan9/03_Python_Flow_Control/blob/main/006_Python_while_Loop.ipynb)**"
   ]
  },
  {
   "cell_type": "markdown",
   "metadata": {},
   "source": [
    "A positive integer is called an Armstrong number of order **`n`** if\n",
    "\n",
    "```python\n",
    "abcd... = an + bn + cn + dn + ...\n",
    "```\n",
    "\n",
    "In case of an Armstrong number of 3 digits, the sum of cubes of each digit is equal to the number itself. For example:\n",
    "\n",
    "```python\n",
    "153 = 1*1*1 + 5*5*5 + 3*3*3  // 153 is an Armstrong number.\n",
    "```"
   ]
  },
  {
   "cell_type": "code",
   "execution_count": 1,
   "metadata": {
    "ExecuteTime": {
     "end_time": "2021-08-03T12:52:14.725746Z",
     "start_time": "2021-08-03T12:52:10.251142Z"
    }
   },
   "outputs": [
    {
     "name": "stdout",
     "output_type": "stream",
     "text": [
      "Enter a number: 633\n",
      "633 is not an Armstrong number\n"
     ]
    },
    {
     "data": {
      "text/plain": [
       "'\\n>>Output/Runtime Test Cases:\\n     \\n9\\n9 is not an Armstrong number\\n'"
      ]
     },
     "execution_count": 1,
     "metadata": {},
     "output_type": "execute_result"
    }
   ],
   "source": [
    "# Example 1: check if the number is an Armstrong number or not\n",
    "\n",
    "# take input from the user\n",
    "num = int(input(\"Enter a number: \"))\n",
    "\n",
    "# initialize sum\n",
    "sum = 0\n",
    "\n",
    "# find the sum of the cube of each digit\n",
    "temp = num\n",
    "while temp > 0:\n",
    "    digit = temp % 10\n",
    "    sum += digit ** 3\n",
    "    temp //= 10\n",
    "\n",
    "# display the result\n",
    "if num == sum:\n",
    "    print(num,\"is an Armstrong number\")\n",
    "else:\n",
    "    print(num,\"is not an Armstrong number\")\n",
    "    \n",
    "'''\n",
    ">>Output/Runtime Test Cases:\n",
    "     \n",
    "9\n",
    "9 is not an Armstrong number\n",
    "'''"
   ]
  },
  {
   "cell_type": "markdown",
   "metadata": {},
   "source": [
    "**Explanation:**\n",
    "\n",
    "Here, we ask the user for a number and check if it is an Armstrong number.\n",
    "\n",
    "We need to calculate the sum of the cube of each digit. So, we initialize the sum to 0 and obtain each digit number by using the **[modulus operator %](https://github.com/milaan9/01_Python_Introduction/blob/main/012_Python_Operators.ipynb)**. The remainder of a number when it is divided by 10 is the last digit of that number. We take the cubes using exponent operator.\n",
    "\n",
    "Finally, we compare the sum with the original number and conclude that it is Armstrong number if they are equal."
   ]
  },
  {
   "cell_type": "code",
   "execution_count": 2,
   "metadata": {
    "ExecuteTime": {
     "end_time": "2021-08-03T12:52:14.755043Z",
     "start_time": "2021-08-03T12:52:14.728675Z"
    },
    "scrolled": true
   },
   "outputs": [
    {
     "name": "stdout",
     "output_type": "stream",
     "text": [
      "1634 is an Armstrong number\n"
     ]
    },
    {
     "data": {
      "text/plain": [
       "'\\n>>Output/Runtime Test Cases:\\n     \\n1634 is an Armstrong number\\n'"
      ]
     },
     "execution_count": 2,
     "metadata": {},
     "output_type": "execute_result"
    }
   ],
   "source": [
    "# Example 2: Check Armstrong number of n digits\n",
    "\n",
    "num = 1634\n",
    "\n",
    "# Changed num variable to string, \n",
    "# and calculated the length (number of digits)\n",
    "order = len(str(num))\n",
    "\n",
    "# initialize sum\n",
    "sum = 0\n",
    "\n",
    "# find the sum of the cube of each digit\n",
    "temp = num\n",
    "while temp > 0:\n",
    "    digit = temp % 10\n",
    "    sum += digit ** order\n",
    "    temp //= 10\n",
    "\n",
    "# display the result\n",
    "if num == sum:\n",
    "    print(num,\"is an Armstrong number\")\n",
    "else:\n",
    "    print(num,\"is not an Armstrong number\")\n",
    "    \n",
    "'''\n",
    ">>Output/Runtime Test Cases:\n",
    "     \n",
    "1634 is an Armstrong number\n",
    "'''"
   ]
  },
  {
   "cell_type": "markdown",
   "metadata": {},
   "source": [
    "You can change the value of **`num`** in the source code and run again to test it."
   ]
  },
  {
   "cell_type": "code",
   "execution_count": null,
   "metadata": {},
   "outputs": [],
   "source": []
  }
 ],
 "metadata": {
  "hide_input": false,
  "kernelspec": {
   "display_name": "Python 3",
   "language": "python",
   "name": "python3"
  },
  "language_info": {
   "codemirror_mode": {
    "name": "ipython",
    "version": 3
   },
   "file_extension": ".py",
   "mimetype": "text/x-python",
   "name": "python",
   "nbconvert_exporter": "python",
   "pygments_lexer": "ipython3",
   "version": "3.8.8"
  },
  "toc": {
   "base_numbering": 1,
   "nav_menu": {},
   "number_sections": true,
   "sideBar": true,
   "skip_h1_title": false,
   "title_cell": "Table of Contents",
   "title_sidebar": "Contents",
   "toc_cell": false,
   "toc_position": {},
   "toc_section_display": true,
   "toc_window_display": false
  },
  "varInspector": {
   "cols": {
    "lenName": 16,
    "lenType": 16,
    "lenVar": 40
   },
   "kernels_config": {
    "python": {
     "delete_cmd_postfix": "",
     "delete_cmd_prefix": "del ",
     "library": "var_list.py",
     "varRefreshCmd": "print(var_dic_list())"
    },
    "r": {
     "delete_cmd_postfix": ") ",
     "delete_cmd_prefix": "rm(",
     "library": "var_list.r",
     "varRefreshCmd": "cat(var_dic_list()) "
    }
   },
   "types_to_exclude": [
    "module",
    "function",
    "builtin_function_or_method",
    "instance",
    "_Feature"
   ],
   "window_display": false
  }
 },
 "nbformat": 4,
 "nbformat_minor": 4
}
