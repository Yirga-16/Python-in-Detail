{
 "cells": [
  {
   "cell_type": "markdown",
   "metadata": {},
   "source": [
    "<small><small><i>\n",
    "All the IPython Notebooks in this **Python Examples** series by Dr. Milaan Parmar are available @ **[GitHub](https://github.com/milaan9/90_Python_Examples)**\n",
    "</i></small></small>"
   ]
  },
  {
   "cell_type": "markdown",
   "metadata": {},
   "source": [
    "# Python Program to Reverse a Number\n",
    "\n",
    "In this example, you will learn to reverse a number.\n",
    "\n",
    "To understand this example, you should have the knowledge of the following **[Python programming](https://github.com/milaan9/01_Python_Introduction/blob/main/000_Intro_to_Python.ipynb)** topics:\n",
    "\n",
    "* **[Python for Loop](https://github.com/milaan9/03_Python_Flow_Control/blob/main/005_Python_for_Loop.ipynb)**\n",
    "* **[Python while Loop](https://github.com/milaan9/03_Python_Flow_Control/blob/main/006_Python_while_Loop.ipynb)**"
   ]
  },
  {
   "cell_type": "code",
   "execution_count": 1,
   "metadata": {
    "ExecuteTime": {
     "end_time": "2021-08-03T14:17:51.965832Z",
     "start_time": "2021-08-03T14:17:51.941417Z"
    }
   },
   "outputs": [
    {
     "name": "stdout",
     "output_type": "stream",
     "text": [
      "Reversed Number: 654321\n"
     ]
    },
    {
     "data": {
      "text/plain": [
       "'\\n>>Output/Runtime Test Cases:\\n     \\nReversed Number: 654321\\n'"
      ]
     },
     "execution_count": 1,
     "metadata": {},
     "output_type": "execute_result"
    }
   ],
   "source": [
    "# Example 1: Reverse a Number using a while loop\n",
    "\n",
    "num = 123456\n",
    "reversed_num = 0\n",
    "\n",
    "while num != 0:\n",
    "    digit = num % 10\n",
    "    reversed_num = reversed_num * 10 + digit\n",
    "    num //= 10\n",
    "\n",
    "print(\"Reversed Number: \" + str(reversed_num))\n",
    "        \n",
    "'''\n",
    ">>Output/Runtime Test Cases:\n",
    "     \n",
    "Reversed Number: 654321\n",
    "'''"
   ]
  },
  {
   "cell_type": "markdown",
   "metadata": {},
   "source": [
    "**Explanation:**\n",
    "\n",
    "In this program, **`while`** loop is used to reverse a number as given in the following steps:\n",
    "\n",
    "* First, the remainder of the **`num`** divided by 10 is stored in the variable digit. Now, the **`digit`** contains the last **`digit`** of **`num`**, i.e. 4.\n",
    "    - **`digit`** is then added to the variable reversed after multiplying it by 10. Multiplication by 10 adds a new place in the reversed number. One-th place multiplied by 10 gives you tenth place, tenth gives you hundredth, and so on. In this case, **`reversed_num`** contains **`0 * 10 + 4 = 4`**.\n",
    "    - **`num`** is then divided by 10 so that now it only contains the first three digits: 123.\n",
    "* After second iteration, digit equals 3, reversed equals **`6 * 10 + 5 = 65`** and **`num = 12`**.\n",
    "* After third iteration, digit equals 2, reversed equals **`65 * 10 + 4 = 654`** and **`num = 1`**.\n",
    "* After fourth iteration, digit equals 1, reversed equals **`654 * 10 + 3 = 6543`** and **`num = 0`**.\n",
    "* After fifth iteration, digit equals 1, reversed equals **`6543 * 10 + 2 = 65432`** and **`num = 0`**.\n",
    "* After sixth iteration, digit equals 1, reversed equals **`65432 * 10 + 1 = 654321`** and **`num = 0`**.\n",
    "* Now **`num = 0`**, so the test expression **`num != 0`** fails and while loop exits. reversed already contains the reversed number **`654321`**."
   ]
  },
  {
   "cell_type": "code",
   "execution_count": 2,
   "metadata": {
    "ExecuteTime": {
     "end_time": "2021-08-03T14:17:52.104499Z",
     "start_time": "2021-08-03T14:17:51.968761Z"
    }
   },
   "outputs": [
    {
     "name": "stdout",
     "output_type": "stream",
     "text": [
      "654321\n"
     ]
    },
    {
     "data": {
      "text/plain": [
       "'\\n>>Output/Runtime Test Cases:\\n     \\n654321\\n'"
      ]
     },
     "execution_count": 2,
     "metadata": {},
     "output_type": "execute_result"
    }
   ],
   "source": [
    "# Example 2: Using String slicing\n",
    "\n",
    "num = 123456\n",
    "print(str(num)[::-1])\n",
    "        \n",
    "'''\n",
    ">>Output/Runtime Test Cases:\n",
    "     \n",
    "654321\n",
    "'''"
   ]
  },
  {
   "cell_type": "markdown",
   "metadata": {},
   "source": [
    "**Explanation:**\n",
    "\n",
    "Using the string slicing concept, you can get reverse the string. **`::-1`** corresponds to **start:stop:step**. When you pass -1 as **step**, the **start** point goes to the **end** and **stop** at the front."
   ]
  },
  {
   "cell_type": "code",
   "execution_count": null,
   "metadata": {},
   "outputs": [],
   "source": []
  }
 ],
 "metadata": {
  "hide_input": false,
  "kernelspec": {
   "display_name": "Python 3",
   "language": "python",
   "name": "python3"
  },
  "language_info": {
   "codemirror_mode": {
    "name": "ipython",
    "version": 3
   },
   "file_extension": ".py",
   "mimetype": "text/x-python",
   "name": "python",
   "nbconvert_exporter": "python",
   "pygments_lexer": "ipython3",
   "version": "3.8.8"
  },
  "toc": {
   "base_numbering": 1,
   "nav_menu": {},
   "number_sections": true,
   "sideBar": true,
   "skip_h1_title": false,
   "title_cell": "Table of Contents",
   "title_sidebar": "Contents",
   "toc_cell": false,
   "toc_position": {},
   "toc_section_display": true,
   "toc_window_display": false
  },
  "varInspector": {
   "cols": {
    "lenName": 16,
    "lenType": 16,
    "lenVar": 40
   },
   "kernels_config": {
    "python": {
     "delete_cmd_postfix": "",
     "delete_cmd_prefix": "del ",
     "library": "var_list.py",
     "varRefreshCmd": "print(var_dic_list())"
    },
    "r": {
     "delete_cmd_postfix": ") ",
     "delete_cmd_prefix": "rm(",
     "library": "var_list.r",
     "varRefreshCmd": "cat(var_dic_list()) "
    }
   },
   "types_to_exclude": [
    "module",
    "function",
    "builtin_function_or_method",
    "instance",
    "_Feature"
   ],
   "window_display": false
  }
 },
 "nbformat": 4,
 "nbformat_minor": 4
}
