{
 "cells": [
  {
   "cell_type": "markdown",
   "metadata": {},
   "source": [
    "<small><small><i>\n",
    "All the IPython Notebooks in this **Python Examples** series by Dr. Milaan Parmar are available @ **[GitHub](https://github.com/milaan9/90_Python_Examples)**\n",
    "</i></small></small>"
   ]
  },
  {
   "cell_type": "markdown",
   "metadata": {},
   "source": [
    "# Python Program to Compute all the Permutation of the String\n",
    "\n",
    "In this example, you will learn to compute all the permutation of the string.\n",
    "\n",
    "To understand this example, you should have the knowledge of the following Python programming topics:\n",
    "\n",
    "To understand this example, you should have the knowledge of the following **[Python programming](https://github.com/milaan9/01_Python_Introduction/blob/main/000_Intro_to_Python.ipynb)** topics:\n",
    "\n",
    "* **[Python Strings](https://github.com/milaan9/02_Python_Datatypes/blob/main/002_Python_String.ipynb)**\n",
    "* **[Python for Loop](https://github.com/milaan9/03_Python_Flow_Control/blob/main/005_Python_for_Loop.ipynb)**"
   ]
  },
  {
   "cell_type": "code",
   "execution_count": 1,
   "metadata": {
    "ExecuteTime": {
     "end_time": "2021-08-02T18:34:39.033736Z",
     "start_time": "2021-08-02T18:34:38.998575Z"
    }
   },
   "outputs": [
    {
     "name": "stdout",
     "output_type": "stream",
     "text": [
      "eat\n",
      "eta\n",
      "aet\n",
      "ate\n",
      "tae\n",
      "tea\n",
      "None\n"
     ]
    },
    {
     "data": {
      "text/plain": [
       "'\\n>>Output/Runtime Test Cases:\\n     \\neat\\neta\\naet\\nate\\ntae\\ntea\\nNone\\n'"
      ]
     },
     "execution_count": 1,
     "metadata": {},
     "output_type": "execute_result"
    }
   ],
   "source": [
    "# Example 1: Using recursion\n",
    "\n",
    "def get_permutation(string, i=0):\n",
    "\n",
    "    if i == len(string):   \t \n",
    "        print(\"\".join(string))\n",
    "\n",
    "    for j in range(i, len(string)):\n",
    "\n",
    "        words = [c for c in string]\n",
    "   \n",
    "        # swap\n",
    "        words[i], words[j] = words[j], words[i]\n",
    "   \t \n",
    "        get_permutation(words, i + 1)\n",
    "\n",
    "print(get_permutation('eat'))\n",
    "\n",
    "'''\n",
    ">>Output/Runtime Test Cases:\n",
    "     \n",
    "eat\n",
    "eta\n",
    "aet\n",
    "ate\n",
    "tae\n",
    "tea\n",
    "None\n",
    "'''"
   ]
  },
  {
   "cell_type": "code",
   "execution_count": 2,
   "metadata": {
    "ExecuteTime": {
     "end_time": "2021-08-02T18:34:39.187076Z",
     "start_time": "2021-08-02T18:34:39.036665Z"
    }
   },
   "outputs": [
    {
     "name": "stdout",
     "output_type": "stream",
     "text": [
      "['care', 'caer', 'crae', 'crea', 'cear', 'cera', 'acre', 'acer', 'arce', 'arec', 'aecr', 'aerc', 'rcae', 'rcea', 'race', 'raec', 'reca', 'reac', 'ecar', 'ecra', 'eacr', 'earc', 'erca', 'erac']\n"
     ]
    },
    {
     "data": {
      "text/plain": [
       "\"\\n>>Output/Runtime Test Cases:\\n     \\n['care', 'caer', 'crae', 'crea', 'cear', 'cera', 'acre', 'acer', 'arce', 'arec', 'aecr', 'aerc', 'rcae', 'rcea', 'race', 'raec', 'reca', 'reac', 'ecar', 'ecra', 'eacr', 'earc', 'erca', 'erac']\\n\""
      ]
     },
     "execution_count": 2,
     "metadata": {},
     "output_type": "execute_result"
    }
   ],
   "source": [
    "# Example 2: Using itertools\n",
    "\n",
    "from itertools import permutations\n",
    "\n",
    "words = [''.join(p) for p in permutations('care')]\n",
    "\n",
    "print(words)\n",
    "\n",
    "'''\n",
    ">>Output/Runtime Test Cases:\n",
    "     \n",
    "['care', 'caer', 'crae', 'crea', 'cear', 'cera', 'acre', 'acer', 'arce', 'arec', 'aecr', 'aerc', 'rcae', 'rcea', 'race', 'raec', 'reca', 'reac', 'ecar', 'ecra', 'eacr', 'earc', 'erca', 'erac']\n",
    "'''"
   ]
  },
  {
   "cell_type": "code",
   "execution_count": null,
   "metadata": {},
   "outputs": [],
   "source": []
  }
 ],
 "metadata": {
  "hide_input": false,
  "kernelspec": {
   "display_name": "Python 3",
   "language": "python",
   "name": "python3"
  },
  "language_info": {
   "codemirror_mode": {
    "name": "ipython",
    "version": 3
   },
   "file_extension": ".py",
   "mimetype": "text/x-python",
   "name": "python",
   "nbconvert_exporter": "python",
   "pygments_lexer": "ipython3",
   "version": "3.8.8"
  },
  "toc": {
   "base_numbering": 1,
   "nav_menu": {},
   "number_sections": true,
   "sideBar": true,
   "skip_h1_title": false,
   "title_cell": "Table of Contents",
   "title_sidebar": "Contents",
   "toc_cell": false,
   "toc_position": {},
   "toc_section_display": true,
   "toc_window_display": false
  },
  "varInspector": {
   "cols": {
    "lenName": 16,
    "lenType": 16,
    "lenVar": 40
   },
   "kernels_config": {
    "python": {
     "delete_cmd_postfix": "",
     "delete_cmd_prefix": "del ",
     "library": "var_list.py",
     "varRefreshCmd": "print(var_dic_list())"
    },
    "r": {
     "delete_cmd_postfix": ") ",
     "delete_cmd_prefix": "rm(",
     "library": "var_list.r",
     "varRefreshCmd": "cat(var_dic_list()) "
    }
   },
   "types_to_exclude": [
    "module",
    "function",
    "builtin_function_or_method",
    "instance",
    "_Feature"
   ],
   "window_display": false
  }
 },
 "nbformat": 4,
 "nbformat_minor": 4
}
