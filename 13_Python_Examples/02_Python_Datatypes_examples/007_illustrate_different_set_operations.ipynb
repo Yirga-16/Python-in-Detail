{
 "cells": [
  {
   "cell_type": "markdown",
   "metadata": {},
   "source": [
    "<small><small><i>\n",
    "All the IPython Notebooks in this **Python Examples** series by Dr. Milaan Parmar are available @ **[GitHub](https://github.com/milaan9/90_Python_Examples)**\n",
    "</i></small></small>"
   ]
  },
  {
   "cell_type": "markdown",
   "metadata": {},
   "source": [
    "# Python Program to Illustrate Different Set Operations\n",
    "\n",
    "In this example, we have defined two set variables and we have performed different set operations: union, intersection, difference and symmetric difference.\n",
    "\n",
    "To understand this example, you should have the knowledge of the following **[Python programming](https://github.com/milaan9/01_Python_Introduction/blob/main/000_Intro_to_Python.ipynb)** topics:\n",
    "\n",
    "* **[Python Sets](https://github.com/milaan9/02_Python_Datatypes/blob/main/006_Python_Sets.ipynb)**\n",
    "* **[Python Input, Output and Import](https://github.com/milaan9/01_Python_Introduction/blob/main/011_Python_Input_Output_Import.ipynb)**"
   ]
  },
  {
   "cell_type": "markdown",
   "metadata": {},
   "source": [
    "Python offers a datatype called set whose elements must be unique. It can be used to perform different set operations like union, intersection, difference and symmetric difference."
   ]
  },
  {
   "cell_type": "code",
   "execution_count": 1,
   "metadata": {
    "ExecuteTime": {
     "end_time": "2021-07-30T07:09:05.521304Z",
     "start_time": "2021-07-30T07:09:05.492982Z"
    },
    "scrolled": true
   },
   "outputs": [
    {
     "name": "stdout",
     "output_type": "stream",
     "text": [
      "Union of M and N is {0, 1, 2, 3, 4, 5, 6, 7, 8, 10}\n",
      "Intersection of M and N is {2, 4}\n",
      "Difference of M and N is {0, 8, 10, 6}\n",
      "Symmetric difference of M and N is {0, 1, 3, 5, 6, 7, 8, 10}\n"
     ]
    },
    {
     "data": {
      "text/plain": [
       "'\\n>>Output/Runtime Test Cases:\\n     \\nUnion of M and N is {0, 1, 2, 3, 4, 5, 6, 7, 8, 10}\\nIntersection of M and N is {2, 4}\\nDifference of M and N is {0, 8, 10, 6}\\nSymmetric difference of M and N is {0, 1, 3, 5, 6, 7, 8, 10}\\n'"
      ]
     },
     "execution_count": 1,
     "metadata": {},
     "output_type": "execute_result"
    }
   ],
   "source": [
    "# Example 1: perform different set operations like in mathematics\n",
    "\n",
    "# define three sets\n",
    "M = {0, 2, 4, 6, 8, 10};\n",
    "N = {1, 2, 3, 4, 5, 7};\n",
    "\n",
    "# set union\n",
    "print(\"Union of M and N is\",M | N)\n",
    "\n",
    "# set intersection\n",
    "print(\"Intersection of M and N is\",M & N)\n",
    "\n",
    "# set difference\n",
    "print(\"Difference of M and N is\",M - N)\n",
    "\n",
    "# set symmetric difference\n",
    "print(\"Symmetric difference of M and N is\",M ^ N)\n",
    "'''\n",
    ">>Output/Runtime Test Cases:\n",
    "     \n",
    "Union of M and N is {0, 1, 2, 3, 4, 5, 6, 7, 8, 10}\n",
    "Intersection of M and N is {2, 4}\n",
    "Difference of M and N is {0, 8, 10, 6}\n",
    "Symmetric difference of M and N is {0, 1, 3, 5, 6, 7, 8, 10}\n",
    "'''"
   ]
  },
  {
   "cell_type": "markdown",
   "metadata": {},
   "source": [
    "**Explanation:** \n",
    "\n",
    "In this program, we take two different sets and perform different set operations on them. This can equivalently done by using set methods."
   ]
  },
  {
   "cell_type": "code",
   "execution_count": null,
   "metadata": {},
   "outputs": [],
   "source": []
  }
 ],
 "metadata": {
  "hide_input": false,
  "kernelspec": {
   "display_name": "Python 3",
   "language": "python",
   "name": "python3"
  },
  "language_info": {
   "codemirror_mode": {
    "name": "ipython",
    "version": 3
   },
   "file_extension": ".py",
   "mimetype": "text/x-python",
   "name": "python",
   "nbconvert_exporter": "python",
   "pygments_lexer": "ipython3",
   "version": "3.8.8"
  },
  "toc": {
   "base_numbering": 1,
   "nav_menu": {},
   "number_sections": true,
   "sideBar": true,
   "skip_h1_title": false,
   "title_cell": "Table of Contents",
   "title_sidebar": "Contents",
   "toc_cell": false,
   "toc_position": {},
   "toc_section_display": true,
   "toc_window_display": false
  },
  "varInspector": {
   "cols": {
    "lenName": 16,
    "lenType": 16,
    "lenVar": 40
   },
   "kernels_config": {
    "python": {
     "delete_cmd_postfix": "",
     "delete_cmd_prefix": "del ",
     "library": "var_list.py",
     "varRefreshCmd": "print(var_dic_list())"
    },
    "r": {
     "delete_cmd_postfix": ") ",
     "delete_cmd_prefix": "rm(",
     "library": "var_list.r",
     "varRefreshCmd": "cat(var_dic_list()) "
    }
   },
   "types_to_exclude": [
    "module",
    "function",
    "builtin_function_or_method",
    "instance",
    "_Feature"
   ],
   "window_display": false
  }
 },
 "nbformat": 4,
 "nbformat_minor": 4
}
