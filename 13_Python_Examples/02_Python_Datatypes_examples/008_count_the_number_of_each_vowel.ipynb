{
 "cells": [
  {
   "cell_type": "markdown",
   "metadata": {},
   "source": [
    "<small><small><i>\n",
    "All the IPython Notebooks in this **Python Examples** series by Dr. Milaan Parmar are available @ **[GitHub](https://github.com/milaan9/90_Python_Examples)**\n",
    "</i></small></small>"
   ]
  },
  {
   "cell_type": "markdown",
   "metadata": {},
   "source": [
    "# Python Program to Count the Number of Each Vowel\n",
    "\n",
    "In this program, you'll learn to count the number of each vowel in a string using dictionary and list comprehension.\n",
    "\n",
    "To understand this example, you should have the knowledge of the following **[Python programming](https://github.com/milaan9/01_Python_Introduction/blob/main/000_Intro_to_Python.ipynb)** topics:\n",
    "\n",
    "* **[Python for Loop](https://github.com/milaan9/03_Python_Flow_Control/blob/main/005_Python_for_Loop.ipynb)**\n",
    "* **[Python Strings](https://github.com/milaan9/02_Python_Datatypes/blob/main/002_Python_String.ipynb)**\n",
    "* **[String Methods](https://github.com/milaan9/02_Python_Datatypes/tree/main/002_Python_String_Methods)**"
   ]
  },
  {
   "cell_type": "code",
   "execution_count": 1,
   "metadata": {
    "ExecuteTime": {
     "end_time": "2021-07-30T07:37:11.199733Z",
     "start_time": "2021-07-30T07:37:11.172390Z"
    },
    "scrolled": true
   },
   "outputs": [
    {
     "name": "stdout",
     "output_type": "stream",
     "text": [
      "{'a': 2, 'e': 4, 'i': 4, 'o': 4, 'u': 3}\n"
     ]
    },
    {
     "data": {
      "text/plain": [
       "\"\\n>>Output/Runtime Test Cases:\\n     \\n{'a': 2, 'e': 4, 'i': 4, 'o': 4, 'u': 3}\\n\""
      ]
     },
     "execution_count": 1,
     "metadata": {},
     "output_type": "execute_result"
    }
   ],
   "source": [
    "# Example 1: count the number of each vowels\n",
    "\n",
    "# string of vowels\n",
    "vowels = 'aeiou'\n",
    "\n",
    "ip_str = 'Hello, have you visited my github python tutorials yet?'\n",
    "\n",
    "# make it suitable for caseless comparisions\n",
    "ip_str = ip_str.casefold()\n",
    "\n",
    "# make a dictionary with each vowel a key and value 0\n",
    "count = {}.fromkeys(vowels,0)\n",
    "\n",
    "# count the vowels\n",
    "for char in ip_str:\n",
    "    if char in count:\n",
    "        count[char] += 1\n",
    "\n",
    "print(count)\n",
    "\n",
    "'''\n",
    ">>Output/Runtime Test Cases:\n",
    "     \n",
    "{'a': 2, 'e': 4, 'i': 4, 'o': 4, 'u': 3}\n",
    "'''"
   ]
  },
  {
   "cell_type": "markdown",
   "metadata": {},
   "source": [
    "**Explanation:** \n",
    "\n",
    "Here, we have taken a string stored in **`ip_str`**. Using the method **`casefold()`**, we make it suitable for caseless comparisons. Basically, this method returns a lowercased version of the string.\n",
    "\n",
    "We use the dictionary method **`fromkeys()`** to construct a new dictionary with each vowel as its key and all values equal to 0. This is the initialization of the count.\n",
    "\n",
    "Next, we iterate over the input string using a **[for loop](https://github.com/milaan9/03_Python_Flow_Control/blob/main/005_Python_for_Loop.ipynb)**.\n",
    "\n",
    "In each iteration, we check if the character is in the dictionary keys (**`True`** if it is a vowel) and increment the value by 1 if true."
   ]
  },
  {
   "cell_type": "code",
   "execution_count": 2,
   "metadata": {
    "ExecuteTime": {
     "end_time": "2021-07-30T07:37:11.357935Z",
     "start_time": "2021-07-30T07:37:11.216336Z"
    }
   },
   "outputs": [
    {
     "name": "stdout",
     "output_type": "stream",
     "text": [
      "{'a': 2, 'e': 4, 'i': 4, 'o': 4, 'u': 3}\n"
     ]
    },
    {
     "data": {
      "text/plain": [
       "\"\\n>>Output/Runtime Test Cases:\\n     \\n{'a': 2, 'e': 4, 'i': 4, 'o': 4, 'u': 3}\\n\""
      ]
     },
     "execution_count": 2,
     "metadata": {},
     "output_type": "execute_result"
    }
   ],
   "source": [
    "# Example 2: count the number of each vowels using a list and a dictionary comprehension\n",
    "\n",
    "ip_str = 'Hello, have you visited my github python tutorials yet?'\n",
    "\n",
    "# make it suitable for caseless comparisions\n",
    "ip_str = ip_str.casefold()\n",
    "\n",
    "# make it suitable for caseless comparisions\n",
    "ip_str = ip_str.casefold()\n",
    "\n",
    "# count the vowels\n",
    "count = {x:sum([1 for char in ip_str if char == x]) for x in 'aeiou'}\n",
    "\n",
    "print(count)\n",
    "\n",
    "'''\n",
    ">>Output/Runtime Test Cases:\n",
    "     \n",
    "{'a': 2, 'e': 4, 'i': 4, 'o': 4, 'u': 3}\n",
    "'''"
   ]
  },
  {
   "cell_type": "markdown",
   "metadata": {},
   "source": [
    "**Explanation:** \n",
    "\n",
    "The output of this program is the same as above.\n",
    "\n",
    "Here, we have nested a list comprehension inside a dictionary comprehension to count the vowels in a single line.\n",
    "\n",
    "The dictionary comprehension runs for all vowel characters and the list comprehension inside the dictionary comprehension checks if any characters in the string match that particular vowel.\n",
    "\n",
    "At the end, a list with **1s** is generated for the number of each vowel character. The **`sum()`** method is used to calculate the sum of the elements for each list.\n",
    "\n",
    "However, this program is slower as we iterate over the entire input string for each vowel."
   ]
  },
  {
   "cell_type": "code",
   "execution_count": null,
   "metadata": {},
   "outputs": [],
   "source": []
  }
 ],
 "metadata": {
  "hide_input": false,
  "kernelspec": {
   "display_name": "Python 3",
   "language": "python",
   "name": "python3"
  },
  "language_info": {
   "codemirror_mode": {
    "name": "ipython",
    "version": 3
   },
   "file_extension": ".py",
   "mimetype": "text/x-python",
   "name": "python",
   "nbconvert_exporter": "python",
   "pygments_lexer": "ipython3",
   "version": "3.8.8"
  },
  "toc": {
   "base_numbering": 1,
   "nav_menu": {},
   "number_sections": true,
   "sideBar": true,
   "skip_h1_title": false,
   "title_cell": "Table of Contents",
   "title_sidebar": "Contents",
   "toc_cell": false,
   "toc_position": {},
   "toc_section_display": true,
   "toc_window_display": false
  },
  "varInspector": {
   "cols": {
    "lenName": 16,
    "lenType": 16,
    "lenVar": 40
   },
   "kernels_config": {
    "python": {
     "delete_cmd_postfix": "",
     "delete_cmd_prefix": "del ",
     "library": "var_list.py",
     "varRefreshCmd": "print(var_dic_list())"
    },
    "r": {
     "delete_cmd_postfix": ") ",
     "delete_cmd_prefix": "rm(",
     "library": "var_list.r",
     "varRefreshCmd": "cat(var_dic_list()) "
    }
   },
   "types_to_exclude": [
    "module",
    "function",
    "builtin_function_or_method",
    "instance",
    "_Feature"
   ],
   "window_display": false
  }
 },
 "nbformat": 4,
 "nbformat_minor": 4
}
