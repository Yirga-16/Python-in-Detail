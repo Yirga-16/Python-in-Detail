{
 "cells": [
  {
   "cell_type": "markdown",
   "metadata": {},
   "source": [
    "<small><small><i>\n",
    "All the IPython Notebooks in this **Python Examples** series by Dr. Milaan Parmar are available @ **[GitHub](https://github.com/milaan9/90_Python_Examples)**\n",
    "</i></small></small>"
   ]
  },
  {
   "cell_type": "markdown",
   "metadata": {},
   "source": [
    "# Python Program to Trim Whitespace From a String\n",
    "\n",
    "In this example, you will learn to trim whitespace from a String.\n",
    "\n",
    "To understand this example, you should have the knowledge of the following Python programming topics:\n",
    "\n",
    "To understand this example, you should have the knowledge of the following **[Python programming](https://github.com/milaan9/01_Python_Introduction/blob/main/000_Intro_to_Python.ipynb)** topics:\n",
    "\n",
    "* **[Python Strings](https://github.com/milaan9/02_Python_Datatypes/blob/main/002_Python_String.ipynb)**"
   ]
  },
  {
   "cell_type": "code",
   "execution_count": 1,
   "metadata": {
    "ExecuteTime": {
     "end_time": "2021-08-02T17:30:15.414502Z",
     "start_time": "2021-08-02T17:30:15.383253Z"
    }
   },
   "outputs": [
    {
     "name": "stdout",
     "output_type": "stream",
     "text": [
      "Python4DataScience\n"
     ]
    },
    {
     "data": {
      "text/plain": [
       "'\\n>>Output/Runtime Test Cases:\\n     \\nPython4DataScience\\n'"
      ]
     },
     "execution_count": 1,
     "metadata": {},
     "output_type": "execute_result"
    }
   ],
   "source": [
    "# Example 1: Using strip()\n",
    "\n",
    "my_string = \" Python4DataScience \"\n",
    "\n",
    "print(my_string.strip())\n",
    "\n",
    "'''\n",
    ">>Output/Runtime Test Cases:\n",
    "     \n",
    "Python4DataScience\n",
    "'''"
   ]
  },
  {
   "cell_type": "markdown",
   "metadata": {},
   "source": [
    "**Explanation:** \n",
    "\n",
    "**`strip()`** removes the leading and trailing characters including the whitespaces from a string."
   ]
  },
  {
   "cell_type": "markdown",
   "metadata": {},
   "source": [
    "However, if you have characters in the string like **`\\n`** and you want to remove only the whitespaces, you need to specify it explicitly on the **`strip()`** method as shown in the following code."
   ]
  },
  {
   "cell_type": "code",
   "execution_count": 2,
   "metadata": {
    "ExecuteTime": {
     "end_time": "2021-08-02T17:30:15.597119Z",
     "start_time": "2021-08-02T17:30:15.418408Z"
    }
   },
   "outputs": [
    {
     "name": "stdout",
     "output_type": "stream",
     "text": [
      "\n",
      "Python4DataScience\n"
     ]
    },
    {
     "data": {
      "text/plain": [
       "'\\n>>Output/Runtime Test Cases:\\n     \\n\\nPython4DataScience\\n'"
      ]
     },
     "execution_count": 2,
     "metadata": {},
     "output_type": "execute_result"
    }
   ],
   "source": [
    "# Example 2: \n",
    "\n",
    "my_string = \" \\nPython4DataScience \"\n",
    "\n",
    "print(my_string.strip(\" \"))\n",
    "\n",
    "'''\n",
    ">>Output/Runtime Test Cases:\n",
    "     \n",
    "\n",
    "Python4DataScience\n",
    "'''"
   ]
  },
  {
   "cell_type": "code",
   "execution_count": 3,
   "metadata": {
    "ExecuteTime": {
     "end_time": "2021-08-02T17:30:15.735791Z",
     "start_time": "2021-08-02T17:30:15.605910Z"
    }
   },
   "outputs": [
    {
     "name": "stdout",
     "output_type": "stream",
     "text": [
      "Hello World\n"
     ]
    },
    {
     "data": {
      "text/plain": [
       "'\\n>>Output/Runtime Test Cases:\\n     \\nHello World\\n'"
      ]
     },
     "execution_count": 3,
     "metadata": {},
     "output_type": "execute_result"
    }
   ],
   "source": [
    "# Example 3: Using regular expression\n",
    "\n",
    "import re\n",
    "\n",
    "my_string  = \" Hello World \"\n",
    "output = re.sub(r'^\\s+|\\s+$', '', my_string)\n",
    "\n",
    "print(output)\n",
    "\n",
    "'''\n",
    ">>Output/Runtime Test Cases:\n",
    "     \n",
    "Hello World\n",
    "'''"
   ]
  },
  {
   "cell_type": "code",
   "execution_count": null,
   "metadata": {},
   "outputs": [],
   "source": []
  }
 ],
 "metadata": {
  "hide_input": false,
  "kernelspec": {
   "display_name": "Python 3",
   "language": "python",
   "name": "python3"
  },
  "language_info": {
   "codemirror_mode": {
    "name": "ipython",
    "version": 3
   },
   "file_extension": ".py",
   "mimetype": "text/x-python",
   "name": "python",
   "nbconvert_exporter": "python",
   "pygments_lexer": "ipython3",
   "version": "3.8.8"
  },
  "toc": {
   "base_numbering": 1,
   "nav_menu": {},
   "number_sections": true,
   "sideBar": true,
   "skip_h1_title": false,
   "title_cell": "Table of Contents",
   "title_sidebar": "Contents",
   "toc_cell": false,
   "toc_position": {},
   "toc_section_display": true,
   "toc_window_display": false
  },
  "varInspector": {
   "cols": {
    "lenName": 16,
    "lenType": 16,
    "lenVar": 40
   },
   "kernels_config": {
    "python": {
     "delete_cmd_postfix": "",
     "delete_cmd_prefix": "del ",
     "library": "var_list.py",
     "varRefreshCmd": "print(var_dic_list())"
    },
    "r": {
     "delete_cmd_postfix": ") ",
     "delete_cmd_prefix": "rm(",
     "library": "var_list.r",
     "varRefreshCmd": "cat(var_dic_list()) "
    }
   },
   "types_to_exclude": [
    "module",
    "function",
    "builtin_function_or_method",
    "instance",
    "_Feature"
   ],
   "window_display": false
  }
 },
 "nbformat": 4,
 "nbformat_minor": 4
}
