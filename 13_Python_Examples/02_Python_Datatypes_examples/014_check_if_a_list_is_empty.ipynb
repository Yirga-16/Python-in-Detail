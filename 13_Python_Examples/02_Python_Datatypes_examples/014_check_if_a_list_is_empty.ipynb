{
 "cells": [
  {
   "cell_type": "markdown",
   "metadata": {},
   "source": [
    "<small><small><i>\n",
    "All the IPython Notebooks in this **Python Examples** series by Dr. Milaan Parmar are available @ **[GitHub](https://github.com/milaan9/90_Python_Examples)**\n",
    "</i></small></small>"
   ]
  },
  {
   "cell_type": "markdown",
   "metadata": {},
   "source": [
    "# Python Program to Check If a List is Empty\n",
    "\n",
    "In this example, you will learn to check if a Python list is empty.\n",
    "\n",
    "To understand this example, you should have the knowledge of the following **[Python programming](https://github.com/milaan9/01_Python_Introduction/blob/main/000_Intro_to_Python.ipynb)** topics:\n",
    "\n",
    "* **[Python List](https://github.com/milaan9/02_Python_Datatypes/blob/main/003_Python_List.ipynb)**\n",
    "* **[Python if-else Statement](https://github.com/milaan9/03_Python_Flow_Control/blob/main/002_Python_if_else_statement.ipynb)**"
   ]
  },
  {
   "cell_type": "code",
   "execution_count": 1,
   "metadata": {
    "ExecuteTime": {
     "end_time": "2021-08-02T06:28:12.799706Z",
     "start_time": "2021-08-02T06:28:12.756742Z"
    }
   },
   "outputs": [
    {
     "name": "stdout",
     "output_type": "stream",
     "text": [
      "the list is empty\n"
     ]
    },
    {
     "data": {
      "text/plain": [
       "'\\n>>Output/Runtime Test Cases:\\n     \\nthe list is empty\\n'"
      ]
     },
     "execution_count": 1,
     "metadata": {},
     "output_type": "execute_result"
    }
   ],
   "source": [
    "# Example 1: Using Boolean operation\n",
    "\n",
    "my_list = []\n",
    "if not my_list:\n",
    "    print(\"the list is empty\")\n",
    "\n",
    "'''\n",
    ">>Output/Runtime Test Cases:\n",
    "     \n",
    "the list is empty\n",
    "'''"
   ]
  },
  {
   "cell_type": "markdown",
   "metadata": {},
   "source": [
    "**Explanation:** \n",
    "\n",
    "If **`my_list`** is empty then **`not`** returns **`True`**.\n",
    "\n",
    "It is the most pythonic way of testing emptiness. If you want to learn more about boolean truth value, you can refer to **[Truth Value Testing](https://docs.python.org/3/library/stdtypes.html#truth-value-testing)**."
   ]
  },
  {
   "cell_type": "code",
   "execution_count": 2,
   "metadata": {
    "ExecuteTime": {
     "end_time": "2021-08-02T06:28:12.908105Z",
     "start_time": "2021-08-02T06:28:12.801660Z"
    }
   },
   "outputs": [
    {
     "name": "stdout",
     "output_type": "stream",
     "text": [
      "the list is empty\n"
     ]
    },
    {
     "data": {
      "text/plain": [
       "'\\n>>Output/Runtime Test Cases:\\n     \\nthe list is empty\\n'"
      ]
     },
     "execution_count": 2,
     "metadata": {},
     "output_type": "execute_result"
    }
   ],
   "source": [
    "# Example 2: Using len()\n",
    "\n",
    "my_list = []\n",
    "if not len(my_list):\n",
    "    print(\"the list is empty\")\n",
    "    \n",
    "'''\n",
    ">>Output/Runtime Test Cases:\n",
    "     \n",
    "the list is empty\n",
    "'''"
   ]
  },
  {
   "cell_type": "markdown",
   "metadata": {},
   "source": [
    "**Explanation:** \n",
    "\n",
    "In this example, length of list is used to check if there is any element in the list. If the length of a list is 0, then the list is empty."
   ]
  },
  {
   "cell_type": "code",
   "execution_count": 3,
   "metadata": {
    "ExecuteTime": {
     "end_time": "2021-08-02T06:28:13.015526Z",
     "start_time": "2021-08-02T06:28:12.912013Z"
    }
   },
   "outputs": [
    {
     "name": "stdout",
     "output_type": "stream",
     "text": [
      "The list is empty\n"
     ]
    },
    {
     "data": {
      "text/plain": [
       "'\\n>>Output/Runtime Test Cases:\\n     \\nthe list is empty\\n'"
      ]
     },
     "execution_count": 3,
     "metadata": {},
     "output_type": "execute_result"
    }
   ],
   "source": [
    "# Example 3: Comparing with []\n",
    "\n",
    "my_list = []\n",
    "if my_list == []:\n",
    "    print(\"The list is empty\")\n",
    "    \n",
    "'''\n",
    ">>Output/Runtime Test Cases:\n",
    "     \n",
    "the list is empty\n",
    "'''"
   ]
  },
  {
   "cell_type": "markdown",
   "metadata": {},
   "source": [
    "**Explanation:** \n",
    "\n",
    "**`[]`** is an empty list, therefore if **`my_list`** has no elements, then it should be equal to **`[]`**."
   ]
  },
  {
   "cell_type": "code",
   "execution_count": null,
   "metadata": {},
   "outputs": [],
   "source": []
  }
 ],
 "metadata": {
  "hide_input": false,
  "kernelspec": {
   "display_name": "Python 3",
   "language": "python",
   "name": "python3"
  },
  "language_info": {
   "codemirror_mode": {
    "name": "ipython",
    "version": 3
   },
   "file_extension": ".py",
   "mimetype": "text/x-python",
   "name": "python",
   "nbconvert_exporter": "python",
   "pygments_lexer": "ipython3",
   "version": "3.8.8"
  },
  "toc": {
   "base_numbering": 1,
   "nav_menu": {},
   "number_sections": true,
   "sideBar": true,
   "skip_h1_title": false,
   "title_cell": "Table of Contents",
   "title_sidebar": "Contents",
   "toc_cell": false,
   "toc_position": {},
   "toc_section_display": true,
   "toc_window_display": false
  },
  "varInspector": {
   "cols": {
    "lenName": 16,
    "lenType": 16,
    "lenVar": 40
   },
   "kernels_config": {
    "python": {
     "delete_cmd_postfix": "",
     "delete_cmd_prefix": "del ",
     "library": "var_list.py",
     "varRefreshCmd": "print(var_dic_list())"
    },
    "r": {
     "delete_cmd_postfix": ") ",
     "delete_cmd_prefix": "rm(",
     "library": "var_list.r",
     "varRefreshCmd": "cat(var_dic_list()) "
    }
   },
   "types_to_exclude": [
    "module",
    "function",
    "builtin_function_or_method",
    "instance",
    "_Feature"
   ],
   "window_display": false
  }
 },
 "nbformat": 4,
 "nbformat_minor": 4
}
