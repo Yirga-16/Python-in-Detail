{
 "cells": [
  {
   "cell_type": "markdown",
   "metadata": {},
   "source": [
    "<small><small><i>\n",
    "All the IPython Notebooks in this **Python Examples** series by Dr. Milaan Parmar are available @ **[GitHub](https://github.com/milaan9/90_Python_Examples)**\n",
    "</i></small></small>"
   ]
  },
  {
   "cell_type": "markdown",
   "metadata": {},
   "source": [
    "# Python Program to Multiply Two Matrices\n",
    "\n",
    "In this example, we will learn to multiply matrices using two different ways: nested loop and, nested list comprehension.\n",
    "\n",
    "To understand this example, you should have the knowledge of the following **[Python programming](https://github.com/milaan9/01_Python_Introduction/blob/main/000_Intro_to_Python.ipynb)** topics:\n",
    "\n",
    "* **[Python for Loop](https://github.com/milaan9/03_Python_Flow_Control/blob/main/005_Python_for_Loop.ipynb)**\n",
    "* **[Python List](https://github.com/milaan9/02_Python_Datatypes/blob/main/003_Python_List.ipynb)**\n",
    "* **[Python Matrices and NumPy Arrays](https://github.com/milaan9/90_Python_Examples/blob/main/02_Python_Datatypes_examples/Python_Matrices_and_NumPy_Arrays.ipynb)**"
   ]
  },
  {
   "cell_type": "markdown",
   "metadata": {},
   "source": [
    "In Python, we can implement a matrix as nested list (list inside a list).\n",
    "\n",
    "We can treat each element as a row of the matrix.\n",
    "\n",
    "For example **`X = [[1, 2], [4, 5], [3, 6]]`** would represent a 3x2 matrix.\n",
    "\n",
    "The first row can be selected as **`X[0]`**. And, the element in first row, first column can be selected as **`X[0][0]`**.\n",
    "\n",
    "Multiplication of two matrices **`X`** and **`Y`** is defined only if the number of columns in **`X`** is equal to the number of rows **`Y`**.\n",
    "\n",
    "If **`X`** is a **`n x m`** matrix and **`Y`** is a **`m x l`** matrix then, **`XY`** is defined and has the dimension **`n x l`** (but **`YX`** is not defined). Here are a couple of ways to implement matrix multiplication in Python."
   ]
  },
  {
   "cell_type": "code",
   "execution_count": 1,
   "metadata": {
    "ExecuteTime": {
     "end_time": "2021-07-27T14:13:11.506451Z",
     "start_time": "2021-07-27T14:13:11.477157Z"
    },
    "scrolled": true
   },
   "outputs": [
    {
     "name": "stdout",
     "output_type": "stream",
     "text": [
      "[117, 177, 66, 75]\n",
      "[49, 103, 73, 38]\n",
      "[82, 130, 58, 56]\n"
     ]
    },
    {
     "data": {
      "text/plain": [
       "'\\n>>Output/Runtime Test Cases:\\n     \\n[12, 7, 5]\\n[9, 3, 6]\\n'"
      ]
     },
     "execution_count": 1,
     "metadata": {},
     "output_type": "execute_result"
    }
   ],
   "source": [
    "# Example 1: multiply two matrices using nested loops\n",
    "\n",
    "# 3x3 matrix\n",
    "X = [[12,9,3],\n",
    "    [4,5,6],\n",
    "    [7,8,3]]\n",
    "\n",
    "# 3x4 matrix\n",
    "Y = [[6,8,1,3],\n",
    "    [5,7,3,4],\n",
    "    [0,6,9,1]]\n",
    "\n",
    "# result is 3x4\n",
    "result = [[0,0,0,0],\n",
    "         [0,0,0,0],\n",
    "         [0,0,0,0]]\n",
    "\n",
    "# iterate through rows of X\n",
    "for i in range(len(X)):\n",
    "   # iterate through columns of Y\n",
    "   for j in range(len(Y[0])):\n",
    "       # iterate through rows of Y\n",
    "       for k in range(len(Y)):\n",
    "            result[i][j] += X[i][k] * Y[k][j]\n",
    "\n",
    "for r in result:\n",
    "    print(r)\n",
    "\n",
    "'''\n",
    ">>Output/Runtime Test Cases:\n",
    "     \n",
    "[117, 177, 66, 75]\n",
    "[49, 103, 73, 38]\n",
    "[82, 130, 58, 56]\n",
    "'''"
   ]
  },
  {
   "cell_type": "markdown",
   "metadata": {},
   "source": [
    "**Explanation:**\n",
    "    \n",
    "In this program we have used nested **`for`** loops to iterate through each row and each column. We accumulate the sum of products in the result.\n",
    "\n",
    "This technique is simple but computationally expensive as we increase the order of the matrix.\n",
    "\n",
    "For larger matrix operations we recommend optimized software packages like **[NumPy](http://www.numpy.org/)** which is several (in the order of 1000) times faster than the above code."
   ]
  },
  {
   "cell_type": "code",
   "execution_count": 2,
   "metadata": {
    "ExecuteTime": {
     "end_time": "2021-07-27T14:15:52.625404Z",
     "start_time": "2021-07-27T14:15:52.600015Z"
    }
   },
   "outputs": [
    {
     "name": "stdout",
     "output_type": "stream",
     "text": [
      "[117, 177, 66, 75]\n",
      "[49, 103, 73, 38]\n",
      "[82, 130, 58, 56]\n"
     ]
    },
    {
     "data": {
      "text/plain": [
       "'\\n>>Output/Runtime Test Cases:\\n     \\n[117, 177, 66, 75]\\n[49, 103, 73, 38]\\n[82, 130, 58, 56]\\n'"
      ]
     },
     "execution_count": 2,
     "metadata": {},
     "output_type": "execute_result"
    }
   ],
   "source": [
    "# Example 2: multiply two matrices using list comprehension\n",
    "\n",
    "# 3x3 matrix\n",
    "X = [[12,9,3],\n",
    "    [4,5,6],\n",
    "    [7,8,3]]\n",
    "\n",
    "# 3x4 matrix\n",
    "Y = [[6,8,1,3],\n",
    "    [5,7,3,4],\n",
    "    [0,6,9,1]]\n",
    "\n",
    "# result is 3x4\n",
    "result = [[sum(a*b for a,b in zip(X_row,Y_col)) for Y_col in zip(*Y)] for X_row in X]\n",
    "\n",
    "for r in result:\n",
    "    print(r)\n",
    "    \n",
    "'''\n",
    ">>Output/Runtime Test Cases:\n",
    "     \n",
    "[117, 177, 66, 75]\n",
    "[49, 103, 73, 38]\n",
    "[82, 130, 58, 56]\n",
    "'''"
   ]
  },
  {
   "cell_type": "markdown",
   "metadata": {},
   "source": [
    "**Explanation:**\n",
    "    \n",
    "The output of this program is the same as above. To understand the above code we must first know about **[built-in function zip()](https://github.com/milaan9/04_Python_Functions/blob/main/002_Python_Functions_Built_in/066_Python_zip%28%29.ipynb)** and **[unpacking argument list](http://docs.python.org/3/tutorial/controlflow.html#unpacking-argument-lists)** using **`*`** operator.\n",
    "\n",
    "We have used nested list comprehension to iterate through each element in the matrix. The code looks complicated and unreadable at first. But once you get the hang of list comprehensions, you will probably not go back to nested loops."
   ]
  },
  {
   "cell_type": "code",
   "execution_count": null,
   "metadata": {},
   "outputs": [],
   "source": []
  }
 ],
 "metadata": {
  "hide_input": false,
  "kernelspec": {
   "display_name": "Python 3",
   "language": "python",
   "name": "python3"
  },
  "language_info": {
   "codemirror_mode": {
    "name": "ipython",
    "version": 3
   },
   "file_extension": ".py",
   "mimetype": "text/x-python",
   "name": "python",
   "nbconvert_exporter": "python",
   "pygments_lexer": "ipython3",
   "version": "3.8.8"
  },
  "toc": {
   "base_numbering": 1,
   "nav_menu": {},
   "number_sections": true,
   "sideBar": true,
   "skip_h1_title": false,
   "title_cell": "Table of Contents",
   "title_sidebar": "Contents",
   "toc_cell": false,
   "toc_position": {},
   "toc_section_display": true,
   "toc_window_display": false
  },
  "varInspector": {
   "cols": {
    "lenName": 16,
    "lenType": 16,
    "lenVar": 40
   },
   "kernels_config": {
    "python": {
     "delete_cmd_postfix": "",
     "delete_cmd_prefix": "del ",
     "library": "var_list.py",
     "varRefreshCmd": "print(var_dic_list())"
    },
    "r": {
     "delete_cmd_postfix": ") ",
     "delete_cmd_prefix": "rm(",
     "library": "var_list.r",
     "varRefreshCmd": "cat(var_dic_list()) "
    }
   },
   "types_to_exclude": [
    "module",
    "function",
    "builtin_function_or_method",
    "instance",
    "_Feature"
   ],
   "window_display": false
  }
 },
 "nbformat": 4,
 "nbformat_minor": 4
}
