{
 "cells": [
  {
   "cell_type": "markdown",
   "metadata": {},
   "source": [
    "<small><small><i>\n",
    "All the IPython Notebooks in this **Python Examples** series by Dr. Milaan Parmar are available @ **[GitHub](https://github.com/milaan9/90_Python_Examples)**\n",
    "</i></small></small>"
   ]
  },
  {
   "cell_type": "markdown",
   "metadata": {},
   "source": [
    "# Python Program to Print Colored Text to the Terminal\n",
    "\n",
    "In this example, you will learn to print colored text to the terminal.\n",
    "\n",
    "To understand this example, you should have the knowledge of the following **[Python programming](https://github.com/milaan9/01_Python_Introduction/blob/main/000_Intro_to_Python.ipynb)** topics:\n",
    "\n",
    "* **[Python Strings](https://github.com/milaan9/02_Python_Datatypes/blob/main/002_Python_String.ipynb)**"
   ]
  },
  {
   "cell_type": "code",
   "execution_count": 1,
   "metadata": {
    "ExecuteTime": {
     "end_time": "2021-08-02T10:43:52.161368Z",
     "start_time": "2021-08-02T10:43:52.145745Z"
    }
   },
   "outputs": [
    {
     "name": "stdout",
     "output_type": "stream",
     "text": [
      "\u001b[38;2;6;96;243mPython4DataScience\u001b[0m\n"
     ]
    }
   ],
   "source": [
    "# Example 1: Using ANSI escape sequences\n",
    "\n",
    "print('\\x1b[38;2;6;96;243m' + 'Python4DataScience' + '\\x1b[0m')"
   ]
  },
  {
   "cell_type": "markdown",
   "metadata": {},
   "source": [
    "**Explanation:** \n",
    "\n",
    "The working of the above line of code is shown below:\n",
    "\n",
    "<div>\n",
    "<img src=\"img/color.png\" width=\"600\"/>\n",
    "</div>"
   ]
  },
  {
   "cell_type": "markdown",
   "metadata": {},
   "source": [
    "Let's understand the escape code **`\\x1b[38;2;5;86;243m`**.\n",
    "\n",
    "* **`\\x1b`** calls a function. You can also use **`\\033`** for the same purpose.\n",
    "* **`38;2;r;g;b`** helps to set RGB color. **`5;86;243`** are the rgb color for blue (the color of the logo of Programiz).\n",
    "* **`m`** is the function name. Here, **`m`** means SGR (Select Graphics Rendition) function.\n",
    "\n",
    "For more information regarding the ANSI escape code, you can refer to **[ANSI escape code](https://en.wikipedia.org/wiki/ANSI_escape_code)**."
   ]
  },
  {
   "cell_type": "code",
   "execution_count": 2,
   "metadata": {
    "ExecuteTime": {
     "end_time": "2021-08-02T10:43:52.344479Z",
     "start_time": "2021-08-02T10:43:52.169183Z"
    }
   },
   "outputs": [
    {
     "name": "stdout",
     "output_type": "stream",
     "text": [
      "\u001b[31mPython4DataScience\u001b[0m\n"
     ]
    }
   ],
   "source": [
    "# Example 2: Using python module termcolor\n",
    "\n",
    "from termcolor import colored\n",
    "\n",
    "print(colored('Python4DataScience', 'red'))"
   ]
  },
  {
   "cell_type": "markdown",
   "metadata": {},
   "source": [
    ">**Note:** First you'll need to install **`termcolor`**.\n",
    "\n",
    "**Explanation:** \n",
    "\n",
    "Using the module **[termcolor](https://pypi.org/project/termcolor/)**, you can get the desired output. Also, you can set different styles of the text using this module."
   ]
  },
  {
   "cell_type": "code",
   "execution_count": null,
   "metadata": {},
   "outputs": [],
   "source": []
  }
 ],
 "metadata": {
  "hide_input": false,
  "kernelspec": {
   "display_name": "Python 3",
   "language": "python",
   "name": "python3"
  },
  "language_info": {
   "codemirror_mode": {
    "name": "ipython",
    "version": 3
   },
   "file_extension": ".py",
   "mimetype": "text/x-python",
   "name": "python",
   "nbconvert_exporter": "python",
   "pygments_lexer": "ipython3",
   "version": "3.8.8"
  },
  "toc": {
   "base_numbering": 1,
   "nav_menu": {},
   "number_sections": true,
   "sideBar": true,
   "skip_h1_title": false,
   "title_cell": "Table of Contents",
   "title_sidebar": "Contents",
   "toc_cell": false,
   "toc_position": {},
   "toc_section_display": true,
   "toc_window_display": false
  },
  "varInspector": {
   "cols": {
    "lenName": 16,
    "lenType": 16,
    "lenVar": 40
   },
   "kernels_config": {
    "python": {
     "delete_cmd_postfix": "",
     "delete_cmd_prefix": "del ",
     "library": "var_list.py",
     "varRefreshCmd": "print(var_dic_list())"
    },
    "r": {
     "delete_cmd_postfix": ") ",
     "delete_cmd_prefix": "rm(",
     "library": "var_list.r",
     "varRefreshCmd": "cat(var_dic_list()) "
    }
   },
   "types_to_exclude": [
    "module",
    "function",
    "builtin_function_or_method",
    "instance",
    "_Feature"
   ],
   "window_display": false
  }
 },
 "nbformat": 4,
 "nbformat_minor": 4
}
