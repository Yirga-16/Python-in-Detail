{
 "cells": [
  {
   "cell_type": "markdown",
   "metadata": {},
   "source": [
    "<small><small><i>\n",
    "All the IPython Notebooks in this example series by Dr. Milan Parmar are available @ **[GitHub](https://github.com/milaan9/90_Python_Examples)**\n",
    "</i></small></small>"
   ]
  },
  {
   "cell_type": "markdown",
   "metadata": {},
   "source": [
    "# Python Program to Differentiate Between `type()` and `isinstance()`\n",
    "\n",
    "In this example, you will learn to differentiate between **`type()`** and **`isinstance()`**.\n",
    "\n",
    "To understand this example, you should have the knowledge of the following **[Python programming](https://github.com/milaan9/01_Python_Introduction/blob/main/000_Intro_to_Python.ipynb)** topics:\n",
    "\n",
    "* **[Python Object Oriented Programming](https://github.com/milaan9/06_Python_Object_Class/blob/main/001_Python_OOPs_Concepts.ipynb)**\n",
    "* **[Python Objects and Classes](https://github.com/milaan9/06_Python_Object_Class/blob/main/002_Python_Classes_and_Objects.ipynb)**"
   ]
  },
  {
   "cell_type": "code",
   "execution_count": 1,
   "metadata": {
    "ExecuteTime": {
     "end_time": "2021-07-02T12:53:51.842225Z",
     "start_time": "2021-07-02T12:53:51.804628Z"
    }
   },
   "outputs": [
    {
     "name": "stdout",
     "output_type": "stream",
     "text": [
      "True\n",
      "False\n",
      "True\n",
      "True\n"
     ]
    },
    {
     "data": {
      "text/plain": [
       "'\\n>>Expected output:\\n     \\nTrue\\nFalse\\nTrue\\nTrue\\n'"
      ]
     },
     "execution_count": 1,
     "metadata": {},
     "output_type": "execute_result"
    }
   ],
   "source": [
    "# Difference between type() and instance()\n",
    "# Let's understand the difference between type() and instance() with the example code below.\n",
    "\n",
    "class Polygon:\n",
    "    def sides_no(self):\n",
    "        pass\n",
    "\n",
    "class Triangle(Polygon):\n",
    "    def area(self):\n",
    "        pass\n",
    "\n",
    "obj_polygon = Polygon()\n",
    "obj_triangle = Triangle()\n",
    "\n",
    "print(type(obj_triangle) == Triangle)   \t# true\n",
    "print(type(obj_triangle) == Polygon)    \t# false\n",
    "\n",
    "print(isinstance(obj_polygon, Polygon)) \t# true\n",
    "print(isinstance(obj_triangle, Polygon))\t# true\n",
    "\n",
    "'''\n",
    ">>Expected output:\n",
    "     \n",
    "True\n",
    "False\n",
    "True\n",
    "True\n",
    "'''"
   ]
  },
  {
   "cell_type": "markdown",
   "metadata": {},
   "source": [
    "**Explanation:**\n",
    "\n",
    "In the above example, we see that **`type()`** cannot distinguish whether an instance of a class is somehow related to the base class. In our case, although **`obj_triangle`** is an instance of child class **`Triangle`**, it is inherited from the base class **`Polygon`**. If you want to relate the object of a child class with the base class, you can achieve this with **`instance()`**."
   ]
  },
  {
   "cell_type": "code",
   "execution_count": null,
   "metadata": {},
   "outputs": [],
   "source": []
  }
 ],
 "metadata": {
  "hide_input": false,
  "kernelspec": {
   "display_name": "Python 3",
   "language": "python",
   "name": "python3"
  },
  "language_info": {
   "codemirror_mode": {
    "name": "ipython",
    "version": 3
   },
   "file_extension": ".py",
   "mimetype": "text/x-python",
   "name": "python",
   "nbconvert_exporter": "python",
   "pygments_lexer": "ipython3",
   "version": "3.8.8"
  },
  "toc": {
   "base_numbering": 1,
   "nav_menu": {},
   "number_sections": true,
   "sideBar": true,
   "skip_h1_title": false,
   "title_cell": "Table of Contents",
   "title_sidebar": "Contents",
   "toc_cell": false,
   "toc_position": {},
   "toc_section_display": true,
   "toc_window_display": false
  },
  "varInspector": {
   "cols": {
    "lenName": 16,
    "lenType": 16,
    "lenVar": 40
   },
   "kernels_config": {
    "python": {
     "delete_cmd_postfix": "",
     "delete_cmd_prefix": "del ",
     "library": "var_list.py",
     "varRefreshCmd": "print(var_dic_list())"
    },
    "r": {
     "delete_cmd_postfix": ") ",
     "delete_cmd_prefix": "rm(",
     "library": "var_list.r",
     "varRefreshCmd": "cat(var_dic_list()) "
    }
   },
   "types_to_exclude": [
    "module",
    "function",
    "builtin_function_or_method",
    "instance",
    "_Feature"
   ],
   "window_display": false
  }
 },
 "nbformat": 4,
 "nbformat_minor": 4
}
