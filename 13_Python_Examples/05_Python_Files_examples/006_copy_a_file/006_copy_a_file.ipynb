{
 "cells": [
  {
   "cell_type": "markdown",
   "metadata": {},
   "source": [
    "<small><small><i>\n",
    "All the IPython Notebooks in this **Python Examples** series by Dr. Milaan Parmar are available @ **[GitHub](https://github.com/milaan9/90_Python_Examples)**\n",
    "</i></small></small>"
   ]
  },
  {
   "cell_type": "markdown",
   "metadata": {},
   "source": [
    "# Python Program to Copy a File\n",
    "\n",
    "In this example, you will learn to copy the content of a file to another file using Python.\n",
    "\n",
    "To understand this example, you should have the knowledge of the following **[Python programming](https://github.com/milaan9/01_Python_Introduction/blob/main/000_Intro_to_Python.ipynb)** topics:\n",
    "\n",
    "* **[Python File I/O](https://github.com/milaan9/05_Python_Files/blob/main/001_Python_File_Input_Output.ipynb)**"
   ]
  },
  {
   "cell_type": "markdown",
   "metadata": {},
   "source": [
    "Multiple exceptions can be caught using a tuple. The errors can be passed through a tuple as shown in example below."
   ]
  },
  {
   "cell_type": "markdown",
   "metadata": {},
   "source": [
    "## Using shutil module"
   ]
  },
  {
   "cell_type": "code",
   "execution_count": null,
   "metadata": {},
   "outputs": [],
   "source": [
    "# Example 1: \n",
    "\n",
    "string = input()\n",
    "from shutil import copyfile\n",
    "copyfile(\"/root/a.txt\", \"/root/b.txt\")"
   ]
  },
  {
   "cell_type": "markdown",
   "metadata": {
    "ExecuteTime": {
     "end_time": "2021-08-07T06:44:37.674408Z",
     "start_time": "2021-08-07T06:44:37.359960Z"
    }
   },
   "source": [
    "**Explanation:**\n",
    "\n",
    "The first parameter of **`copyfile()`** is the path of the source file and the second parameter is the path of the destination file. The content of the destination file is replaced with the content of the source file.\n",
    "\n",
    "There are other methods **`copy()`**, **`copy2()`**, and **`copyfileobj()`** which serve the same purpose with some metadata changes.\n",
    "\n",
    "| Method | Preserves Permissions | Supports Directory as Destination | Copies Metadata |Supports file object |\n",
    "|:------:|:------:|:------:|:------:|:------:|\n",
    "|**copy()**       | Yes | Yes | No | No |\n",
    "|**copyfile()**   | No  | No  | No | No |\n",
    "|**copy2()**      | Yes | Yes | Yes| No |\n",
    "|**copyfileobj()**| No  | No  | No | Yes|"
   ]
  },
  {
   "cell_type": "code",
   "execution_count": null,
   "metadata": {},
   "outputs": [],
   "source": []
  }
 ],
 "metadata": {
  "hide_input": false,
  "kernelspec": {
   "display_name": "Python 3",
   "language": "python",
   "name": "python3"
  },
  "language_info": {
   "codemirror_mode": {
    "name": "ipython",
    "version": 3
   },
   "file_extension": ".py",
   "mimetype": "text/x-python",
   "name": "python",
   "nbconvert_exporter": "python",
   "pygments_lexer": "ipython3",
   "version": "3.8.8"
  },
  "toc": {
   "base_numbering": 1,
   "nav_menu": {},
   "number_sections": true,
   "sideBar": true,
   "skip_h1_title": false,
   "title_cell": "Table of Contents",
   "title_sidebar": "Contents",
   "toc_cell": false,
   "toc_position": {},
   "toc_section_display": true,
   "toc_window_display": false
  },
  "varInspector": {
   "cols": {
    "lenName": 16,
    "lenType": 16,
    "lenVar": 40
   },
   "kernels_config": {
    "python": {
     "delete_cmd_postfix": "",
     "delete_cmd_prefix": "del ",
     "library": "var_list.py",
     "varRefreshCmd": "print(var_dic_list())"
    },
    "r": {
     "delete_cmd_postfix": ") ",
     "delete_cmd_prefix": "rm(",
     "library": "var_list.r",
     "varRefreshCmd": "cat(var_dic_list()) "
    }
   },
   "types_to_exclude": [
    "module",
    "function",
    "builtin_function_or_method",
    "instance",
    "_Feature"
   ],
   "window_display": false
  }
 },
 "nbformat": 4,
 "nbformat_minor": 4
}
