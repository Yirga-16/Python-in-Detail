{
 "cells": [
  {
   "cell_type": "markdown",
   "metadata": {},
   "source": [
    "<small><small><i>\n",
    "All the IPython Notebooks in this **Python Examples** series by Dr. Milaan Parmar are available @ **[GitHub](https://github.com/milaan9/90_Python_Examples)**\n",
    "</i></small></small>"
   ]
  },
  {
   "cell_type": "markdown",
   "metadata": {},
   "source": [
    "# Python Program to Catch Multiple Exceptions in One Line\n",
    "\n",
    "In this example, you will learn to catch multiple Python exceptions in one line.\n",
    "\n",
    "To understand this example, you should have the knowledge of the following **[Python programming](https://github.com/milaan9/01_Python_Introduction/blob/main/000_Intro_to_Python.ipynb)** topics:\n",
    "\n",
    "* **[Python Input, Output and Import](https://github.com/milaan9/01_Python_Introduction/blob/main/011_Python_Input_Output_Import.ipynb)**\n",
    "* **[Python Errors and Built-in Exceptions](https://github.com/milaan9/05_Python_Files/blob/main/003_Python_File_Exception.ipynb)**\n",
    "* **[Python Exception Handling Using try, except and finally statement](https://github.com/milaan9/05_Python_Files/blob/main/004_Python_Exceptions_Handling.ipynb)**"
   ]
  },
  {
   "cell_type": "markdown",
   "metadata": {},
   "source": [
    "Multiple exceptions can be caught using a tuple. The errors can be passed through a tuple as shown in example below."
   ]
  },
  {
   "cell_type": "markdown",
   "metadata": {},
   "source": [
    "## Multiple exceptions as a parenthesized tuple"
   ]
  },
  {
   "cell_type": "code",
   "execution_count": 1,
   "metadata": {
    "ExecuteTime": {
     "end_time": "2021-08-07T07:12:43.534475Z",
     "start_time": "2021-08-07T07:12:37.260074Z"
    }
   },
   "outputs": [
    {
     "name": "stdout",
     "output_type": "stream",
     "text": [
      "a\n",
      "3\n",
      "can only concatenate str (not \"int\") to str\n"
     ]
    },
    {
     "data": {
      "text/plain": [
       "'\\n>>Output/Runtime Test Cases:\\n\\na\\n3\\ncan only concatenate str (not \"int\") to str\\n'"
      ]
     },
     "execution_count": 1,
     "metadata": {},
     "output_type": "execute_result"
    }
   ],
   "source": [
    "# Example 1: \n",
    "\n",
    "string = input()\n",
    "\n",
    "try:\n",
    "    num = int(input())\n",
    "    print(string+num)\n",
    "except (TypeError, ValueError) as e:\n",
    "    print(e)\n",
    "    \n",
    "'''\n",
    ">>Output/Runtime Test Cases:\n",
    "\n",
    "a\n",
    "3\n",
    "can only concatenate str (not \"int\") to str\n",
    "'''"
   ]
  },
  {
   "cell_type": "markdown",
   "metadata": {
    "ExecuteTime": {
     "end_time": "2021-08-07T06:44:37.674408Z",
     "start_time": "2021-08-07T06:44:37.359960Z"
    }
   },
   "source": [
    "**Explanation:**\n",
    "\n",
    "Here, we try to catch two types of exceptions **`TypeError`** and **`ValueError`**, which are passed as inside a tuple in the **`except`** block.\n",
    "\n",
    "In the above example, string and an integer cannot be added, so **`TypeError`** is caught.\n",
    "\n",
    "Let's see another example with a different exception."
   ]
  },
  {
   "cell_type": "code",
   "execution_count": 2,
   "metadata": {
    "ExecuteTime": {
     "end_time": "2021-08-07T07:12:47.129684Z",
     "start_time": "2021-08-07T07:12:43.556935Z"
    }
   },
   "outputs": [
    {
     "name": "stdout",
     "output_type": "stream",
     "text": [
      "a\n",
      "b\n",
      "invalid literal for int() with base 10: 'b'\n"
     ]
    },
    {
     "data": {
      "text/plain": [
       "\"\\n>>Output/Runtime Test Cases:\\n\\na\\nb\\ninvalid literal for int() with base 10: 'b'\\n\""
      ]
     },
     "execution_count": 2,
     "metadata": {},
     "output_type": "execute_result"
    }
   ],
   "source": [
    "# Example 1: \n",
    "\n",
    "string = input()\n",
    "\n",
    "try:\n",
    "    num = int(input())\n",
    "    print(string+num)\n",
    "except (TypeError, ValueError) as e:\n",
    "    print(e)\n",
    "    \n",
    "'''\n",
    ">>Output/Runtime Test Cases:\n",
    "\n",
    "a\n",
    "b\n",
    "invalid literal for int() with base 10: 'b'\n",
    "'''"
   ]
  },
  {
   "cell_type": "markdown",
   "metadata": {
    "ExecuteTime": {
     "end_time": "2021-08-07T06:44:37.674408Z",
     "start_time": "2021-08-07T06:44:37.359960Z"
    }
   },
   "source": [
    "**Explanation:**\n",
    "\n",
    "In the above example, the second input should have been an integer, but we passed a string **`b`**. Therefore, **`ValueError`** is raised.\n",
    "\n",
    ">**Note:** The error which comes first is caught as an exception in case of multiple exceptions."
   ]
  },
  {
   "cell_type": "code",
   "execution_count": null,
   "metadata": {},
   "outputs": [],
   "source": []
  }
 ],
 "metadata": {
  "hide_input": false,
  "kernelspec": {
   "display_name": "Python 3",
   "language": "python",
   "name": "python3"
  },
  "language_info": {
   "codemirror_mode": {
    "name": "ipython",
    "version": 3
   },
   "file_extension": ".py",
   "mimetype": "text/x-python",
   "name": "python",
   "nbconvert_exporter": "python",
   "pygments_lexer": "ipython3",
   "version": "3.8.8"
  },
  "toc": {
   "base_numbering": 1,
   "nav_menu": {},
   "number_sections": true,
   "sideBar": true,
   "skip_h1_title": false,
   "title_cell": "Table of Contents",
   "title_sidebar": "Contents",
   "toc_cell": false,
   "toc_position": {},
   "toc_section_display": true,
   "toc_window_display": false
  },
  "varInspector": {
   "cols": {
    "lenName": 16,
    "lenType": 16,
    "lenVar": 40
   },
   "kernels_config": {
    "python": {
     "delete_cmd_postfix": "",
     "delete_cmd_prefix": "del ",
     "library": "var_list.py",
     "varRefreshCmd": "print(var_dic_list())"
    },
    "r": {
     "delete_cmd_postfix": ") ",
     "delete_cmd_prefix": "rm(",
     "library": "var_list.r",
     "varRefreshCmd": "cat(var_dic_list()) "
    }
   },
   "types_to_exclude": [
    "module",
    "function",
    "builtin_function_or_method",
    "instance",
    "_Feature"
   ],
   "window_display": false
  }
 },
 "nbformat": 4,
 "nbformat_minor": 4
}
