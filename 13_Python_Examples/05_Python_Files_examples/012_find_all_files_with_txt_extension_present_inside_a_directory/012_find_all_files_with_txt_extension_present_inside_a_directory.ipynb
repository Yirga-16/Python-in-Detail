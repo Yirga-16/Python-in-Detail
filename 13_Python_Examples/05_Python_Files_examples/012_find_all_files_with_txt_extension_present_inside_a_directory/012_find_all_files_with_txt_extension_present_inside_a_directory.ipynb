{
 "cells": [
  {
   "cell_type": "markdown",
   "metadata": {},
   "source": [
    "<small><small><i>\n",
    "All the IPython Notebooks in this **Python Examples** series by Dr. Milaan Parmar are available @ **[GitHub](https://github.com/milaan9/90_Python_Examples)**\n",
    "</i></small></small>"
   ]
  },
  {
   "cell_type": "markdown",
   "metadata": {},
   "source": [
    "# Python Program to Find All File with .txt Extension Present Inside a Directory\n",
    "\n",
    "In this example, you will learn to find all files with .txt extension present inside a directory.\n",
    "\n",
    "To understand this example, you should have the knowledge of the following **[Python programming](https://github.com/milaan9/01_Python_Introduction/blob/main/000_Intro_to_Python.ipynb)** topics:\n",
    "\n",
    "* **[Python File I/O](https://github.com/milaan9/05_Python_Files/blob/main/001_Python_File_Input_Output.ipynb)**\n",
    "* **[Python Directory and Files Management](https://github.com/milaan9/05_Python_Files/blob/main/002_Python_File_Directory.ipynb)**\n",
    "* **[Python for Loop](https://github.com/milaan9/03_Python_Flow_Control/blob/main/005_Python_for_Loop.ipynb)**"
   ]
  },
  {
   "cell_type": "code",
   "execution_count": null,
   "metadata": {},
   "outputs": [],
   "source": [
    "# Example 1: Using glob\n",
    "\n",
    "import glob, os\n",
    "\n",
    "os.chdir(\"my_dir\") # path ('/path/my_dir')\n",
    "\n",
    "for file in glob.glob(\"*.txt\"):\n",
    "    print(file)\n",
    "\n",
    "'''\n",
    ">>Output/Runtime Test Cases:\n",
    "\n",
    "test_file3.txt\n",
    "test_file2.txt\n",
    "test_file1.txt\n",
    "'''"
   ]
  },
  {
   "cell_type": "markdown",
   "metadata": {
    "ExecuteTime": {
     "end_time": "2021-08-07T06:44:37.674408Z",
     "start_time": "2021-08-07T06:44:37.359960Z"
    }
   },
   "source": [
    "**Explanation:**\n",
    "\n",
    "Using **`glob`** module, you can search for files with certain extensions.\n",
    "\n",
    "* **`os.chdir(\"my_dir\")`** sets the current working directory to **`/my_dir`**.\n",
    "* Using a for loop, you can search for files with **`.txt`** extension using **`glob()`**.\n",
    "* **`*`** denotes all files with a given extension."
   ]
  },
  {
   "cell_type": "code",
   "execution_count": null,
   "metadata": {},
   "outputs": [],
   "source": [
    "# Example 2: Using os\n",
    "\n",
    "import os\n",
    "\n",
    "for file in os.listdir(\"my_dir\"):  # path ('/path/my_dir')\n",
    "    if file.endswith(\".txt\"):\n",
    "        print(file)\n",
    "\n",
    "'''\n",
    ">>Output/Runtime Test Cases:\n",
    "\n",
    "test_file1.txt\n",
    "test_file2.txt\n",
    "test_file3.txt\n",
    "'''"
   ]
  },
  {
   "cell_type": "markdown",
   "metadata": {
    "ExecuteTime": {
     "end_time": "2021-08-07T06:44:37.674408Z",
     "start_time": "2021-08-07T06:44:37.359960Z"
    }
   },
   "source": [
    "**Explanation:**\n",
    "\n",
    "In this example, we use **`endswith()`** method to check the **`.txt`** extension.\n",
    "\n",
    "* Using a **`for`** loop, iterate through each file of directory **`/my_dir`**.\n",
    "* Check if the file has extension **`.txt`** using **`endswith()`**."
   ]
  },
  {
   "cell_type": "code",
   "execution_count": null,
   "metadata": {},
   "outputs": [],
   "source": [
    "# Example 3: Using os.walk\n",
    "\n",
    "import os\n",
    "\n",
    "for root, dirs, files in os.walk(\"my_dir\"):  # path ('/path/my_dir')\n",
    "    for file in files:\n",
    "        if file.endswith(\".txt\"):\n",
    "            print(file)\n",
    "\n",
    "'''\n",
    ">>Output/Runtime Test Cases:\n",
    "\n",
    "test_file3.txt\n",
    "test_file2.txt\n",
    "test_file1.txt\n",
    "'''"
   ]
  },
  {
   "cell_type": "markdown",
   "metadata": {
    "ExecuteTime": {
     "end_time": "2021-08-07T06:44:37.674408Z",
     "start_time": "2021-08-07T06:44:37.359960Z"
    }
   },
   "source": [
    "**Explanation:**\n",
    "\n",
    "This example uses the **`walk()`** method of the **`os`** module.\n",
    "\n",
    "* Using a **`for`** loop, iterate through each files of **`my_dir`**.\n",
    "* Check if the file has extension **`.txt`** using **`endswith()`**."
   ]
  },
  {
   "cell_type": "code",
   "execution_count": null,
   "metadata": {},
   "outputs": [],
   "source": []
  }
 ],
 "metadata": {
  "hide_input": false,
  "kernelspec": {
   "display_name": "Python 3",
   "language": "python",
   "name": "python3"
  },
  "language_info": {
   "codemirror_mode": {
    "name": "ipython",
    "version": 3
   },
   "file_extension": ".py",
   "mimetype": "text/x-python",
   "name": "python",
   "nbconvert_exporter": "python",
   "pygments_lexer": "ipython3",
   "version": "3.8.8"
  },
  "toc": {
   "base_numbering": 1,
   "nav_menu": {},
   "number_sections": true,
   "sideBar": true,
   "skip_h1_title": false,
   "title_cell": "Table of Contents",
   "title_sidebar": "Contents",
   "toc_cell": false,
   "toc_position": {},
   "toc_section_display": true,
   "toc_window_display": false
  },
  "varInspector": {
   "cols": {
    "lenName": 16,
    "lenType": 16,
    "lenVar": 40
   },
   "kernels_config": {
    "python": {
     "delete_cmd_postfix": "",
     "delete_cmd_prefix": "del ",
     "library": "var_list.py",
     "varRefreshCmd": "print(var_dic_list())"
    },
    "r": {
     "delete_cmd_postfix": ") ",
     "delete_cmd_prefix": "rm(",
     "library": "var_list.r",
     "varRefreshCmd": "cat(var_dic_list()) "
    }
   },
   "types_to_exclude": [
    "module",
    "function",
    "builtin_function_or_method",
    "instance",
    "_Feature"
   ],
   "window_display": false
  }
 },
 "nbformat": 4,
 "nbformat_minor": 4
}
