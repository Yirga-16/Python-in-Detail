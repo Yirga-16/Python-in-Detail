{
 "cells": [
  {
   "cell_type": "markdown",
   "metadata": {},
   "source": [
    "<small><small><i>\n",
    "All the IPython Notebooks in this **Python Examples** series by Dr. Milaan Parmar are available @ **[GitHub](https://github.com/milaan9/90_Python_Examples)**\n",
    "</i></small></small>"
   ]
  },
  {
   "cell_type": "markdown",
   "metadata": {},
   "source": [
    "# Python Program to Find the Size (Resolution) of a Image\n",
    "\n",
    "You will learn to find resolution of a jpeg image in this example without using external libraries\n",
    "\n",
    "To understand this example, you should have the knowledge of the following **[Python programming](https://github.com/milaan9/01_Python_Introduction/blob/main/000_Intro_to_Python.ipynb)** topics:\n",
    "\n",
    "* **[Python Functions](https://github.com/milaan9/04_Python_Functions/blob/main/001_Python_Functions.ipynb)**\n",
    "* **[Python User-defined Functions](https://github.com/milaan9/04_Python_Functions/blob/main/Python_User_defined_Functions.ipynb)**\n",
    "* **[Python File I/O](https://github.com/milaan9/05_Python_Files/blob/main/001_Python_File_Input_Output.ipynb)**"
   ]
  },
  {
   "cell_type": "markdown",
   "metadata": {},
   "source": [
    "PNG stands for \"Portable Graphics Format\". It is the most frequently used uncompressed raster image format on the internet. This lossless data compression format was created to replace the Graphics Interchange Format (GIF). PNG file format is an open format with no copyright limitations.\n",
    "\n",
    "JPEG (pronounced \"jay-peg\") stands for \"**J**oint **P**hotographic **E**xperts **G**roup\". It is one of the most widely used compression techniques for image compression.\n",
    "\n",
    "Most of the file formats have headers (initial few bytes) which contain useful information about the file.\n",
    "\n",
    "For example, png and jpeg headers contain information like height, width, number of color (grayscale or RGB) etc. In this program, we find the resolution of a jpeg image reading these headers, without using any external library.\n",
    "\n",
    "For this exaple, we'll use the image shown below ↴\n",
    "\n",
    "<div>\n",
    "<img src=\"jupyter.jpg\" width=\"300\"/>\n",
    "</div>"
   ]
  },
  {
   "cell_type": "code",
   "execution_count": 1,
   "metadata": {
    "ExecuteTime": {
     "end_time": "2021-08-06T05:02:06.946982Z",
     "start_time": "2021-08-06T05:02:06.850303Z"
    }
   },
   "outputs": [
    {
     "name": "stdout",
     "output_type": "stream",
     "text": [
      "The resolution of the image is 24017 x 34907\n",
      "The resolution of the image is 250 x 40960\n"
     ]
    },
    {
     "data": {
      "text/plain": [
       "'\\n>>Output/Runtime Test Cases:\\n\\nThe resolution of the image is 24017 x 34907\\nThe resolution of the image is 250 x 40960\\n'"
      ]
     },
     "execution_count": 1,
     "metadata": {},
     "output_type": "execute_result"
    }
   ],
   "source": [
    "# Example 1: Find Resolution of ➜ PNG/JPEG Image\n",
    "\n",
    "def image_res(filename):\n",
    "   \"\"\"\"This function prints the resolution of the jpeg image file passed into it\"\"\"\n",
    "\n",
    "   # open image for reading in binary mode\n",
    "   with open(filename,'rb') as img_file:\n",
    "\n",
    "       # height of image (in 2 bytes) is at 164th position\n",
    "       img_file.seek(163)\n",
    "\n",
    "       # read the 2 bytes\n",
    "       a = img_file.read(2)\n",
    "\n",
    "       # calculate height\n",
    "       height = (a[0] << 8) + a[1]\n",
    "\n",
    "       # next 2 bytes is width\n",
    "       a = img_file.read(2)\n",
    "\n",
    "       # calculate width\n",
    "       width = (a[0] << 8) + a[1]\n",
    "\n",
    "   print(\"The resolution of the image is\", width, \"x\", height)\n",
    "\n",
    "image_res(\"jupyter.png\")  # For .png image  \n",
    "image_res(\"jupyter.jpg\")  # For .jpg image\n",
    "\n",
    "'''\n",
    ">>Output/Runtime Test Cases:\n",
    "\n",
    "The resolution of the image is 24017 x 34907\n",
    "The resolution of the image is 250 x 40960\n",
    "'''"
   ]
  },
  {
   "cell_type": "markdown",
   "metadata": {},
   "source": [
    "**Explanation:**\n",
    "\n",
    "In this program, we opened the image in binary mode. Non-text files must be open in this mode. The height of the image is at 164th position followed by width of the image. Both are 2 bytes long.\n",
    "\n",
    "Note that this is true only for PNG and JPEG File Interchange Format (JFIF) standard. If your image is encode using other standard (like EXIF), the code will not work.\n",
    "\n",
    "We convert the 2 bytes into a number using bitwise shifting operator <<. Finally, the resolution is displayed."
   ]
  },
  {
   "cell_type": "code",
   "execution_count": null,
   "metadata": {},
   "outputs": [],
   "source": []
  }
 ],
 "metadata": {
  "hide_input": false,
  "kernelspec": {
   "display_name": "Python 3",
   "language": "python",
   "name": "python3"
  },
  "language_info": {
   "codemirror_mode": {
    "name": "ipython",
    "version": 3
   },
   "file_extension": ".py",
   "mimetype": "text/x-python",
   "name": "python",
   "nbconvert_exporter": "python",
   "pygments_lexer": "ipython3",
   "version": "3.8.8"
  },
  "toc": {
   "base_numbering": 1,
   "nav_menu": {},
   "number_sections": true,
   "sideBar": true,
   "skip_h1_title": false,
   "title_cell": "Table of Contents",
   "title_sidebar": "Contents",
   "toc_cell": false,
   "toc_position": {},
   "toc_section_display": true,
   "toc_window_display": false
  },
  "varInspector": {
   "cols": {
    "lenName": 16,
    "lenType": 16,
    "lenVar": 40
   },
   "kernels_config": {
    "python": {
     "delete_cmd_postfix": "",
     "delete_cmd_prefix": "del ",
     "library": "var_list.py",
     "varRefreshCmd": "print(var_dic_list())"
    },
    "r": {
     "delete_cmd_postfix": ") ",
     "delete_cmd_prefix": "rm(",
     "library": "var_list.r",
     "varRefreshCmd": "cat(var_dic_list()) "
    }
   },
   "types_to_exclude": [
    "module",
    "function",
    "builtin_function_or_method",
    "instance",
    "_Feature"
   ],
   "window_display": false
  }
 },
 "nbformat": 4,
 "nbformat_minor": 4
}
