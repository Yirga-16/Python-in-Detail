{
 "cells": [
  {
   "cell_type": "markdown",
   "metadata": {},
   "source": [
    "<small><small><i>\n",
    "All the IPython Notebooks in this **Python Examples** series by Dr. Milaan Parmar are available @ **[GitHub](https://github.com/milaan9/90_Python_Examples)**\n",
    "</i></small></small>"
   ]
  },
  {
   "cell_type": "markdown",
   "metadata": {},
   "source": [
    "# Python Program to Read a File Line by Line Into a List\n",
    "\n",
    "In this example, you will learn to read a file line by line into a list.\n",
    "\n",
    "To understand this example, you should have the knowledge of the following **[Python programming](https://github.com/milaan9/01_Python_Introduction/blob/main/000_Intro_to_Python.ipynb)** topics:\n",
    "\n",
    "* **[Python File I/O](https://github.com/milaan9/05_Python_Files/blob/main/001_Python_File_Input_Output.ipynb)**"
   ]
  },
  {
   "cell_type": "markdown",
   "metadata": {},
   "source": [
    "Let the content of the file **`vaccine_data.txt`** be:\n",
    "\n",
    "```\n",
    "Small-Pox Edward-Jenner England-1796\n",
    "Cholera Louis-Pasteur France-1880\n",
    "Polio Jones-Salk US-1952\n",
    "```\n",
    "\n",
    ">**Note:** **`vaccine_data.csv`** file contains the complete list."
   ]
  },
  {
   "cell_type": "markdown",
   "metadata": {},
   "source": [
    "## Using shutil module"
   ]
  },
  {
   "cell_type": "code",
   "execution_count": 1,
   "metadata": {
    "ExecuteTime": {
     "end_time": "2021-08-07T08:41:56.933440Z",
     "start_time": "2021-08-07T08:41:56.910008Z"
    }
   },
   "outputs": [
    {
     "name": "stdout",
     "output_type": "stream",
     "text": [
      "['Small-Pox Edward-Jenner England-1796\\n', 'Cholera Louis-Pasteur France-1880\\n', 'Polio Jones-Salk US-1952\\n', '\\n'] \n",
      "\n",
      "['Small-Pox Edward-Jenner England-1796', 'Cholera Louis-Pasteur France-1880', 'Polio Jones-Salk US-1952', '']\n"
     ]
    }
   ],
   "source": [
    "# Example 1: \n",
    "\n",
    "#with open(\"vaccine_data.csv\") as f:\n",
    "with open(\"vaccine_data.txt\") as f:\n",
    "    content_list = f.readlines()\n",
    "\n",
    "# print the list\n",
    "print(content_list, \"\\n\")\n",
    "\n",
    "# remove new line characters\n",
    "content_list = [x.strip() for x in content_list]\n",
    "print(content_list)"
   ]
  },
  {
   "cell_type": "markdown",
   "metadata": {
    "ExecuteTime": {
     "end_time": "2021-08-07T06:44:37.674408Z",
     "start_time": "2021-08-07T06:44:37.359960Z"
    }
   },
   "source": [
    "**Explanation:**\n",
    "\n",
    "**`readlines()`** returns a list of lines from the file.\n",
    "\n",
    "First, open the file and read the file using **`readlines()`**.\n",
    "If you want to remove the new lines **`\\n`**, you can use **`strip()`**."
   ]
  },
  {
   "cell_type": "code",
   "execution_count": 2,
   "metadata": {
    "ExecuteTime": {
     "end_time": "2021-08-07T08:41:57.070647Z",
     "start_time": "2021-08-07T08:41:56.936373Z"
    }
   },
   "outputs": [
    {
     "name": "stdout",
     "output_type": "stream",
     "text": [
      "['Small-Pox Edward-Jenner England-1796\\n', 'Cholera Louis-Pasteur France-1880\\n', 'Polio Jones-Salk US-1952\\n', '\\n'] \n",
      "\n",
      "['Small-Pox Edward-Jenner England-1796', 'Cholera Louis-Pasteur France-1880', 'Polio Jones-Salk US-1952', '']\n"
     ]
    }
   ],
   "source": [
    "# Example 2: Using for loop and list comprehension\n",
    "\n",
    "#with open(\"vaccine_data.csv\") as f:\n",
    "with open(\"vaccine_data.txt\") as f:\n",
    "    content_list = [line for line in f]\n",
    "\n",
    "print(content_list, \"\\n\")\n",
    "\n",
    "# removing the characters\n",
    "#with open(\"vaccine_data.csv\") as f:\n",
    "with open(\"vaccine_data.txt\") as f:\n",
    "    content_list = [line.rstrip() for line in f]\n",
    "\n",
    "print(content_list)"
   ]
  },
  {
   "cell_type": "markdown",
   "metadata": {
    "ExecuteTime": {
     "end_time": "2021-08-07T06:44:37.674408Z",
     "start_time": "2021-08-07T06:44:37.359960Z"
    }
   },
   "source": [
    "**Explanation:**\n",
    "\n",
    "Another way to achieve the same thing is using a for loop. In each iteration, you can read each line of **`f`** object and store it in **`content_list`** as shown in the example above."
   ]
  },
  {
   "cell_type": "code",
   "execution_count": null,
   "metadata": {},
   "outputs": [],
   "source": []
  }
 ],
 "metadata": {
  "hide_input": false,
  "kernelspec": {
   "display_name": "Python 3",
   "language": "python",
   "name": "python3"
  },
  "language_info": {
   "codemirror_mode": {
    "name": "ipython",
    "version": 3
   },
   "file_extension": ".py",
   "mimetype": "text/x-python",
   "name": "python",
   "nbconvert_exporter": "python",
   "pygments_lexer": "ipython3",
   "version": "3.8.8"
  },
  "toc": {
   "base_numbering": 1,
   "nav_menu": {},
   "number_sections": true,
   "sideBar": true,
   "skip_h1_title": false,
   "title_cell": "Table of Contents",
   "title_sidebar": "Contents",
   "toc_cell": false,
   "toc_position": {},
   "toc_section_display": true,
   "toc_window_display": false
  },
  "varInspector": {
   "cols": {
    "lenName": 16,
    "lenType": 16,
    "lenVar": 40
   },
   "kernels_config": {
    "python": {
     "delete_cmd_postfix": "",
     "delete_cmd_prefix": "del ",
     "library": "var_list.py",
     "varRefreshCmd": "print(var_dic_list())"
    },
    "r": {
     "delete_cmd_postfix": ") ",
     "delete_cmd_prefix": "rm(",
     "library": "var_list.r",
     "varRefreshCmd": "cat(var_dic_list()) "
    }
   },
   "types_to_exclude": [
    "module",
    "function",
    "builtin_function_or_method",
    "instance",
    "_Feature"
   ],
   "window_display": false
  }
 },
 "nbformat": 4,
 "nbformat_minor": 4
}
