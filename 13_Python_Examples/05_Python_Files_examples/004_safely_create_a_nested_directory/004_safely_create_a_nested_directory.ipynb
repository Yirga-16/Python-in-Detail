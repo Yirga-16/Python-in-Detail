{
 "cells": [
  {
   "cell_type": "markdown",
   "metadata": {},
   "source": [
    "<small><small><i>\n",
    "All the IPython Notebooks in this **Python Examples** series by Dr. Milaan Parmar are available @ **[GitHub](https://github.com/milaan9/90_Python_Examples)**\n",
    "</i></small></small>"
   ]
  },
  {
   "cell_type": "markdown",
   "metadata": {},
   "source": [
    "# Python Program to Safely Create a Nested Directory\n",
    "\n",
    "In this example, you will learn to safely create a nested directory using Python.\n",
    "\n",
    "To understand this example, you should have the knowledge of the following **[Python programming](https://github.com/milaan9/01_Python_Introduction/blob/main/000_Intro_to_Python.ipynb)** topics:\n",
    "\n",
    "* **[Python Directory and Files Management](https://github.com/milaan9/05_Python_Files/blob/main/002_Python_File_Directory.ipynb)**\n",
    "* **[Python Modules](https://github.com/milaan9/04_Python_Functions/blob/main/007_Python_Function_Module.ipynb)**\n",
    "* **[Python Exception Handling Using try, except and finally statement](https://github.com/milaan9/05_Python_Files/blob/main/004_Python_Exceptions_Handling.ipynb)**"
   ]
  },
  {
   "cell_type": "markdown",
   "metadata": {},
   "source": [
    "There are different ways to create a nested directory depending on the versions of python you are using. For this example, we will create directories as shown in the image below.\n",
    "\n",
    "<div>\n",
    "<img src=\"img/subDir.png\" width=\"350\"/>\n",
    "</div>"
   ]
  },
  {
   "cell_type": "code",
   "execution_count": null,
   "metadata": {},
   "outputs": [],
   "source": [
    "# Example 1: Using pathlib.Path.mkdir\n",
    "\n",
    "from pathlib import Path\n",
    "Path(\"/root/dirA/dirB\").mkdir(parents=True, exist_ok=True)"
   ]
  },
  {
   "cell_type": "markdown",
   "metadata": {
    "ExecuteTime": {
     "end_time": "2021-08-07T06:44:37.674408Z",
     "start_time": "2021-08-07T06:44:37.359960Z"
    }
   },
   "source": [
    "**Explanation:**\n",
    "\n",
    "For python 3.5 and above, you can use **`pathlib.Path.mkdir`** to create a nested directory.\n",
    "\n",
    "* Import class **`Path`** from **`pathlib`** library.\n",
    "* Call the module **`mkdir()` with two arguments parents and **`exist_ok`**.\n",
    "* By default, **`parents`** is set **`False`**. In this case, if the parent directory is not present, then **`FileNotFoundError`** is thrown. For example, if you want to create a nested directory **`/folder1/folder2/folder3`**, and **`folder1`** (parent) does not exist already, then **`FileNotFoundError`** is raised by default. So, we set it to **`True`**.\n",
    "* **`exist_ok`** is **`False`** by default. If the directory already exists, **`FileExistsError`** is raised. Set it to **`True`** to prevent this error.\n",
    "\n",
    ">**Note:** You should provide the full path **(absolute path)** of the directory (not relative path). If the directory already exists, the above code does not raise an exception."
   ]
  },
  {
   "cell_type": "code",
   "execution_count": null,
   "metadata": {},
   "outputs": [],
   "source": [
    "# Example 2: Using os.makedirs\n",
    "\n",
    "import os\n",
    "os.makedirs(\"/root/dirA/dirB\")"
   ]
  },
  {
   "cell_type": "markdown",
   "metadata": {
    "ExecuteTime": {
     "end_time": "2021-08-07T06:44:37.674408Z",
     "start_time": "2021-08-07T06:44:37.359960Z"
    }
   },
   "source": [
    "**Explanation:**\n",
    "\n",
    "For python 3.2 and above, you can use **`os.makedirs`**.\n",
    "\n",
    "* Using method **`makedirs()`** from module **`os`**, a nested directory can be created in a simple way.\n",
    "* The parameter passed is the nested directory we wanted to create.\n",
    "\n",
    ">**Note:** You should provide the full path **(absolute path)** of the directory (not relative path). If the directory already exists, the above code does not raise an exception."
   ]
  },
  {
   "cell_type": "code",
   "execution_count": null,
   "metadata": {},
   "outputs": [],
   "source": [
    "# Example 3: Using distutils.dir_util\n",
    "\n",
    "import distutils.dir_util\n",
    "distutils.dir_util.mkpath(\"/root/dirA/dirB\")"
   ]
  },
  {
   "cell_type": "markdown",
   "metadata": {
    "ExecuteTime": {
     "end_time": "2021-08-07T06:44:37.674408Z",
     "start_time": "2021-08-07T06:44:37.359960Z"
    }
   },
   "source": [
    "**Explanation:**\n",
    "\n",
    "This example is also similar to **Example 2**. Here **`mkpath()`** is used instead of **`makedirs()`**.\n",
    "\n",
    ">**Note:** You should provide the full path **(absolute path)** of the directory (not relative path). If the directory already exists, the above code does not raise an exception."
   ]
  },
  {
   "cell_type": "code",
   "execution_count": null,
   "metadata": {},
   "outputs": [],
   "source": [
    "# Example 4: Raising an exception if directory already exists\n",
    "\n",
    "import os\n",
    "\n",
    "try:\n",
    "    os.makedirs(\"/dirA/dirB\")\n",
    "except FileExistsError:\n",
    "    print(\"File already exists\")"
   ]
  },
  {
   "cell_type": "markdown",
   "metadata": {
    "ExecuteTime": {
     "end_time": "2021-08-07T06:44:37.674408Z",
     "start_time": "2021-08-07T06:44:37.359960Z"
    }
   },
   "source": [
    "**Explanation:**\n",
    "\n",
    "This example is similar to **Example 2**.\n",
    "\n",
    "* The statement is put inside the **`try`** block.\n",
    "* If the directory is already present, **`FileExistsError`** is caught by the **`except`** block and runs the statements inside the block.\n",
    "\n",
    ">**Note:** You should provide the full path **(absolute path)** of the directory (not relative path). If the directory already exists, the above code does not raise an exception."
   ]
  },
  {
   "cell_type": "code",
   "execution_count": null,
   "metadata": {},
   "outputs": [],
   "source": []
  }
 ],
 "metadata": {
  "hide_input": false,
  "kernelspec": {
   "display_name": "Python 3",
   "language": "python",
   "name": "python3"
  },
  "language_info": {
   "codemirror_mode": {
    "name": "ipython",
    "version": 3
   },
   "file_extension": ".py",
   "mimetype": "text/x-python",
   "name": "python",
   "nbconvert_exporter": "python",
   "pygments_lexer": "ipython3",
   "version": "3.8.8"
  },
  "toc": {
   "base_numbering": 1,
   "nav_menu": {},
   "number_sections": true,
   "sideBar": true,
   "skip_h1_title": false,
   "title_cell": "Table of Contents",
   "title_sidebar": "Contents",
   "toc_cell": false,
   "toc_position": {},
   "toc_section_display": true,
   "toc_window_display": false
  },
  "varInspector": {
   "cols": {
    "lenName": 16,
    "lenType": 16,
    "lenVar": 40
   },
   "kernels_config": {
    "python": {
     "delete_cmd_postfix": "",
     "delete_cmd_prefix": "del ",
     "library": "var_list.py",
     "varRefreshCmd": "print(var_dic_list())"
    },
    "r": {
     "delete_cmd_postfix": ") ",
     "delete_cmd_prefix": "rm(",
     "library": "var_list.r",
     "varRefreshCmd": "cat(var_dic_list()) "
    }
   },
   "types_to_exclude": [
    "module",
    "function",
    "builtin_function_or_method",
    "instance",
    "_Feature"
   ],
   "window_display": false
  }
 },
 "nbformat": 4,
 "nbformat_minor": 4
}
