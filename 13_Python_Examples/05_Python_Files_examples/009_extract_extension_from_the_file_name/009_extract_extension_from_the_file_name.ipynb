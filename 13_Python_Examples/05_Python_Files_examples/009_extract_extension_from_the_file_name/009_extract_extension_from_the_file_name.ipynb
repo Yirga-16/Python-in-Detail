{
 "cells": [
  {
   "cell_type": "markdown",
   "metadata": {},
   "source": [
    "<small><small><i>\n",
    "All the IPython Notebooks in this **Python Examples** series by Dr. Milaan Parmar are available @ **[GitHub](https://github.com/milaan9/90_Python_Examples)**\n",
    "</i></small></small>"
   ]
  },
  {
   "cell_type": "markdown",
   "metadata": {},
   "source": [
    "# Python Program to Extract Extension From the File Name\n",
    "\n",
    "In this example, you will learn to extract extension from the file name.\n",
    "\n",
    "To understand this example, you should have the knowledge of the following **[Python programming](https://github.com/milaan9/01_Python_Introduction/blob/main/000_Intro_to_Python.ipynb)** topics:\n",
    "\n",
    "* **[Python Directory and Files Management](https://github.com/milaan9/05_Python_Files/blob/main/002_Python_File_Directory.ipynb)**\n",
    "* **[Python File I/O](https://github.com/milaan9/05_Python_Files/blob/main/001_Python_File_Input_Output.ipynb)**"
   ]
  },
  {
   "cell_type": "markdown",
   "metadata": {},
   "source": [
    "## Open file in append mode and write to it"
   ]
  },
  {
   "cell_type": "code",
   "execution_count": 1,
   "metadata": {
    "ExecuteTime": {
     "end_time": "2021-08-07T09:04:55.666856Z",
     "start_time": "2021-08-07T09:04:55.636101Z"
    }
   },
   "outputs": [
    {
     "name": "stdout",
     "output_type": "stream",
     "text": [
      "('vaccine_data', '.txt')\n",
      ".txt\n"
     ]
    },
    {
     "data": {
      "text/plain": [
       "\"\\n>>Output/Runtime Test Cases:\\n\\n('vaccine_data', '.txt')\\n.txt\\n\""
      ]
     },
     "execution_count": 1,
     "metadata": {},
     "output_type": "execute_result"
    }
   ],
   "source": [
    "# Example 1: Using splitext() method from os module\n",
    "\n",
    "import os\n",
    "file_details = os.path.splitext('vaccine_data.txt') # path ('/path/file.ext')\n",
    "print(file_details)\n",
    "print(file_details[1])\n",
    "\n",
    "'''\n",
    ">>Output/Runtime Test Cases:\n",
    "\n",
    "('vaccine_data', '.txt')\n",
    ".txt\n",
    "'''"
   ]
  },
  {
   "cell_type": "markdown",
   "metadata": {
    "ExecuteTime": {
     "end_time": "2021-08-07T06:44:37.674408Z",
     "start_time": "2021-08-07T06:44:37.359960Z"
    }
   },
   "source": [
    "**Explanation:**\n",
    "\n",
    "**`os.path.splitext()`** gives a tuple with one item as the name of the file along with the path and the other is the extension of the file. If you want the file extension only, you can print it as shown above **`file_details[1]`**."
   ]
  },
  {
   "cell_type": "code",
   "execution_count": 2,
   "metadata": {
    "ExecuteTime": {
     "end_time": "2021-08-07T09:04:55.744497Z",
     "start_time": "2021-08-07T09:04:55.668814Z"
    }
   },
   "outputs": [
    {
     "name": "stdout",
     "output_type": "stream",
     "text": [
      ".txt\n"
     ]
    },
    {
     "data": {
      "text/plain": [
       "'\\n>>Output/Runtime Test Cases:\\n\\n.txt\\n'"
      ]
     },
     "execution_count": 2,
     "metadata": {},
     "output_type": "execute_result"
    }
   ],
   "source": [
    "# Example 2: Using pathlib module\n",
    "\n",
    "import pathlib\n",
    "print(pathlib.Path('vaccine_data.txt').suffix) # path ('/path/file.ext')\n",
    "\n",
    "'''\n",
    ">>Output/Runtime Test Cases:\n",
    "\n",
    ".txt\n",
    "'''"
   ]
  },
  {
   "cell_type": "markdown",
   "metadata": {
    "ExecuteTime": {
     "end_time": "2021-08-07T06:44:37.674408Z",
     "start_time": "2021-08-07T06:44:37.359960Z"
    }
   },
   "source": [
    "**Explanation:**\n",
    "\n",
    "Using **`suffix`** attribute from **`pathlib`** module, we can get the extension of a file. In the above example, **`.ext`** is the extension of file **`file.ext`**.\n",
    "\n",
    ">**Note:** It works for python 3.4 and above."
   ]
  },
  {
   "cell_type": "code",
   "execution_count": null,
   "metadata": {},
   "outputs": [],
   "source": []
  }
 ],
 "metadata": {
  "hide_input": false,
  "kernelspec": {
   "display_name": "Python 3",
   "language": "python",
   "name": "python3"
  },
  "language_info": {
   "codemirror_mode": {
    "name": "ipython",
    "version": 3
   },
   "file_extension": ".py",
   "mimetype": "text/x-python",
   "name": "python",
   "nbconvert_exporter": "python",
   "pygments_lexer": "ipython3",
   "version": "3.8.8"
  },
  "toc": {
   "base_numbering": 1,
   "nav_menu": {},
   "number_sections": true,
   "sideBar": true,
   "skip_h1_title": false,
   "title_cell": "Table of Contents",
   "title_sidebar": "Contents",
   "toc_cell": false,
   "toc_position": {},
   "toc_section_display": true,
   "toc_window_display": false
  },
  "varInspector": {
   "cols": {
    "lenName": 16,
    "lenType": 16,
    "lenVar": 40
   },
   "kernels_config": {
    "python": {
     "delete_cmd_postfix": "",
     "delete_cmd_prefix": "del ",
     "library": "var_list.py",
     "varRefreshCmd": "print(var_dic_list())"
    },
    "r": {
     "delete_cmd_postfix": ") ",
     "delete_cmd_prefix": "rm(",
     "library": "var_list.r",
     "varRefreshCmd": "cat(var_dic_list()) "
    }
   },
   "types_to_exclude": [
    "module",
    "function",
    "builtin_function_or_method",
    "instance",
    "_Feature"
   ],
   "window_display": false
  }
 },
 "nbformat": 4,
 "nbformat_minor": 4
}
