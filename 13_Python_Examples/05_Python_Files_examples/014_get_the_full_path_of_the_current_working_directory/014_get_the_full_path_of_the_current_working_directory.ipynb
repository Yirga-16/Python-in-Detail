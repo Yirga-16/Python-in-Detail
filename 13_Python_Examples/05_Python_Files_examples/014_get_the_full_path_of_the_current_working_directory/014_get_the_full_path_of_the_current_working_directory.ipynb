{
 "cells": [
  {
   "cell_type": "markdown",
   "metadata": {},
   "source": [
    "<small><small><i>\n",
    "All the IPython Notebooks in this **Python Examples** series by Dr. Milaan Parmar are available @ **[GitHub](https://github.com/milaan9/90_Python_Examples)**\n",
    "</i></small></small>"
   ]
  },
  {
   "cell_type": "markdown",
   "metadata": {},
   "source": [
    "# Python Program to Get the Full Path of the Current Working Directory\n",
    "\n",
    "In this example, you will learn to get the full path of the current working directory.\n",
    "\n",
    "To understand this example, you should have the knowledge of the following **[Python programming](https://github.com/milaan9/01_Python_Introduction/blob/main/000_Intro_to_Python.ipynb)** topics:\n",
    "\n",
    "* **[Python File I/O](https://github.com/milaan9/05_Python_Files/blob/main/001_Python_File_Input_Output.ipynb)**\n",
    "* **[Python Directory and Files Management](https://github.com/milaan9/05_Python_Files/blob/main/002_Python_File_Directory.ipynb)**"
   ]
  },
  {
   "cell_type": "code",
   "execution_count": null,
   "metadata": {},
   "outputs": [],
   "source": [
    "# Example 1: Using pathlib module\n",
    "\n",
    "import pathlib\n",
    "\n",
    "# path of the given file\n",
    "print(pathlib.Path(\"my_file.txt\").parent.absolute())\n",
    "\n",
    "# current working directory\n",
    "print(pathlib.Path().absolute())\n",
    "\n",
    "'''\n",
    ">>Output/Runtime Test Cases:\n",
    "\n",
    "/Users/username\n",
    "/Users/username\n",
    "'''"
   ]
  },
  {
   "cell_type": "markdown",
   "metadata": {
    "ExecuteTime": {
     "end_time": "2021-08-07T06:44:37.674408Z",
     "start_time": "2021-08-07T06:44:37.359960Z"
    }
   },
   "source": [
    "**Explanation:**\n",
    "\n",
    "Using the **`pathlib`** module, you can get the current working directory.\n",
    "\n",
    "* Pass the file's name in **`Path()`** method.\n",
    "* **`parent`** gives the logical parent of the path and **`absolute()`** gives the absolute path of the file.\n",
    "* **`pathlib.Path().absolute()`** gives the current working directory."
   ]
  },
  {
   "cell_type": "code",
   "execution_count": null,
   "metadata": {},
   "outputs": [],
   "source": [
    "# Example 2: Using os module\n",
    "\n",
    "import os\n",
    "\n",
    "# path of the given file\n",
    "print(os.path.dirname(os.path.abspath(\"my_file.txt\")))\n",
    "\n",
    "# current working directory\n",
    "print(os.path.abspath(os.getcwd()))\n",
    "\n",
    "'''\n",
    ">>Output/Runtime Test Cases:\n",
    "\n",
    "/Users/username\n",
    "/Users/username\n",
    "'''"
   ]
  },
  {
   "cell_type": "markdown",
   "metadata": {
    "ExecuteTime": {
     "end_time": "2021-08-07T06:44:37.674408Z",
     "start_time": "2021-08-07T06:44:37.359960Z"
    }
   },
   "source": [
    "**Explanation:**\n",
    "\n",
    "You can do the same thing with the **`os`** module.\n",
    "\n",
    "* Use **`abspath()`** method to get an absolute path.\n",
    "* **`getcwd()`** gives the current working directory."
   ]
  },
  {
   "cell_type": "code",
   "execution_count": null,
   "metadata": {},
   "outputs": [],
   "source": []
  }
 ],
 "metadata": {
  "hide_input": false,
  "kernelspec": {
   "display_name": "Python 3",
   "language": "python",
   "name": "python3"
  },
  "language_info": {
   "codemirror_mode": {
    "name": "ipython",
    "version": 3
   },
   "file_extension": ".py",
   "mimetype": "text/x-python",
   "name": "python",
   "nbconvert_exporter": "python",
   "pygments_lexer": "ipython3",
   "version": "3.8.8"
  },
  "toc": {
   "base_numbering": 1,
   "nav_menu": {},
   "number_sections": true,
   "sideBar": true,
   "skip_h1_title": false,
   "title_cell": "Table of Contents",
   "title_sidebar": "Contents",
   "toc_cell": false,
   "toc_position": {},
   "toc_section_display": true,
   "toc_window_display": false
  },
  "varInspector": {
   "cols": {
    "lenName": 16,
    "lenType": 16,
    "lenVar": 40
   },
   "kernels_config": {
    "python": {
     "delete_cmd_postfix": "",
     "delete_cmd_prefix": "del ",
     "library": "var_list.py",
     "varRefreshCmd": "print(var_dic_list())"
    },
    "r": {
     "delete_cmd_postfix": ") ",
     "delete_cmd_prefix": "rm(",
     "library": "var_list.r",
     "varRefreshCmd": "cat(var_dic_list()) "
    }
   },
   "types_to_exclude": [
    "module",
    "function",
    "builtin_function_or_method",
    "instance",
    "_Feature"
   ],
   "window_display": false
  }
 },
 "nbformat": 4,
 "nbformat_minor": 4
}
