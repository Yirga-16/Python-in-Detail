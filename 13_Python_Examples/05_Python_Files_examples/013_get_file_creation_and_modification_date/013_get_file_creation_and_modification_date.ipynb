{
 "cells": [
  {
   "cell_type": "markdown",
   "metadata": {},
   "source": [
    "<small><small><i>\n",
    "All the IPython Notebooks in this **Python Examples** series by Dr. Milaan Parmar are available @ **[GitHub](https://github.com/milaan9/90_Python_Examples)**\n",
    "</i></small></small>"
   ]
  },
  {
   "cell_type": "markdown",
   "metadata": {},
   "source": [
    "# Python Program to Get File Creation and Modification Date\n",
    "\n",
    "In this example, you will learn to get file creation and modification date.\n",
    "\n",
    "To understand this example, you should have the knowledge of the following **[Python programming](https://github.com/milaan9/01_Python_Introduction/blob/main/000_Intro_to_Python.ipynb)** topics:\n",
    "\n",
    "* **[Python File I/O](https://github.com/milaan9/05_Python_Files/blob/main/001_Python_File_Input_Output.ipynb)**"
   ]
  },
  {
   "cell_type": "code",
   "execution_count": 1,
   "metadata": {
    "ExecuteTime": {
     "end_time": "2021-08-07T13:35:32.683005Z",
     "start_time": "2021-08-07T13:35:32.655658Z"
    }
   },
   "outputs": [
    {
     "name": "stdout",
     "output_type": "stream",
     "text": [
      "Last modification time: Sat Aug  7 18:49:56 2021\n",
      "Last metadata change time or path creation time: Sat Aug  7 18:49:25 2021\n"
     ]
    },
    {
     "data": {
      "text/plain": [
       "'\\n>>Output/Runtime Test Cases:\\n\\nLast modification time: Sat Aug  7 18:49:56 2021\\nLast metadata change time or path creation time: Sat Aug  7 18:49:25 20211\\n'"
      ]
     },
     "execution_count": 1,
     "metadata": {},
     "output_type": "execute_result"
    }
   ],
   "source": [
    "# Example 1: Using os module\n",
    "\n",
    "import os.path, time\n",
    "#import sys,os\n",
    "import pathlib\n",
    "\n",
    "\n",
    "file = pathlib.Path('Digital_Clock.py')\n",
    "print(\"Last modification time: %s\" % time.ctime(os.path.getmtime(file)))\n",
    "print(\"Last metadata change time or path creation time: %s\" % time.ctime(os.path.getctime(file)))\n",
    "\n",
    "'''\n",
    ">>Output/Runtime Test Cases:\n",
    "\n",
    "Last modification time: Sat Aug  7 18:49:56 2021\n",
    "Last metadata change time or path creation time: Sat Aug  7 18:49:25 20211\n",
    "'''"
   ]
  },
  {
   "cell_type": "markdown",
   "metadata": {
    "ExecuteTime": {
     "end_time": "2021-08-07T06:44:37.674408Z",
     "start_time": "2021-08-07T06:44:37.359960Z"
    }
   },
   "source": [
    "**Explanation:**\n",
    "\n",
    "**`getmtime()`** gives the last modification time whereas **`getctime()`** gives the last metadata change time in Linux/Unix and path creation time in Windows."
   ]
  },
  {
   "cell_type": "code",
   "execution_count": 2,
   "metadata": {
    "ExecuteTime": {
     "end_time": "2021-08-07T13:35:32.833394Z",
     "start_time": "2021-08-07T13:35:32.754292Z"
    }
   },
   "outputs": [
    {
     "name": "stdout",
     "output_type": "stream",
     "text": [
      "Last modification time: 2021-08-07 18:49:56.741023\n",
      "Last metadata change time or path creation time: 2021-08-07 18:49:25.379694\n"
     ]
    },
    {
     "data": {
      "text/plain": [
       "'\\n>>Output/Runtime Test Cases:\\n\\nLast modification time: 2021-08-07 18:49:56.741023\\nLast metadata change time or path creation time: 2021-08-07 18:49:25.379694\\n'"
      ]
     },
     "execution_count": 2,
     "metadata": {},
     "output_type": "execute_result"
    }
   ],
   "source": [
    "# Example 2: Using stat() method\n",
    "\n",
    "import datetime\n",
    "import pathlib\n",
    "\n",
    "fname = pathlib.Path('Digital_Clock.py')\n",
    "print(\"Last modification time: %s\" % datetime.datetime.fromtimestamp(fname.stat().st_mtime))\n",
    "print(\"Last metadata change time or path creation time: %s\" % datetime.datetime.fromtimestamp(fname.stat().st_ctime))\n",
    "\n",
    "'''\n",
    ">>Output/Runtime Test Cases:\n",
    "\n",
    "Last modification time: 2021-08-07 18:49:56.741023\n",
    "Last metadata change time or path creation time: 2021-08-07 18:49:25.379694\n",
    "'''"
   ]
  },
  {
   "cell_type": "markdown",
   "metadata": {
    "ExecuteTime": {
     "end_time": "2021-08-07T06:44:37.674408Z",
     "start_time": "2021-08-07T06:44:37.359960Z"
    }
   },
   "source": [
    "**Explanation:**\n",
    "\n",
    "Similar to Example 1, **`st_mtime`** refers to the time of last modification; whereas, **`st_ctime`** refers to the time of the last metadata change on Linux/Unix and creation time on Windows."
   ]
  },
  {
   "cell_type": "code",
   "execution_count": null,
   "metadata": {},
   "outputs": [],
   "source": []
  }
 ],
 "metadata": {
  "hide_input": false,
  "kernelspec": {
   "display_name": "Python 3",
   "language": "python",
   "name": "python3"
  },
  "language_info": {
   "codemirror_mode": {
    "name": "ipython",
    "version": 3
   },
   "file_extension": ".py",
   "mimetype": "text/x-python",
   "name": "python",
   "nbconvert_exporter": "python",
   "pygments_lexer": "ipython3",
   "version": "3.8.8"
  },
  "toc": {
   "base_numbering": 1,
   "nav_menu": {},
   "number_sections": true,
   "sideBar": true,
   "skip_h1_title": false,
   "title_cell": "Table of Contents",
   "title_sidebar": "Contents",
   "toc_cell": false,
   "toc_position": {},
   "toc_section_display": true,
   "toc_window_display": false
  },
  "varInspector": {
   "cols": {
    "lenName": 16,
    "lenType": 16,
    "lenVar": 40
   },
   "kernels_config": {
    "python": {
     "delete_cmd_postfix": "",
     "delete_cmd_prefix": "del ",
     "library": "var_list.py",
     "varRefreshCmd": "print(var_dic_list())"
    },
    "r": {
     "delete_cmd_postfix": ") ",
     "delete_cmd_prefix": "rm(",
     "library": "var_list.r",
     "varRefreshCmd": "cat(var_dic_list()) "
    }
   },
   "types_to_exclude": [
    "module",
    "function",
    "builtin_function_or_method",
    "instance",
    "_Feature"
   ],
   "window_display": false
  }
 },
 "nbformat": 4,
 "nbformat_minor": 4
}
