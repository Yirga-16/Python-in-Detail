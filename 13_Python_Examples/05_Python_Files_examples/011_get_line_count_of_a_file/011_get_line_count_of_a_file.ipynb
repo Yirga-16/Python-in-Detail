{
 "cells": [
  {
   "cell_type": "markdown",
   "metadata": {},
   "source": [
    "<small><small><i>\n",
    "All the IPython Notebooks in this **Python Examples** series by Dr. Milaan Parmar are available @ **[GitHub](https://github.com/milaan9/90_Python_Examples)**\n",
    "</i></small></small>"
   ]
  },
  {
   "cell_type": "markdown",
   "metadata": {},
   "source": [
    "# Python Program to Get Line Count of a File\n",
    "\n",
    "In this example, you will learn to get line count of a file.\n",
    "\n",
    "To understand this example, you should have the knowledge of the following **[Python programming](https://github.com/milaan9/01_Python_Introduction/blob/main/000_Intro_to_Python.ipynb)** topics:\n",
    "\n",
    "* **[Python enumerate()](https://github.com/milaan9/04_Python_Functions/blob/main/002_Python_Functions_Built_in/018_Python_enumerate%28%29.ipynb)**\n",
    "* **[Python File I/O](https://github.com/milaan9/05_Python_Files/blob/main/001_Python_File_Input_Output.ipynb)**\n",
    "* **[Python for Loop](https://github.com/milaan9/03_Python_Flow_Control/blob/main/005_Python_for_Loop.ipynb)**"
   ]
  },
  {
   "cell_type": "markdown",
   "metadata": {},
   "source": [
    "Let the content of the file **`vaccine_data.txt`** be:\n",
    "\n",
    "```\n",
    "Small-Pox Edward-Jenner England-1796\n",
    "Cholera Louis-Pasteur France-1880\n",
    "Polio Jones-Salk US-1952\n",
    "```"
   ]
  },
  {
   "cell_type": "code",
   "execution_count": 1,
   "metadata": {
    "ExecuteTime": {
     "end_time": "2021-08-07T11:41:47.943250Z",
     "start_time": "2021-08-07T11:41:47.917862Z"
    }
   },
   "outputs": [
    {
     "name": "stdout",
     "output_type": "stream",
     "text": [
      "Number of lines in a dataset: 3\n"
     ]
    },
    {
     "data": {
      "text/plain": [
       "'\\n>>Output/Runtime Test Cases:\\n\\nNumber of lines in a dataset: 3\\n'"
      ]
     },
     "execution_count": 1,
     "metadata": {},
     "output_type": "execute_result"
    }
   ],
   "source": [
    "# Example 1: Using a for loop\n",
    "\n",
    "def file_len(fname):\n",
    "    with open(fname) as f:\n",
    "        for i, l in enumerate(f):\n",
    "            pass\n",
    "    return i + 1\n",
    "\n",
    "print(\"Number of lines in a dataset:\", file_len(\"vaccine_data.txt\")) # path ('/path/file.ext')\n",
    "\n",
    "'''\n",
    ">>Output/Runtime Test Cases:\n",
    "\n",
    "Number of lines in a dataset: 3\n",
    "'''"
   ]
  },
  {
   "cell_type": "markdown",
   "metadata": {
    "ExecuteTime": {
     "end_time": "2021-08-07T06:44:37.674408Z",
     "start_time": "2021-08-07T06:44:37.359960Z"
    }
   },
   "source": [
    "**Explanation:**\n",
    "\n",
    "Using a for loop, the number of lines of a file can be counted.\n",
    "\n",
    "* Open the file in read-only mode.\n",
    "* Using a for loop, iterate through the object **`f`**.\n",
    "* In each iteration, a line is read; therefore, increase the value of loop variable after each iteration."
   ]
  },
  {
   "cell_type": "code",
   "execution_count": 2,
   "metadata": {
    "ExecuteTime": {
     "end_time": "2021-08-07T11:41:48.066294Z",
     "start_time": "2021-08-07T11:41:47.946178Z"
    }
   },
   "outputs": [
    {
     "name": "stdout",
     "output_type": "stream",
     "text": [
      "Number of lines in a dataset: 3\n"
     ]
    },
    {
     "data": {
      "text/plain": [
       "'\\n>>Output/Runtime Test Cases:\\n\\nNumber of lines in a dataset: 3\\n'"
      ]
     },
     "execution_count": 2,
     "metadata": {},
     "output_type": "execute_result"
    }
   ],
   "source": [
    "# Example 2: Using list comprehension\n",
    "\n",
    "num_of_lines = sum(1 for l in open('vaccine_data.txt')) # path ('/path/file.ext')\n",
    "\n",
    "print(\"Number of lines in a dataset:\", num_of_lines)\n",
    "\n",
    "'''\n",
    ">>Output/Runtime Test Cases:\n",
    "\n",
    "Number of lines in a dataset: 3\n",
    "'''"
   ]
  },
  {
   "cell_type": "markdown",
   "metadata": {
    "ExecuteTime": {
     "end_time": "2021-08-07T06:44:37.674408Z",
     "start_time": "2021-08-07T06:44:37.359960Z"
    }
   },
   "source": [
    "**Explanation:**\n",
    "\n",
    "* Open the file in read-only mode.\n",
    "* Using a for loop, iterate through **`open('vaccine_data.txt')`**.\n",
    "* After each iteration, return 1.\n",
    "* Find the sum of the returned values."
   ]
  },
  {
   "cell_type": "code",
   "execution_count": null,
   "metadata": {},
   "outputs": [],
   "source": []
  }
 ],
 "metadata": {
  "hide_input": false,
  "kernelspec": {
   "display_name": "Python 3",
   "language": "python",
   "name": "python3"
  },
  "language_info": {
   "codemirror_mode": {
    "name": "ipython",
    "version": 3
   },
   "file_extension": ".py",
   "mimetype": "text/x-python",
   "name": "python",
   "nbconvert_exporter": "python",
   "pygments_lexer": "ipython3",
   "version": "3.8.8"
  },
  "toc": {
   "base_numbering": 1,
   "nav_menu": {},
   "number_sections": true,
   "sideBar": true,
   "skip_h1_title": false,
   "title_cell": "Table of Contents",
   "title_sidebar": "Contents",
   "toc_cell": false,
   "toc_position": {},
   "toc_section_display": true,
   "toc_window_display": false
  },
  "varInspector": {
   "cols": {
    "lenName": 16,
    "lenType": 16,
    "lenVar": 40
   },
   "kernels_config": {
    "python": {
     "delete_cmd_postfix": "",
     "delete_cmd_prefix": "del ",
     "library": "var_list.py",
     "varRefreshCmd": "print(var_dic_list())"
    },
    "r": {
     "delete_cmd_postfix": ") ",
     "delete_cmd_prefix": "rm(",
     "library": "var_list.r",
     "varRefreshCmd": "cat(var_dic_list()) "
    }
   },
   "types_to_exclude": [
    "module",
    "function",
    "builtin_function_or_method",
    "instance",
    "_Feature"
   ],
   "window_display": false
  }
 },
 "nbformat": 4,
 "nbformat_minor": 4
}
