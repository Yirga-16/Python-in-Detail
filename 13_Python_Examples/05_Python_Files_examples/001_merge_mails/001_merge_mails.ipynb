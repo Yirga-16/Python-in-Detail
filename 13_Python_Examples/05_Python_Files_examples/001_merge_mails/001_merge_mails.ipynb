{
 "cells": [
  {
   "cell_type": "markdown",
   "metadata": {},
   "source": [
    "<small><small><i>\n",
    "All the IPython Notebooks in this **Python Examples** series by Dr. Milaan Parmar are available @ **[GitHub](https://github.com/milaan9/90_Python_Examples)**\n",
    "</i></small></small>"
   ]
  },
  {
   "cell_type": "markdown",
   "metadata": {},
   "source": [
    "# Python Program to Merge Mails\n",
    "\n",
    "In this example, you'll learn to merge mails into one.\n",
    "\n",
    "To understand this example, you should have the knowledge of the following **[Python programming](https://github.com/milaan9/01_Python_Introduction/blob/main/000_Intro_to_Python.ipynb)** topics:\n",
    "\n",
    "* **[String Methods](https://github.com/milaan9/02_Python_Datatypes/tree/main/002_Python_String_Methods)**\n",
    "* **[Python File I/O](https://github.com/milaan9/05_Python_Files/blob/main/001_Python_File_Input_Output.ipynb)**"
   ]
  },
  {
   "cell_type": "markdown",
   "metadata": {},
   "source": [
    "When we want to send the same invitations to many people, the body of the mail does not change. Only the name (and maybe address) needs to be changed.\n",
    "\n",
    "Mail merge is a process of doing this. Instead of writing each mail separately, we have a template for body of the mail and a list of names that we merge together to form all the mails."
   ]
  },
  {
   "cell_type": "code",
   "execution_count": 1,
   "metadata": {
    "ExecuteTime": {
     "end_time": "2021-08-05T19:16:31.847338Z",
     "start_time": "2021-08-05T19:16:31.824879Z"
    }
   },
   "outputs": [],
   "source": [
    "# Example 1: mail merger\n",
    "# Names are in the file names.txt\n",
    "# Body of the mail is in body.txt\n",
    "\n",
    "# open names.txt for reading\n",
    "with open(\"01_names.txt\", 'r', encoding='utf-8') as names_file:\n",
    "\n",
    "    # open body.txt for reading\n",
    "    with open(\"02_body.txt\", 'r', encoding='utf-8') as body_file:\n",
    "\n",
    "        # read entire content of the body\n",
    "        body = body_file.read()\n",
    "\n",
    "        # iterate over names\n",
    "        for name in names_file:\n",
    "            mail = \"Dear Mr./Ms. \" + name.strip() + \",\" + \"\\n\\n\" + body\n",
    "\n",
    "            # write the mails to individual files\n",
    "            with open(name.strip()+\".txt\", 'w', encoding='utf-8') as mail_file:\n",
    "                mail_file.write(mail)"
   ]
  },
  {
   "cell_type": "markdown",
   "metadata": {},
   "source": [
    "**Explanation:**\n",
    "\n",
    "For this program, we have written all the names in separate lines in the file **`names.txt`**. The body is in the **`body.txt`** file.\n",
    "\n",
    "We open both the files in reading mode and iterate over each name using a for loop. A new file with the name **`[name].txt`** is created, where name is the name of that person.\n",
    "\n",
    "We use **`strip()`** method to clean up leading and trailing whitespaces (reading a line from the file also reads the newline '\\n' character). Finally, we write the content of the mail into this file using the **`write()`** method.\n",
    "\n",
    "Learn more about **[files in Python](https://github.com/milaan9/05_Python_Files)**."
   ]
  },
  {
   "cell_type": "code",
   "execution_count": null,
   "metadata": {},
   "outputs": [],
   "source": []
  }
 ],
 "metadata": {
  "hide_input": false,
  "kernelspec": {
   "display_name": "Python 3",
   "language": "python",
   "name": "python3"
  },
  "language_info": {
   "codemirror_mode": {
    "name": "ipython",
    "version": 3
   },
   "file_extension": ".py",
   "mimetype": "text/x-python",
   "name": "python",
   "nbconvert_exporter": "python",
   "pygments_lexer": "ipython3",
   "version": "3.8.8"
  },
  "toc": {
   "base_numbering": 1,
   "nav_menu": {},
   "number_sections": true,
   "sideBar": true,
   "skip_h1_title": false,
   "title_cell": "Table of Contents",
   "title_sidebar": "Contents",
   "toc_cell": false,
   "toc_position": {},
   "toc_section_display": true,
   "toc_window_display": false
  },
  "varInspector": {
   "cols": {
    "lenName": 16,
    "lenType": 16,
    "lenVar": 40
   },
   "kernels_config": {
    "python": {
     "delete_cmd_postfix": "",
     "delete_cmd_prefix": "del ",
     "library": "var_list.py",
     "varRefreshCmd": "print(var_dic_list())"
    },
    "r": {
     "delete_cmd_postfix": ") ",
     "delete_cmd_prefix": "rm(",
     "library": "var_list.r",
     "varRefreshCmd": "cat(var_dic_list()) "
    }
   },
   "types_to_exclude": [
    "module",
    "function",
    "builtin_function_or_method",
    "instance",
    "_Feature"
   ],
   "window_display": false
  }
 },
 "nbformat": 4,
 "nbformat_minor": 4
}
