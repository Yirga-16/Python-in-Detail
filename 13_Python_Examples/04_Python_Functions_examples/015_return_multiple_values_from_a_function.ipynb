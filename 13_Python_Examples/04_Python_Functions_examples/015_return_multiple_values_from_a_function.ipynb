{
 "cells": [
  {
   "cell_type": "markdown",
   "metadata": {},
   "source": [
    "<small><small><i>\n",
    "All the IPython Notebooks in this **Python Examples** series by Dr. Milaan Parmar are available @ **[GitHub](https://github.com/milaan9/90_Python_Examples)**\n",
    "</i></small></small>"
   ]
  },
  {
   "cell_type": "markdown",
   "metadata": {},
   "source": [
    "# Python Program to Return Multiple Values From a Function\n",
    "\n",
    "In this example, you will learn to return multiple values from a function.\n",
    "\n",
    "To understand this example, you should have the knowledge of the following **[Python programming](https://github.com/milaan9/01_Python_Introduction/blob/main/000_Intro_to_Python.ipynb)** topics:\n",
    "\n",
    "* **[Python Functions](https://github.com/milaan9/04_Python_Functions/blob/main/001_Python_Functions.ipynb)**"
   ]
  },
  {
   "cell_type": "code",
   "execution_count": 1,
   "metadata": {
    "ExecuteTime": {
     "end_time": "2021-08-05T18:52:51.918828Z",
     "start_time": "2021-08-05T18:52:51.882697Z"
    }
   },
   "outputs": [
    {
     "name": "stdout",
     "output_type": "stream",
     "text": [
      "('Arthur', 'Ethan', 'Peter')\n",
      "Arthur Ethan Peter\n"
     ]
    },
    {
     "data": {
      "text/plain": [
       "\"\\n>>Output/Runtime Test Cases:\\n\\n('Arthur', 'Ethan', 'Peter')\\nArthur Ethan Peter\\n\""
      ]
     },
     "execution_count": 1,
     "metadata": {},
     "output_type": "execute_result"
    }
   ],
   "source": [
    "# Example 1: Return values using comma\n",
    "\n",
    "def name():\n",
    "    return \"Arthur\",\"Ethan\",\"Peter\"\n",
    "\n",
    "# print the tuple with the returned values\n",
    "print(name())\n",
    "\n",
    "# get the individual items\n",
    "name_1, name_2, name_3 = name()\n",
    "print(name_1, name_2, name_3)\n",
    "         \n",
    "'''\n",
    ">>Output/Runtime Test Cases:\n",
    "\n",
    "('Arthur', 'Ethan', 'Peter')\n",
    "Arthur Ethan Peter\n",
    "'''"
   ]
  },
  {
   "cell_type": "markdown",
   "metadata": {},
   "source": [
    "**Explanation:**\n",
    "\n",
    "When you return multiple values using comma(s), they are returned in the form of a tuple. As shown in the code above, three strings **`Arthur`**, **`Ethan`** and **`Peter`** are returned with a single return statement."
   ]
  },
  {
   "cell_type": "code",
   "execution_count": 2,
   "metadata": {
    "ExecuteTime": {
     "end_time": "2021-08-05T18:52:52.055549Z",
     "start_time": "2021-08-05T18:52:51.920783Z"
    }
   },
   "outputs": [
    {
     "name": "stdout",
     "output_type": "stream",
     "text": [
      "{1: 'Arthur', 2: 'Ethan', 3: 'Peter'}\n"
     ]
    },
    {
     "data": {
      "text/plain": [
       "\"\\n>>Output/Runtime Test Cases:\\n\\n('Arthur', 'Ethan')\\nArthur Ethan\\n\""
      ]
     },
     "execution_count": 2,
     "metadata": {},
     "output_type": "execute_result"
    }
   ],
   "source": [
    "# Example 2: Using a dictionary\n",
    "def name():\n",
    "    n1 = \"Arthur\"\n",
    "    n2 = \"Ethan\"\n",
    "    n3 = \"Peter\"\n",
    "\n",
    "    return {1:n1, 2:n2, 3:n3}\n",
    "\n",
    "names = name()\n",
    "print(names)\n",
    "         \n",
    "'''\n",
    ">>Output/Runtime Test Cases:\n",
    "\n",
    "('Arthur', 'Ethan')\n",
    "Arthur Ethan\n",
    "'''"
   ]
  },
  {
   "cell_type": "markdown",
   "metadata": {},
   "source": [
    "**Explanation:**\n",
    "\n",
    "When you return values using a dictionary, it is easy for you to keep track of the returned values using the keys. The return statement returns the three variables in the form a dictionary."
   ]
  },
  {
   "cell_type": "code",
   "execution_count": null,
   "metadata": {},
   "outputs": [],
   "source": []
  }
 ],
 "metadata": {
  "hide_input": false,
  "kernelspec": {
   "display_name": "Python 3",
   "language": "python",
   "name": "python3"
  },
  "language_info": {
   "codemirror_mode": {
    "name": "ipython",
    "version": 3
   },
   "file_extension": ".py",
   "mimetype": "text/x-python",
   "name": "python",
   "nbconvert_exporter": "python",
   "pygments_lexer": "ipython3",
   "version": "3.8.8"
  },
  "toc": {
   "base_numbering": 1,
   "nav_menu": {},
   "number_sections": true,
   "sideBar": true,
   "skip_h1_title": false,
   "title_cell": "Table of Contents",
   "title_sidebar": "Contents",
   "toc_cell": false,
   "toc_position": {},
   "toc_section_display": true,
   "toc_window_display": false
  },
  "varInspector": {
   "cols": {
    "lenName": 16,
    "lenType": 16,
    "lenVar": 40
   },
   "kernels_config": {
    "python": {
     "delete_cmd_postfix": "",
     "delete_cmd_prefix": "del ",
     "library": "var_list.py",
     "varRefreshCmd": "print(var_dic_list())"
    },
    "r": {
     "delete_cmd_postfix": ") ",
     "delete_cmd_prefix": "rm(",
     "library": "var_list.r",
     "varRefreshCmd": "cat(var_dic_list()) "
    }
   },
   "types_to_exclude": [
    "module",
    "function",
    "builtin_function_or_method",
    "instance",
    "_Feature"
   ],
   "window_display": false
  }
 },
 "nbformat": 4,
 "nbformat_minor": 4
}
