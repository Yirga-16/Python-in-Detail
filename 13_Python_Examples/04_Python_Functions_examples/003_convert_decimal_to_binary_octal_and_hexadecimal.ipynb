{
 "cells": [
  {
   "cell_type": "markdown",
   "metadata": {},
   "source": [
    "<small><small><i>\n",
    "All the IPython Notebooks in this **Python Examples** series by Dr. Milaan Parmar are available @ **[GitHub](https://github.com/milaan9/90_Python_Examples)**\n",
    "</i></small></small>"
   ]
  },
  {
   "cell_type": "markdown",
   "metadata": {},
   "source": [
    "# Python Program to Convert Decimal to Binary, Octal and Hexadecimal\n",
    "\n",
    "In this example, you'll learn to convert decimal to binary, octal and hexadecimal, and display it.\n",
    "\n",
    "To understand this example, you should have the knowledge of the following **[Python programming](https://github.com/milaan9/01_Python_Introduction/blob/main/000_Intro_to_Python.ipynb)** topics:\n",
    "\n",
    "* **[Python Programming Built-in Functions](https://github.com/milaan9/04_Python_Functions/tree/main/002_Python_Functions_Built_in)**"
   ]
  },
  {
   "cell_type": "markdown",
   "metadata": {},
   "source": [
    "The decimal system is the most widely used number system. However, computers only understand binary. Binary, octal and hexadecimal number systems are closely related, and we may require to convert decimal into these systems.\n",
    "\n",
    "The decimal system is base 10 (ten symbols, 0-9, are used to represent a number) and similarly, binary is base 2, octal is base 8 and hexadecimal is base 16.\n",
    "\n",
    "A number with the prefix **`0b`** is considered binary, **`0o`** is considered octal and **`0x`** as hexadecimal. For example:\n",
    "\n",
    "```python\n",
    "60 = 0b11100 = 0o74 = 0x3c\n",
    "```"
   ]
  },
  {
   "cell_type": "code",
   "execution_count": 2,
   "metadata": {
    "ExecuteTime": {
     "end_time": "2021-08-04T08:11:19.544412Z",
     "start_time": "2021-08-04T08:11:19.526834Z"
    }
   },
   "outputs": [
    {
     "name": "stdout",
     "output_type": "stream",
     "text": [
      "The decimal value of 675 is:\n",
      "0b1010100011 in binary.\n",
      "0o1243 in octal.\n",
      "0x2a3 in hexadecimal.\n"
     ]
    },
    {
     "data": {
      "text/plain": [
       "'\\n>>Output/Runtime Test Cases:\\n     \\nThe decimal value of 675 is:\\n0b1010100011 in binary.\\n0o1243 in octal.\\n0x2a3 in hexadecimal.\\n'"
      ]
     },
     "execution_count": 2,
     "metadata": {},
     "output_type": "execute_result"
    }
   ],
   "source": [
    "# Example 1: convert decimal into other number systems\n",
    "\n",
    "dec = 675\n",
    "\n",
    "print(\"The decimal value of\", dec, \"is:\")\n",
    "print(bin(dec), \"in binary.\")\n",
    "print(oct(dec), \"in octal.\")\n",
    "print(hex(dec), \"in hexadecimal.\")\n",
    "        \n",
    "'''\n",
    ">>Output/Runtime Test Cases:\n",
    "     \n",
    "The decimal value of 675 is:\n",
    "0b1010100011 in binary.\n",
    "0o1243 in octal.\n",
    "0x2a3 in hexadecimal.\n",
    "'''"
   ]
  },
  {
   "cell_type": "markdown",
   "metadata": {},
   "source": [
    ">**Note:** To test the program for other decimal numbers, change the value of **`dec`** in the program.\n",
    "\n",
    "In this program, we have used built-in functions **[bin()](https://github.com/milaan9/04_Python_Functions/blob/main/002_Python_Functions_Built_in/005_Python_bin%28%29.ipynb)**, **[oct()](https://github.com/milaan9/04_Python_Functions/blob/main/002_Python_Functions_Built_in/047_Python_oct%28%29.ipynb)** and **[hex()](https://github.com/milaan9/04_Python_Functions/blob/main/002_Python_Functions_Built_in/030_Python_hex%28%29.ipynb)** to convert the given decimal number into respective number systems.\n",
    "\n",
    "These functions take an integer (in decimal) and return a string."
   ]
  },
  {
   "cell_type": "code",
   "execution_count": null,
   "metadata": {},
   "outputs": [],
   "source": []
  }
 ],
 "metadata": {
  "hide_input": false,
  "kernelspec": {
   "display_name": "Python 3",
   "language": "python",
   "name": "python3"
  },
  "language_info": {
   "codemirror_mode": {
    "name": "ipython",
    "version": 3
   },
   "file_extension": ".py",
   "mimetype": "text/x-python",
   "name": "python",
   "nbconvert_exporter": "python",
   "pygments_lexer": "ipython3",
   "version": "3.8.8"
  },
  "toc": {
   "base_numbering": 1,
   "nav_menu": {},
   "number_sections": true,
   "sideBar": true,
   "skip_h1_title": false,
   "title_cell": "Table of Contents",
   "title_sidebar": "Contents",
   "toc_cell": false,
   "toc_position": {},
   "toc_section_display": true,
   "toc_window_display": false
  },
  "varInspector": {
   "cols": {
    "lenName": 16,
    "lenType": 16,
    "lenVar": 40
   },
   "kernels_config": {
    "python": {
     "delete_cmd_postfix": "",
     "delete_cmd_prefix": "del ",
     "library": "var_list.py",
     "varRefreshCmd": "print(var_dic_list())"
    },
    "r": {
     "delete_cmd_postfix": ") ",
     "delete_cmd_prefix": "rm(",
     "library": "var_list.r",
     "varRefreshCmd": "cat(var_dic_list()) "
    }
   },
   "types_to_exclude": [
    "module",
    "function",
    "builtin_function_or_method",
    "instance",
    "_Feature"
   ],
   "window_display": false
  }
 },
 "nbformat": 4,
 "nbformat_minor": 4
}
