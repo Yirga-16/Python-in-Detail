{
 "cells": [
  {
   "cell_type": "markdown",
   "metadata": {},
   "source": [
    "<small><small><i>\n",
    "All the IPython Notebooks in this **Python Examples** series by Dr. Milaan Parmar are available @ **[GitHub](https://github.com/milaan9/90_Python_Examples)**\n",
    "</i></small></small>"
   ]
  },
  {
   "cell_type": "markdown",
   "metadata": {},
   "source": [
    "# Python Program to Find ASCII Value of Character\n",
    "\n",
    "In this example, you'll learn to find the ASCII value of a character and display it.\n",
    "\n",
    "To understand this example, you should have the knowledge of the following **[Python programming](https://github.com/milaan9/01_Python_Introduction/blob/main/000_Intro_to_Python.ipynb)** topics:\n",
    "\n",
    "* **[Python Input, Output and Import](https://github.com/milaan9/01_Python_Introduction/blob/main/011_Python_Input_Output_Import.ipynb)**\n",
    "* **[Python Programming Built-in Functions](https://github.com/milaan9/04_Python_Functions/tree/main/002_Python_Functions_Built_in)**"
   ]
  },
  {
   "cell_type": "markdown",
   "metadata": {},
   "source": [
    "ASCII stands for **A**merican **S**tandard **C**ode for **I**nformation **I**nterchange.\n",
    "\n",
    "It is a numeric value given to different characters and symbols, for computers to store and manipulate. For example, the ASCII value of the letter '**`a`**' is **97** and '**`A`**' is **65**."
   ]
  },
  {
   "cell_type": "markdown",
   "metadata": {
    "ExecuteTime": {
     "end_time": "2021-08-04T08:30:16.933256Z",
     "start_time": "2021-08-04T08:30:16.856113Z"
    }
   },
   "source": [
    "<b>\n",
    "    \n",
    "| Decimal | Octal  | Hexadecimal | Binary   | Character | Description        |\n",
    "|:-------:|:------:|:-----------:|:--------:|:---------:|:-------------------|\n",
    "|   0 | 0000 | 00  | 00000000 | NUL | Null char                              |\n",
    "|   1 | 0001 | 01  | 00000001 | SOH | Start of Heading                       |\n",
    "|   2 | 0002 | 02  | 00000010 | STX | Start of Text                          |\n",
    "|   3 | 0003 | 03  | 00000011 | ETX | End of Text                            |\n",
    "|   4 | 0004 | 04  | 00000100 | EOT | End of Transmission                    |\n",
    "|   5 | 0005 | 05  | 00000101 | ENQ | Enquiry                                |\n",
    "|   6 | 0006 | 06  | 00000110 | ACK | Acknowledgment                         |\n",
    "|   7 | 0007 | 07  | 00000111 | BEL | Bell                                   |\n",
    "|   8 | 0010 | 08  | 00001000 | BS  | Back Space                             |\n",
    "|   9 | 0011 | 09  | 00001001 | HT  | Horizontal Tab                         |\n",
    "|  10 | 0012 | 0A  | 00001010 | LF  | Line Feed                              |\n",
    "|  11 | 0013 | 0B  | 00001011 | VT  | Vertical Tab                           |\n",
    "|  12 | 0014 | 0C  | 00001100 | FF  | Form Feed                              |\n",
    "|  13 | 0015 | 0D  | 00001101 | CR  | Carriage Return                        |\n",
    "|  14 | 0016 | 0E  | 00001110 | SO  | Shift Out / X-On                       |\n",
    "|  15 | 0017 | 0F  | 00001111 | SI  | Shift In / X-Off                       |\n",
    "|  16 | 0020 | 10  | 00010000 | DLE | Data Line Escape                       |\n",
    "|  17 | 0021 | 11  | 00010001 | DC1 | Device Control 1 (oft. XON)            |\n",
    "|  18 | 0022 | 12  | 00010010 | DC2 | Device Control 2                       |\n",
    "|  19 | 0023 | 13  | 00010011 | DC3 | Device Control 3 (oft. XOFF)           |  \n",
    "|  20 | 0024 | 14  | 00010100 | DC4 | Device Control 4                       |\n",
    "|  21 | 0025 | 15  | 00010101 | NAK | Negative Acknowledgement               |\n",
    "|  22 | 0026 | 16  | 00010110 | SYN | Synchronous Idle                       |\n",
    "|  23 | 0027 | 17  | 00010111 | ETB | End of Transmit Block                  |\n",
    "|  24 | 0030 | 18  | 00011000 | CAN | Cancel                                 |\n",
    "|  25 | 0031 | 19  | 00011001 | EM  | End of Medium                          |\n",
    "|  26 | 0032 | 1A  | 00011010 | SUB | Substitute                             |\n",
    "|  27 | 0033 | 1B  | 00011011 | ESC | Escape                                 |\n",
    "|  28 | 0034 | 1C  | 00011100 | FS  | File Separator                         |\n",
    "|  29 | 0035 | 1D  | 00011101 | GS  | Group Separator                        |\n",
    "|  30 | 0036 | 1E  | 00011110 | RS  | Record Separator                       |\n",
    "|  31 | 0037 | 1F  | 00011111 | US  | Unit Separator                         |\n",
    "|  32 | 0040 | 20  | 00100000 |     | Space                                  |\n",
    "|  33 | 0041 | 21  | 00100001 | !   | Exclamation mark                       |\n",
    "|  34 | 0042 | 22  | 00100010 | \"   | Double quotes (or speech marks)        |\n",
    "|  35 | 0043 | 23  | 00100011 | #   | Number                                 |\n",
    "|  36 | 0044 | 24  | 00100100 | $   | Dollar                                 |\n",
    "|  37 | 0045 | 25  | 00100101 | %   | Procenttecken                          |\n",
    "|  38 | 0046 | 26  | 00100110 | &   | Ampersand                              |\n",
    "|  39 | 0047 | 27  | 00100111 | '   | Single quote                           |\n",
    "|  40 | 0050 | 28  | 00101000 | (   | Open parenthesis (or open bracket)     |\n",
    "|  41 | 0051 | 29  | 00101001 | )   | Close parenthesis (or close bracket)   |\n",
    "|  42 | 0052 | 2A  | 00101010 | *   | Asterisk                               |\n",
    "|  43 | 0053 | 2B  | 00101011 | +   | Plus                                   |\n",
    "|  44 | 0054 | 2C  | 00101100 | ,   | Comma                                  |\n",
    "|  45 | 0055 | 2D  | 00101101 | -   | Hyphen                                 |\n",
    "|  46 | 0056 | 2E  | 00101110 | .   | Period, dot or full stop               |\n",
    "|  47 | 0057 | 2F  | 00101111 | /   | Slash or divide                        |\n",
    "|  48 | 0060 | 30  | 00110000 | 0   | Zero                                   |\n",
    "|  49 | 0061 | 31  | 00110001 | 1   | One                                    |\n",
    "|  50 | 0062 | 32  | 00110010 | 2   | Two                                    |\n",
    "|  51 | 0063 | 33  | 00110011 | 3   | Three                                  |\n",
    "|  52 | 0064 | 34  | 00110100 | 4   | Four                                   |\n",
    "|  53 | 0065 | 35  | 00110101 | 5   | Five                                   |\n",
    "|  54 | 0066 | 36  | 00110110 | 6   | Six                                    |\n",
    "|  55 | 0067 | 37  | 00110111 | 7   | Seven                                  |\n",
    "|  56 | 0070 | 38  | 00111000 | 8   | Eight                                  |\n",
    "|  57 | 0071 | 39  | 00111001 | 9   | Nine                                   |\n",
    "|  58 | 0072 | 3A  | 00111010 | :   | Colon                                  |\n",
    "|  59 | 0073 | 3B  | 00111011 | ;   | Semicolon                              |\n",
    "|  60 | 0074 | 3C  | 00111100 | <   | Less than (or open angled bracket)     |\n",
    "|  61 | 0075 | 3D  | 00111101 | =   | Equals                                 |\n",
    "|  62 | 0076 | 3E  | 00111110 | >   | Greater than (or close angled bracket) |\n",
    "|  63 | 0077 | 3F  | 00111111 | ?   | Question mark                          |\n",
    "|  64 | 0100 | 40  | 01000000 | @   | At symbol                              |\n",
    "|  65 | 0101 | 41  | 01000001 | A   | Uppercase A                            |\n",
    "|  66 | 0102 | 42  | 01000010 | B   | Uppercase B                            |\n",
    "|  67 | 0103 | 43  | 01000011 | C   | Uppercase C                            |\n",
    "|  68 | 0104 | 44  | 01000100 | D   | Uppercase D                            |\n",
    "|  69 | 0105 | 45  | 01000101 | E   | Uppercase E                            |\n",
    "|  70 | 0106 | 46  | 01000110 | F   | Uppercase F                            |\n",
    "|  71 | 0107 | 47  | 01000111 | G   | Uppercase G                            |\n",
    "|  72 | 0110 | 48  | 01001000 | H   | Uppercase H                            |\n",
    "|  73 | 0111 | 49  | 01001001 | I   | Uppercase I                            |\n",
    "|  74 | 0112 | 4A  | 01001010 | J   | Uppercase J                            |\n",
    "|  75 | 0113 | 4B  | 01001011 | K   | Uppercase K                            |\n",
    "|  76 | 0114 | 4C  | 01001100 | L   | Uppercase L                            |\n",
    "|  77 | 0115 | 4D  | 01001101 | M   | Uppercase M                            |\n",
    "|  78 | 0116 | 4E  | 01001110 | N   | Uppercase N                            |\n",
    "|  79 | 0117 | 4F  | 01001111 | O   | Uppercase O                            |\n",
    "|  80 | 0120 | 50  | 01010000 | P   | Uppercase P                            |\n",
    "|  81 | 0121 | 51  | 01010001 | Q   | Uppercase Q                            |\n",
    "|  82 | 0122 | 52  | 01010010 | R   | Uppercase R                            |\n",
    "|  83 | 0123 | 53  | 01010011 | S   | Uppercase S                            |\n",
    "|  84 | 0124 | 54  | 01010100 | T   | Uppercase T                            |\n",
    "|  85 | 0125 | 55  | 01010101 | U   | Uppercase U                            |\n",
    "|  86 | 0126 | 56  | 01010110 | V   | Uppercase V                            |\n",
    "|  87 | 0127 | 57  | 01010111 | W   | Uppercase W                            |\n",
    "|  88 | 0130 | 58  | 01011000 | X   | Uppercase X                            |\n",
    "|  89 | 0131 | 59  | 01011001 | Y   | Uppercase Y                            |\n",
    "|  90 | 0132 | 5A  | 01011010 | Z   | Uppercase Z                            |\n",
    "|  91 | 0133 | 5B  | 01011011 | [   | Opening bracket                        |\n",
    "|  92 | 0134 | 5C  | 01011100 | \\   | Backslash                              |\n",
    "|  93 | 0135 | 5D  | 01011101 | ]   | Closing bracket                        |\n",
    "|  94 | 0136 | 5E  | 01011110 | ^   | Caret - circumflex                     |\n",
    "|  95 | 0137 | 5F  | 01011111 | _   | Underscore                             |\n",
    "|  96 | 0140 | 60  | 01100000 | `   | Grave accent                           |\n",
    "|  97 | 0141 | 61  | 01100001 | a   | Lowercase a                            |\n",
    "|  98 | 0142 | 62  | 01100010 | b   | Lowercase b                            |\n",
    "|  99 | 0143 | 63  | 01100011 | c   | Lowercase c                            |\n",
    "| 100 | 0144 | 64  | 01100100 | d   | Lowercase d                            |\n",
    "| 101 | 0145 | 65  | 01100101 | e   | Lowercase e                            |\n",
    "| 102 | 0146 | 66  | 01100110 | f   | Lowercase f                            |\n",
    "| 103 | 0147 | 67  | 01100111 | g   | Lowercase g                            |\n",
    "| 104 | 0150 | 68  | 01101000 | h   | Lowercase h                            |\n",
    "| 105 | 0151 | 69  | 01101001 | i   | Lowercase i                            |\n",
    "| 106 | 0152 | 6A  | 01101010 | j   | Lowercase j                            |\n",
    "| 107 | 0153 | 6B  | 01101011 | k   | Lowercase k                            |\n",
    "| 108 | 0154 | 6C  | 01101100 | l   | Lowercase l                            |\n",
    "| 109 | 0155 | 6D  | 01101101 | m   | Lowercase m                            |\n",
    "| 110 | 0156 | 6E  | 01101110 | n   | Lowercase n                            |\n",
    "| 111 | 0157 | 6F  | 01101111 | o   | Lowercase o                            |\n",
    "| 112 | 0160 | 70  | 01110000 | p   | Lowercase p                            |\n",
    "| 113 | 0161 | 71  | 01110001 | q   | Lowercase q                            |\n",
    "| 114 | 0162 | 72  | 01110010 | r   | Lowercase r                            |\n",
    "| 115 | 0163 | 73  | 01110011 | s   | Lowercase s                            |\n",
    "| 116 | 0164 | 74  | 01110100 | t   | Lowercase t                            |\n",
    "| 117 | 0165 | 75  | 01110101 | u   | Lowercase u                            |\n",
    "| 118 | 0166 | 76  | 01110110 | v   | Lowercase v                            |\n",
    "| 119 | 0167 | 77  | 01110111 | w   | Lowercase w                            |\n",
    "| 120 | 0170 | 78  | 01111000 | x   | Lowercase x                            |\n",
    "| 121 | 0171 | 79  | 01111001 | y   | Lowercase y                            |\n",
    "| 122 | 0172 | 7A  | 01111010 | z   | Lowercase z                            |\n",
    "| 123 | 0173 | 7B  | 01111011 | {   | Opening brace                          |\n",
    "| 124 | 0174 | 7C  | 01111100 | \\|   | Vertical bar                           |\n",
    "| 125 | 0175 | 7D  | 01111101 | }   | Closing brace                          |\n",
    "| 126 | 0176 | 7E  | 01111110 | ~   | Equivalency sign - tilde               |\n",
    "| 127 | 0177 | 7F  | 01111111 | DEL | Delete                                 |\n",
    "\n",
    "</b>"
   ]
  },
  {
   "cell_type": "code",
   "execution_count": 1,
   "metadata": {
    "ExecuteTime": {
     "end_time": "2021-08-04T08:56:46.541020Z",
     "start_time": "2021-08-04T08:56:46.501963Z"
    }
   },
   "outputs": [
    {
     "name": "stdout",
     "output_type": "stream",
     "text": [
      "The ASCII value of 'm' is 109\n"
     ]
    },
    {
     "data": {
      "text/plain": [
       "\"\\n>>Output/Runtime Test Cases:\\n     \\nThe ASCII value of 'n' is 110\\n\""
      ]
     },
     "execution_count": 1,
     "metadata": {},
     "output_type": "execute_result"
    }
   ],
   "source": [
    "# Example 1: find the ASCII value of the given character\n",
    "\n",
    "c = 'm'\n",
    "print(\"The ASCII value of '\" + c + \"' is\", ord(c))\n",
    "        \n",
    "'''\n",
    ">>Output/Runtime Test Cases:\n",
    "     \n",
    "The ASCII value of 'n' is 110\n",
    "'''"
   ]
  },
  {
   "cell_type": "markdown",
   "metadata": {},
   "source": [
    ">**Note:** To test this program for other characters, change the character assigned to the **`c`** variable.\n",
    "\n",
    "Here we have used **[ord() function](https://github.com/milaan9/04_Python_Functions/blob/main/002_Python_Functions_Built_in/048_Python_ord%28%29.ipynb)** to convert a character to an integer (ASCII value). This function returns the Unicode code point of that character.\n",
    "\n",
    "Unicode is also an encoding technique that provides a unique number to a character. While ASCII only encodes 128 characters, the current Unicode has more than 100,000 characters from hundreds of scripts."
   ]
  },
  {
   "cell_type": "markdown",
   "metadata": {},
   "source": [
    "**Your turn:** M\n",
    "\n",
    "Modify the code above to get characters from their corresponding ASCII values using the **[chr() function](https://github.com/milaan9/04_Python_Functions/blob/main/002_Python_Functions_Built_in/010_Python_chr%28%29.ipynb)** as shown below.\n",
    "\n",
    "```python\n",
    ">>> chr(68)\n",
    "'D'\n",
    ">>> chr(110)\n",
    "'n'\n",
    ">>> chr(ord('O') + 1)\n",
    "'P'\n",
    "```"
   ]
  },
  {
   "cell_type": "markdown",
   "metadata": {},
   "source": [
    "Here, **`ord()`** and **`chr()`** are built-in functions. Visit here to know more about **[built-in functions in Python](https://github.com/milaan9/04_Python_Functions/tree/main/002_Python_Functions_Built_in)**."
   ]
  },
  {
   "cell_type": "code",
   "execution_count": null,
   "metadata": {},
   "outputs": [],
   "source": []
  }
 ],
 "metadata": {
  "hide_input": false,
  "kernelspec": {
   "display_name": "Python 3",
   "language": "python",
   "name": "python3"
  },
  "language_info": {
   "codemirror_mode": {
    "name": "ipython",
    "version": 3
   },
   "file_extension": ".py",
   "mimetype": "text/x-python",
   "name": "python",
   "nbconvert_exporter": "python",
   "pygments_lexer": "ipython3",
   "version": "3.8.8"
  },
  "toc": {
   "base_numbering": 1,
   "nav_menu": {},
   "number_sections": true,
   "sideBar": true,
   "skip_h1_title": false,
   "title_cell": "Table of Contents",
   "title_sidebar": "Contents",
   "toc_cell": false,
   "toc_position": {},
   "toc_section_display": true,
   "toc_window_display": false
  },
  "varInspector": {
   "cols": {
    "lenName": 16,
    "lenType": 16,
    "lenVar": 40
   },
   "kernels_config": {
    "python": {
     "delete_cmd_postfix": "",
     "delete_cmd_prefix": "del ",
     "library": "var_list.py",
     "varRefreshCmd": "print(var_dic_list())"
    },
    "r": {
     "delete_cmd_postfix": ") ",
     "delete_cmd_prefix": "rm(",
     "library": "var_list.r",
     "varRefreshCmd": "cat(var_dic_list()) "
    }
   },
   "types_to_exclude": [
    "module",
    "function",
    "builtin_function_or_method",
    "instance",
    "_Feature"
   ],
   "window_display": false
  }
 },
 "nbformat": 4,
 "nbformat_minor": 4
}
