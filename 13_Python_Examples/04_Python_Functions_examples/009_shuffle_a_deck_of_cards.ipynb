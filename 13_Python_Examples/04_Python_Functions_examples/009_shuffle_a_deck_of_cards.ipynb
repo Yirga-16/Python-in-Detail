{
 "cells": [
  {
   "cell_type": "markdown",
   "metadata": {},
   "source": [
    "<small><small><i>\n",
    "All the IPython Notebooks in this **Python Examples** series by Dr. Milaan Parmar are available @ **[GitHub](https://github.com/milaan9/90_Python_Examples)**\n",
    "</i></small></small>"
   ]
  },
  {
   "cell_type": "markdown",
   "metadata": {},
   "source": [
    "# Python Program to Shuffle Deck of Cards\n",
    "\n",
    "In this example, you'll learn to shuffle a deck of cards using random module.\n",
    "\n",
    "To understand this example, you should have the knowledge of the following **[Python programming](https://github.com/milaan9/01_Python_Introduction/blob/main/000_Intro_to_Python.ipynb)** topics:\n",
    "\n",
    "* **[Python for Loop](https://github.com/milaan9/03_Python_Flow_Control/blob/main/005_Python_for_Loop.ipynb)**\n",
    "* **[Python Modules](https://github.com/milaan9/04_Python_Functions/blob/main/007_Python_Function_Module.ipynb)**\n",
    "* **[Python Random Module](https://github.com/milaan9/04_Python_Functions/blob/main/008_Python_Function_random_Module.ipynb)**\n",
    "* **[Python Programming Built-in Functions](https://github.com/milaan9/04_Python_Functions/tree/main/002_Python_Functions_Built_in)**"
   ]
  },
  {
   "cell_type": "code",
   "execution_count": 1,
   "metadata": {
    "ExecuteTime": {
     "end_time": "2021-08-05T14:57:33.573783Z",
     "start_time": "2021-08-05T14:57:33.550347Z"
    }
   },
   "outputs": [
    {
     "name": "stdout",
     "output_type": "stream",
     "text": [
      "You got:\n",
      "5 of Club\n",
      "12 of Club\n",
      "6 of Club\n",
      "9 of Diamond\n",
      "2 of Club\n"
     ]
    },
    {
     "data": {
      "text/plain": [
       "'\\n>>Output/Runtime Test Cases:\\n\\nSelect operation.\\n1.Add\\n2.Subtract\\n3.Multiply\\n4.Divide\\nEnter choice(1/2/3/4): 3\\nEnter first number: 3\\nEnter second number: 9\\n3.0 * 9.0 = 27.0\\n'"
      ]
     },
     "execution_count": 1,
     "metadata": {},
     "output_type": "execute_result"
    }
   ],
   "source": [
    "# Example 1: shuffle a deck of card\n",
    "\n",
    "# importing modules\n",
    "import itertools, random\n",
    "\n",
    "# make a deck of cards\n",
    "deck = list(itertools.product(range(1,14),['Spade','Heart','Diamond','Club']))\n",
    "\n",
    "# shuffle the cards\n",
    "random.shuffle(deck)\n",
    "\n",
    "# draw five cards\n",
    "print(\"You've got:\")\n",
    "for i in range(5):\n",
    "    print(deck[i][0], \"of\", deck[i][1])\n",
    "        \n",
    "'''\n",
    ">>Output/Runtime Test Cases:\n",
    "\n",
    "You got:\n",
    "5 of Club\n",
    "12 of Club\n",
    "6 of Club\n",
    "9 of Diamond\n",
    "2 of Club\n",
    "'''"
   ]
  },
  {
   "cell_type": "markdown",
   "metadata": {},
   "source": [
    ">**Note:** Run the program again to shuffle the cards.\n",
    "\n",
    "**Explanation:**  \n",
    "\n",
    "In the program, we used the **`product()`** function in **`itertools`** module to create a deck of cards. This function performs the Cartesian product of the two sequences.\n",
    "\n",
    "The two sequences are numbers from 1 to 13 and the four suits. So, altogether we have **13 * 4 = 52** items in the deck with each card as a tuple. For example,\n",
    "\n",
    "```python\n",
    "deck[0] = (1, 'Spade')\n",
    "```\n",
    "\n",
    "Our deck is ordered, so we shuffle it using the function **`shuffle()`** in **`random`** module.\n",
    "\n",
    "Finally, we draw the first five cards and display it to the user. We will get different output each time you run this program as shown in our two outputs.\n",
    "\n",
    "Here we have used the standard modules **`itertools`** and **`random`** that comes with Python."
   ]
  },
  {
   "cell_type": "code",
   "execution_count": null,
   "metadata": {},
   "outputs": [],
   "source": []
  }
 ],
 "metadata": {
  "hide_input": false,
  "kernelspec": {
   "display_name": "Python 3",
   "language": "python",
   "name": "python3"
  },
  "language_info": {
   "codemirror_mode": {
    "name": "ipython",
    "version": 3
   },
   "file_extension": ".py",
   "mimetype": "text/x-python",
   "name": "python",
   "nbconvert_exporter": "python",
   "pygments_lexer": "ipython3",
   "version": "3.8.8"
  },
  "toc": {
   "base_numbering": 1,
   "nav_menu": {},
   "number_sections": true,
   "sideBar": true,
   "skip_h1_title": false,
   "title_cell": "Table of Contents",
   "title_sidebar": "Contents",
   "toc_cell": false,
   "toc_position": {},
   "toc_section_display": true,
   "toc_window_display": false
  },
  "varInspector": {
   "cols": {
    "lenName": 16,
    "lenType": 16,
    "lenVar": 40
   },
   "kernels_config": {
    "python": {
     "delete_cmd_postfix": "",
     "delete_cmd_prefix": "del ",
     "library": "var_list.py",
     "varRefreshCmd": "print(var_dic_list())"
    },
    "r": {
     "delete_cmd_postfix": ") ",
     "delete_cmd_prefix": "rm(",
     "library": "var_list.r",
     "varRefreshCmd": "cat(var_dic_list()) "
    }
   },
   "types_to_exclude": [
    "module",
    "function",
    "builtin_function_or_method",
    "instance",
    "_Feature"
   ],
   "window_display": false
  }
 },
 "nbformat": 4,
 "nbformat_minor": 4
}
