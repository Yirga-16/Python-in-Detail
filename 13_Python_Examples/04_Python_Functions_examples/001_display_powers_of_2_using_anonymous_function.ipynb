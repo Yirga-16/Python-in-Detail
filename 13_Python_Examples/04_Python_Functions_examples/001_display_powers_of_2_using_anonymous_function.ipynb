{
 "cells": [
  {
   "cell_type": "markdown",
   "metadata": {},
   "source": [
    "<small><small><i>\n",
    "All the IPython Notebooks in this **Python Examples** series by Dr. Milaan Parmar are available @ **[GitHub](https://github.com/milaan9/90_Python_Examples)**\n",
    "</i></small></small>"
   ]
  },
  {
   "cell_type": "markdown",
   "metadata": {},
   "source": [
    "# Python Program to Display Powers of 2 Using Anonymous Function\n",
    "\n",
    "In this example, you'll learn to display powers of the integer 2 using Python anonymous function.\n",
    "\n",
    "To understand this example, you should have the knowledge of the following **[Python programming](https://github.com/milaan9/01_Python_Introduction/blob/main/000_Intro_to_Python.ipynb)** topics:\n",
    "\n",
    "* **[Python for Loop](https://github.com/milaan9/03_Python_Flow_Control/blob/main/005_Python_for_Loop.ipynb)**\n",
    "* **[Python Anonymous/Lambda Function](https://github.com/milaan9/04_Python_Functions/blob/main/006_Python_Function_Anonymous.ipynb)**"
   ]
  },
  {
   "cell_type": "markdown",
   "metadata": {},
   "source": [
    "In the program below, we have used an anonymous (lambda) function inside the **[map() built-in function](https://github.com/milaan9/04_Python_Functions/blob/main/002_Python_Functions_Built_in/043_Python_map%28%29.ipynb)** to find the powers of 2."
   ]
  },
  {
   "cell_type": "code",
   "execution_count": 1,
   "metadata": {
    "ExecuteTime": {
     "end_time": "2021-08-04T07:51:34.737230Z",
     "start_time": "2021-08-04T07:51:34.695242Z"
    }
   },
   "outputs": [
    {
     "name": "stdout",
     "output_type": "stream",
     "text": [
      "The total terms are: 11\n",
      "Value of 2 to power 0 is: 1\n",
      "Value of 2 to power 1 is: 2\n",
      "Value of 2 to power 2 is: 4\n",
      "Value of 2 to power 3 is: 8\n",
      "Value of 2 to power 4 is: 16\n",
      "Value of 2 to power 5 is: 32\n",
      "Value of 2 to power 6 is: 64\n",
      "Value of 2 to power 7 is: 128\n",
      "Value of 2 to power 8 is: 256\n",
      "Value of 2 to power 9 is: 512\n",
      "Value of 2 to power 10 is: 1024\n"
     ]
    },
    {
     "data": {
      "text/plain": [
       "'\\n>>Output/Runtime Test Cases:\\n     \\nThe total terms are: 11\\nValue of 2 to power 0 is: 1\\nValue of 2 to power 1 is: 2\\nValue of 2 to power 2 is: 4\\nValue of 2 to power 3 is: 8\\nValue of 2 to power 4 is: 16\\nValue of 2 to power 5 is: 32\\nValue of 2 to power 6 is: 64\\nValue of 2 to power 7 is: 128\\nValue of 2 to power 8 is: 256\\nValue of 2 to power 9 is: 512\\nValue of 2 to power 10 is: 1024\\n'"
      ]
     },
     "execution_count": 1,
     "metadata": {},
     "output_type": "execute_result"
    }
   ],
   "source": [
    "# Example 1: Display the powers of 2 using anonymous function\n",
    "\n",
    "terms = 11\n",
    "\n",
    "# Uncomment code below to take input from the user\n",
    "# terms = int(input(\"How many terms? \"))\n",
    "\n",
    "# use anonymous function\n",
    "result = list(map(lambda x: 2 ** x, range(terms)))\n",
    "\n",
    "print(\"The total terms are:\",terms)\n",
    "for i in range(terms):\n",
    "    print(\"Value of 2 to power\",i,\"is:\",result[i])\n",
    "        \n",
    "'''\n",
    ">>Output/Runtime Test Cases:\n",
    "     \n",
    "The total terms are: 11\n",
    "Value of 2 to power 0 is: 1\n",
    "Value of 2 to power 1 is: 2\n",
    "Value of 2 to power 2 is: 4\n",
    "Value of 2 to power 3 is: 8\n",
    "Value of 2 to power 4 is: 16\n",
    "Value of 2 to power 5 is: 32\n",
    "Value of 2 to power 6 is: 64\n",
    "Value of 2 to power 7 is: 128\n",
    "Value of 2 to power 8 is: 256\n",
    "Value of 2 to power 9 is: 512\n",
    "Value of 2 to power 10 is: 1024\n",
    "'''"
   ]
  },
  {
   "cell_type": "markdown",
   "metadata": {},
   "source": [
    ">**Note:** To test for different number of terms, change the value of terms variable."
   ]
  },
  {
   "cell_type": "code",
   "execution_count": null,
   "metadata": {},
   "outputs": [],
   "source": []
  }
 ],
 "metadata": {
  "hide_input": false,
  "kernelspec": {
   "display_name": "Python 3",
   "language": "python",
   "name": "python3"
  },
  "language_info": {
   "codemirror_mode": {
    "name": "ipython",
    "version": 3
   },
   "file_extension": ".py",
   "mimetype": "text/x-python",
   "name": "python",
   "nbconvert_exporter": "python",
   "pygments_lexer": "ipython3",
   "version": "3.8.8"
  },
  "toc": {
   "base_numbering": 1,
   "nav_menu": {},
   "number_sections": true,
   "sideBar": true,
   "skip_h1_title": false,
   "title_cell": "Table of Contents",
   "title_sidebar": "Contents",
   "toc_cell": false,
   "toc_position": {},
   "toc_section_display": true,
   "toc_window_display": false
  },
  "varInspector": {
   "cols": {
    "lenName": 16,
    "lenType": 16,
    "lenVar": 40
   },
   "kernels_config": {
    "python": {
     "delete_cmd_postfix": "",
     "delete_cmd_prefix": "del ",
     "library": "var_list.py",
     "varRefreshCmd": "print(var_dic_list())"
    },
    "r": {
     "delete_cmd_postfix": ") ",
     "delete_cmd_prefix": "rm(",
     "library": "var_list.r",
     "varRefreshCmd": "cat(var_dic_list()) "
    }
   },
   "types_to_exclude": [
    "module",
    "function",
    "builtin_function_or_method",
    "instance",
    "_Feature"
   ],
   "window_display": false
  }
 },
 "nbformat": 4,
 "nbformat_minor": 4
}
