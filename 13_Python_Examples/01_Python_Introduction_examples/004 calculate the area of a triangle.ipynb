{
 "cells": [
  {
   "cell_type": "markdown",
   "metadata": {},
   "source": [
    "<small><small><i>\n",
    "All the IPython Notebooks in this example series by Dr. Milan Parmar are available @ **[GitHub](https://github.com/milaan9/90_Python_Examples)**\n",
    "</i></small></small>"
   ]
  },
  {
   "cell_type": "markdown",
   "metadata": {},
   "source": [
    "# Python Program to Calculate the Area of a Triangle\n",
    "\n",
    "In this program, you'll learn to calculate the area of a triangle and display it.\n",
    "\n",
    "To understand this example, you should have the knowledge of the following **[Python programming](https://github.com/milaan9/01_Python_Introduction/blob/main/000_Intro_to_Python.ipynb)** topics:\n",
    "\n",
    "* **[Python Input, Output and Import](https://github.com/milaan9/01_Python_Introduction/blob/main/011_Python_Input_Output_Import.ipynb)**\n",
    "* **[Python Data Types](https://github.com/milaan9/01_Python_Introduction/blob/main/009_Python_Data_Types.ipynb)**\n",
    "* **[Python Operators](https://github.com/milaan9/01_Python_Introduction/blob/main/012_Python_Operators.ipynb)**"
   ]
  },
  {
   "cell_type": "markdown",
   "metadata": {},
   "source": [
    "If **`a`**, **`b`** and **`c`** are three sides of a triangle. Then,\n",
    "\n",
    "```python\n",
    "s = (a+b+c)/2\n",
    "area = √(s(s-a)*(s-b)*(s-c))\n",
    "```"
   ]
  },
  {
   "cell_type": "code",
   "execution_count": 1,
   "metadata": {
    "ExecuteTime": {
     "end_time": "2021-07-23T14:50:31.144330Z",
     "start_time": "2021-07-23T14:50:31.110154Z"
    }
   },
   "outputs": [
    {
     "name": "stdout",
     "output_type": "stream",
     "text": [
      "The area of the triangle is 14.70\n"
     ]
    },
    {
     "data": {
      "text/plain": [
       "'\\n>>Output/Runtime Test Cases:\\n     \\nThe area of the triangle is 14.70\\n'"
      ]
     },
     "execution_count": 1,
     "metadata": {},
     "output_type": "execute_result"
    }
   ],
   "source": [
    "#Example: Python Program to find the area of triangle\n",
    "\n",
    "a = 5\n",
    "b = 6\n",
    "c = 7\n",
    "\n",
    "# Uncomment below to take inputs from the user\n",
    "# a = float(input('Enter first side: '))\n",
    "# b = float(input('Enter second side: '))\n",
    "# c = float(input('Enter third side: '))\n",
    "\n",
    "# calculate the semi-perimeter\n",
    "s = (a + b + c) / 2\n",
    "\n",
    "# calculate the area\n",
    "area = (s*(s-a)*(s-b)*(s-c)) ** 0.5\n",
    "print('The area of the triangle is %0.2f' %area)\n",
    "\n",
    "'''\n",
    ">>Output/Runtime Test Cases:\n",
    "     \n",
    "The area of the triangle is 14.70\n",
    "'''"
   ]
  },
  {
   "cell_type": "markdown",
   "metadata": {},
   "source": [
    "**Explanation:**\n",
    "    \n",
    "In this program, area of the triangle is calculated when three sides are given using **[Heron's formula](http://en.wikipedia.org/wiki/Heron%27s_formula)**.\n",
    "\n",
    "If you need to calculate area of a triangle depending upon the input from the user, **[input() function](https://github.com/milaan9/04_Python_Functions/blob/main/002_Python_Functions_Built_in/032_Python_input().ipynb)** can be used."
   ]
  },
  {
   "cell_type": "code",
   "execution_count": 2,
   "metadata": {
    "ExecuteTime": {
     "end_time": "2021-07-23T14:50:37.561793Z",
     "start_time": "2021-07-23T14:50:31.147263Z"
    },
    "scrolled": true
   },
   "outputs": [
    {
     "name": "stdout",
     "output_type": "stream",
     "text": [
      "Enter first side: 15\n",
      "Enter second side: 9\n",
      "Enter third side: 7\n",
      "The area of the triangle is 20.69\n"
     ]
    },
    {
     "data": {
      "text/plain": [
       "'\\n>>Output/Runtime Test Cases\\n     \\nCase 1:\\nEnter first side: 15\\nEnter second side: 9\\nEnter third side: 7\\nArea of the triangle is:  20.69\\n     \\nCase 2:\\nEnter first side: 5\\nEnter second side: 6\\nEnter third side: 7\\nArea of the triangle is:  14.7\\n'"
      ]
     },
     "execution_count": 2,
     "metadata": {},
     "output_type": "execute_result"
    }
   ],
   "source": [
    "# Here is source code of the Python Program to find the area of triangle given all three sides.\n",
    "# The program output is also shown below.\n",
    "\n",
    "# Method 1:\n",
    "\n",
    "# Three sides of the triangle is a, b and c:  \n",
    "a = float(input('Enter first side: '))  \n",
    "b = float(input('Enter second side: '))  \n",
    "c = float(input('Enter third side: '))  \n",
    "  \n",
    "# calculate the semi-perimeter  \n",
    "s = (a + b + c) / 2  \n",
    "  \n",
    "# calculate the area \n",
    "area = (s*(s-a)*(s-b)*(s-c)) **  0.5   \n",
    "print(\"The area of the triangle is %0.2f\" %area)   \n",
    "\n",
    "'''\n",
    ">>Output/Runtime Test Cases\n",
    "     \n",
    "Case 1:\n",
    "Enter first side: 15\n",
    "Enter second side: 9\n",
    "Enter third side: 7\n",
    "Area of the triangle is:  20.69\n",
    "     \n",
    "Case 2:\n",
    "Enter first side: 5\n",
    "Enter second side: 6\n",
    "Enter third side: 7\n",
    "Area of the triangle is:  14.7\n",
    "'''"
   ]
  },
  {
   "cell_type": "code",
   "execution_count": 3,
   "metadata": {
    "ExecuteTime": {
     "end_time": "2021-07-23T14:50:41.082779Z",
     "start_time": "2021-07-23T14:50:37.564719Z"
    }
   },
   "outputs": [
    {
     "name": "stdout",
     "output_type": "stream",
     "text": [
      "Enter first side: 15\n",
      "Enter second side: 9\n",
      "Enter third side: 7\n",
      "Area of the triangle is:  20.69\n"
     ]
    },
    {
     "data": {
      "text/plain": [
       "'\\n>>Output/Runtime Test Cases\\n     \\nCase 1:\\nEnter first side: 15\\nEnter second side: 9\\nEnter third side: 7\\nArea of the triangle is:  20.69\\n     \\nCase 2:\\nEnter first side: 5\\nEnter second side: 6\\nEnter third side: 7\\nArea of the triangle is:  14.7\\n'"
      ]
     },
     "execution_count": 3,
     "metadata": {},
     "output_type": "execute_result"
    }
   ],
   "source": [
    "# Here is source code of the Python Program to find the area of triangle given all three sides.\n",
    "# The program output is also shown below.\n",
    "\n",
    "# Method 2:\n",
    "\n",
    "# Three sides of the triangle is a, b and c:  \n",
    "import math\n",
    "a=int(input(\"Enter first side: \"))\n",
    "b=int(input(\"Enter second side: \"))\n",
    "c=int(input(\"Enter third side: \"))\n",
    "  \n",
    "# calculate the semi-perimeter  \n",
    "s = (a + b + c) / 2  \n",
    "  \n",
    "# calculate the area = (s*(s-a)*(s-b)*(s-c))-1/2\n",
    "area=math.sqrt(s*(s-a)*(s-b)*(s-c)) \n",
    "print(\"Area of the triangle is: \",round(area,2))   \n",
    "\n",
    "'''\n",
    ">>Output/Runtime Test Cases\n",
    "     \n",
    "Case 1:\n",
    "Enter first side: 15\n",
    "Enter second side: 9\n",
    "Enter third side: 7\n",
    "Area of the triangle is:  20.69\n",
    "     \n",
    "Case 2:\n",
    "Enter first side: 5\n",
    "Enter second side: 6\n",
    "Enter third side: 7\n",
    "Area of the triangle is:  14.7\n",
    "'''"
   ]
  },
  {
   "cell_type": "code",
   "execution_count": null,
   "metadata": {},
   "outputs": [],
   "source": []
  }
 ],
 "metadata": {
  "hide_input": false,
  "kernelspec": {
   "display_name": "Python 3",
   "language": "python",
   "name": "python3"
  },
  "language_info": {
   "codemirror_mode": {
    "name": "ipython",
    "version": 3
   },
   "file_extension": ".py",
   "mimetype": "text/x-python",
   "name": "python",
   "nbconvert_exporter": "python",
   "pygments_lexer": "ipython3",
   "version": "3.8.8"
  },
  "toc": {
   "base_numbering": 1,
   "nav_menu": {},
   "number_sections": true,
   "sideBar": true,
   "skip_h1_title": false,
   "title_cell": "Table of Contents",
   "title_sidebar": "Contents",
   "toc_cell": false,
   "toc_position": {},
   "toc_section_display": true,
   "toc_window_display": false
  },
  "varInspector": {
   "cols": {
    "lenName": 16,
    "lenType": 16,
    "lenVar": 40
   },
   "kernels_config": {
    "python": {
     "delete_cmd_postfix": "",
     "delete_cmd_prefix": "del ",
     "library": "var_list.py",
     "varRefreshCmd": "print(var_dic_list())"
    },
    "r": {
     "delete_cmd_postfix": ") ",
     "delete_cmd_prefix": "rm(",
     "library": "var_list.r",
     "varRefreshCmd": "cat(var_dic_list()) "
    }
   },
   "types_to_exclude": [
    "module",
    "function",
    "builtin_function_or_method",
    "instance",
    "_Feature"
   ],
   "window_display": false
  }
 },
 "nbformat": 4,
 "nbformat_minor": 4
}
