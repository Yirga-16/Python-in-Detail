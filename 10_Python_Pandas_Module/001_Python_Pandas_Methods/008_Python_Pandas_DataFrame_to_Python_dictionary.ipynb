{
 "cells": [
  {
   "cell_type": "markdown",
   "metadata": {},
   "source": [
    "<small><small><i>\n",
    "All the IPython Notebooks in this lecture series by Dr. Milan Parmar are available @ **[GitHub](https://github.com/milaan9/10_Python_Pandas_Module/tree/main/001_Python_Pandas_Methods)**\n",
    "</i></small></small>"
   ]
  },
  {
   "cell_type": "markdown",
   "metadata": {},
   "source": [
    "# Convert Pandas DataFrame to Python dictionary\n",
    "\n",
    "In this class, you will learn how to convert **[Pandas DataFrame](https://github.com/milaan9/10_Python_Pandas_Module/blob/main/001_Python_Pandas_DataFrame.ipynb)** into a Python dictionary. It explains creating different kinds of dictionaries from pandas DataFrame.\n",
    "\n",
    "Data Analyst needs to collect the data from heterogeneous sources like CSV files or SQL tables or Python data structures like a dictionary, list, etc. Such data is converted into pandas DataFrame.\n",
    "\n",
    "After analyzing the data, we need to convert the resultant DataFrame back to its original format like CSV files or a dictionary. Or sometimes, we need to convert it into some other form."
   ]
  },
  {
   "cell_type": "markdown",
   "metadata": {},
   "source": [
    "## The `DataFrame.to_dict()` function\n",
    "\n",
    "Pandas have a **`DataFrame.to_dict()`** function to create a Python dict object from DataFrame.\n",
    "\n",
    "**Syntax:**\n",
    "```python\n",
    "DataFrame.to_dict(orient='dict', into=<class 'dict'>)\n",
    "```\n",
    "\n",
    "**Parameters:**\n",
    "\n",
    "1. **`into`**: It is used to define the type of resultant **`dict`**. We can give an actual class or an empty instance.\n",
    "2. **`orient`**: It defines the structure of key-value pairs in the resultant **`dict`**. The below table shows the input parameter, the format in which it creates the **`dict`** and key-value of the resultant **`dict`**.\n",
    "\n",
    ">**Note:** Abbreviations are allowed. **`s`** indicates series, **`sp`** indicates split, **`r`** indicates record likewise.\n",
    "\n",
    "| Parameter | Dict format | Key | Value |\n",
    "|:---- |:---- |:---- | :---- |\n",
    "| **`'dict'` (Default)** | **`{column_label : {row_index : data}}`** | **column label** | **dict of row index and data** |\n",
    "| **`'list'`** | **`{column_label : [data]}`** | **column label** | **list of data** |\n",
    "| **`'series‘`** | **`{column_label : Series(data)}`** | **column label** | **series of data** |\n",
    "| **`'split'`** | **`{'row_index' : [index], ‘column_label’ : [columns], 'data' : [data]}`** | **row index, column labels, data** | **list of row index, list of columns labels, list of data** |\n",
    "| **`'records'`** | **`[{column_label : data}, … , {column_label : data}]`** | **column label** | **data** |\n",
    "| **`'index'`** | **`{row_index : {column_label : data}}`** | **row index** | **dict of column label and data** |"
   ]
  },
  {
   "cell_type": "markdown",
   "metadata": {},
   "source": [
    "<div>\n",
    "<img src=\"img/df2dict.png\" width=\"500\"/>\n",
    "</div>"
   ]
  },
  {
   "cell_type": "markdown",
   "metadata": {},
   "source": [
    "### Example to convert pandas DataFrame to dict\n",
    "\n",
    "In the below example, we read the input from the **[student_data.csv](https://github.com/milaan9/10_Python_Pandas_Module/blob/main/001_Python_Pandas_Methods/student_data.csv)** file and create a DataFrame object. It is then converted into the Python dictionary object.\n",
    "\n",
    "Input CSV file contains a simple dataset of student data with two columns, **`Name`** and **`Marks`**.\n",
    "\n",
    "<div>\n",
    "<img src=\"img/dfcsv.png\" width=\"200\"/>\n",
    "</div>\n",
    "\n",
    "DataFrame is converted into **`dict`** using the default **`'dict'`** parameter."
   ]
  },
  {
   "cell_type": "code",
   "execution_count": 1,
   "metadata": {
    "ExecuteTime": {
     "end_time": "2021-06-17T11:59:02.096128Z",
     "start_time": "2021-06-17T11:59:01.500924Z"
    }
   },
   "outputs": [
    {
     "name": "stdout",
     "output_type": "stream",
     "text": [
      "    Name  Marks\n",
      "0    Nat  70.88\n",
      "1  Harry  85.90\n",
      "2    Joe  91.45\n",
      "\n",
      "Result dict: \n",
      " {'Name': {0: 'Nat', 1: 'Harry', 2: 'Joe'}, 'Marks': {0: 70.88, 1: 85.9, 2: 91.45}}\n"
     ]
    }
   ],
   "source": [
    "import pandas as pd\n",
    "\n",
    "# create dataframe from csv\n",
    "studentDf = pd.read_csv(\"student_data.csv\")\n",
    "print(studentDf)\n",
    "\n",
    "# create dict from dataframe\n",
    "studentDict = studentDf.to_dict()\n",
    "print(\"\\nResult dict: \\n\", studentDict)"
   ]
  },
  {
   "cell_type": "markdown",
   "metadata": {},
   "source": [
    "## DataFrame to dict with a list of values\n",
    "\n",
    "It is a case when we have DataFrame, which needs to be converted into the dictionary object such that column label should be the keys in the dictionary, and all the columns’ data should be added into the resultant dict as a list of values against each key.\n",
    "\n",
    "In that case, we can use **`'list'`** parameter of the **`DataFrame.to_dict()`** function.\n",
    "\n",
    "**Syntax:**\n",
    "```python\n",
    "{column_label : [data]}\n",
    "```\n",
    "\n",
    "**Example:**\n",
    "\n",
    "Let’s see how we can use a **`'list'`** parameter to create DataFrame with a list of values."
   ]
  },
  {
   "cell_type": "code",
   "execution_count": 2,
   "metadata": {
    "ExecuteTime": {
     "end_time": "2021-06-17T11:59:12.969535Z",
     "start_time": "2021-06-17T11:59:12.951960Z"
    }
   },
   "outputs": [
    {
     "name": "stdout",
     "output_type": "stream",
     "text": [
      "    Name  Marks\n",
      "0    Nat  70.88\n",
      "1  Harry  85.90\n",
      "2    Joe  91.45\n",
      "\n",
      "Result dict: \n",
      " {'Name': ['Nat', 'Harry', 'Joe'], 'Marks': [70.88, 85.9, 91.45]}\n"
     ]
    }
   ],
   "source": [
    "import pandas as pd\n",
    "\n",
    "# create dataframe from csv\n",
    "studentDf = pd.read_csv(\"student_data.csv\")\n",
    "print(studentDf)\n",
    "\n",
    "# create dict from dataframe\n",
    "studentDict = studentDf.to_dict('list')\n",
    "print(\"\\nResult dict: \\n\", studentDict)"
   ]
  },
  {
   "cell_type": "markdown",
   "metadata": {},
   "source": [
    "## DataFrame to dict with pandas series of values\n",
    "\n",
    "When we need to convert the DataFrame into **`dict`** whereas column name as a key of the **`dict`**. And row index and data as a value in the **`dict`** for the respective keys.\n",
    "\n",
    "**Syntax:**\n",
    "```python\n",
    "{column_label : Series(row_index data)}\n",
    "```\n",
    "\n",
    "In that case, we can use the **`'series'`** parameter of **`DataFrame.to_dict()`** function.\n",
    "\n",
    "**Example:**\n",
    "\n",
    "In the below example, **`dict`** is created with two entries, one for **`Name`** column and the other for the **`Marks`** column of the DataFrame."
   ]
  },
  {
   "cell_type": "code",
   "execution_count": 3,
   "metadata": {
    "ExecuteTime": {
     "end_time": "2021-06-17T11:59:21.696971Z",
     "start_time": "2021-06-17T11:59:21.668657Z"
    }
   },
   "outputs": [
    {
     "name": "stdout",
     "output_type": "stream",
     "text": [
      "    Name  Marks\n",
      "0    Nat  70.88\n",
      "1  Harry  85.90\n",
      "2    Joe  91.45\n",
      "\n",
      "Result dict: \n",
      " {'Name': 0      Nat\n",
      "1    Harry\n",
      "2      Joe\n",
      "Name: Name, dtype: object, 'Marks': 0    70.88\n",
      "1    85.90\n",
      "2    91.45\n",
      "Name: Marks, dtype: float64}\n"
     ]
    }
   ],
   "source": [
    "import pandas as pd\n",
    "\n",
    "# create dataframe from csv\n",
    "studentDf = pd.read_csv(\"student_data.csv\")\n",
    "print(studentDf)\n",
    "\n",
    "# create dict from dataframe\n",
    "studentDict = studentDf.to_dict('series')\n",
    "print(\"\\nResult dict: \\n\", studentDict)"
   ]
  },
  {
   "cell_type": "markdown",
   "metadata": {},
   "source": [
    "## DataFrame to dict without header and index\n",
    "\n",
    "When we want to collect the data from DataFrame without the column headers or we need to separate the row index and header from the data, we can use the **`'split'`** parameter of **`DataFrame.to_dict()`** function. It splits the input DataFrame into three parts, i.e., row index, column labels, and actual data.\n",
    "\n",
    "**Syntax:**\n",
    "```python\n",
    "{'row_index' : [index], 'column_label' : [columns], 'data' : [data]}\n",
    "```\n",
    "\n",
    "**Example:**\n",
    "\n",
    "We can get the data without index or header from the resultant **`dict`** using key **`data`** as shown below."
   ]
  },
  {
   "cell_type": "code",
   "execution_count": 4,
   "metadata": {
    "ExecuteTime": {
     "end_time": "2021-06-17T11:59:31.353108Z",
     "start_time": "2021-06-17T11:59:31.327723Z"
    }
   },
   "outputs": [
    {
     "name": "stdout",
     "output_type": "stream",
     "text": [
      "    Name  Marks\n",
      "0    Nat  70.88\n",
      "1  Harry  85.90\n",
      "2    Joe  91.45\n",
      "\n",
      " {'index': [0, 1, 2], 'columns': ['Name', 'Marks'], 'data': [['Nat', 70.88], ['Harry', 85.9], ['Joe', 91.45]]}\n",
      "\n",
      "List of values from DF without index and header: \n",
      " [['Nat', 70.88], ['Harry', 85.9], ['Joe', 91.45]]\n"
     ]
    }
   ],
   "source": [
    "import pandas as pd\n",
    "\n",
    "# create dataframe from csv\n",
    "studentDf = pd.read_csv(\"student_data.csv\")\n",
    "print(studentDf)\n",
    "\n",
    "studentDict = studentDf.to_dict('split')\n",
    "print(\"\\n\", studentDict)\n",
    "\n",
    "# print only data\n",
    "print(\"\\nList of values from DF without index and header: \\n\", studentDict['data'])"
   ]
  },
  {
   "cell_type": "markdown",
   "metadata": {},
   "source": [
    "## DataFrame to dict by row\n",
    "\n",
    "When we have a DataFrame where **each row** contains data that needs to be store in a **separate dictionary** object, i.e., we need a data row-wise, we can use the **`'records'`** parameter of the **`DataFrame.to_dict()`** function.\n",
    "\n",
    "It returns a list of dictionary objects. A **`dict`** for each row, where the key is a column label, and the value is column data.\n",
    "\n",
    "**Syntax:**\n",
    "```python\n",
    "{'row_index' : [index], 'column_label' : [columns], 'data' : [data]}\n",
    "```\n",
    "**Example:**\n",
    "\n",
    "In the below example, we created list of dictionary for each student data."
   ]
  },
  {
   "cell_type": "code",
   "execution_count": 5,
   "metadata": {
    "ExecuteTime": {
     "end_time": "2021-06-17T11:59:40.514133Z",
     "start_time": "2021-06-17T11:59:40.488748Z"
    }
   },
   "outputs": [
    {
     "name": "stdout",
     "output_type": "stream",
     "text": [
      "    Name  Marks\n",
      "0    Nat  70.88\n",
      "1  Harry  85.90\n",
      "2    Joe  91.45\n",
      "[{'Name': 'Nat', 'Marks': 70.88}, {'Name': 'Harry', 'Marks': 85.9}, {'Name': 'Joe', 'Marks': 91.45}]\n"
     ]
    },
    {
     "name": "stderr",
     "output_type": "stream",
     "text": [
      "C:\\ProgramData\\Anaconda3\\lib\\site-packages\\pandas\\core\\frame.py:1549: FutureWarning: Using short name for 'orient' is deprecated. Only the options: ('dict', list, 'series', 'split', 'records', 'index') will be used in a future version. Use one of the above to silence this warning.\n",
      "  warnings.warn(\n"
     ]
    }
   ],
   "source": [
    "# import pandas library\n",
    "import pandas as pd\n",
    "\n",
    "# create dataframe from csv\n",
    "studentDf = pd.read_csv(\"student_data.csv\")\n",
    "print(studentDf)\n",
    "\n",
    "# create dict from dataframe\n",
    "studentDict = studentDf.to_dict('record')\n",
    "print(studentDict)"
   ]
  },
  {
   "cell_type": "markdown",
   "metadata": {},
   "source": [
    "## DataFrame to dict by row index\n",
    "\n",
    "When we have a DataFrame with row indexes and if we need to convert the data of each row from DataFrame to **`dict`**, we can use the **`index`** parameter of the **`DataFrame.to_dict()`** function.\n",
    "\n",
    "It returns a list of dictionary objects. A **`dict`** is created for each row. Where the key is a row index, and the value is **`dict`** of column label and data.\n",
    "\n",
    "**Syntax:**\n",
    "```python\n",
    "{row_index : {column_label : data}}\n",
    "```\n",
    "\n",
    "**Example:**\n",
    "\n",
    "In the below example **`dict`** object is created for each row of student data."
   ]
  },
  {
   "cell_type": "code",
   "execution_count": 6,
   "metadata": {
    "ExecuteTime": {
     "end_time": "2021-06-17T11:59:47.728408Z",
     "start_time": "2021-06-17T11:59:47.714736Z"
    }
   },
   "outputs": [
    {
     "name": "stdout",
     "output_type": "stream",
     "text": [
      "    Name  Marks\n",
      "0    Nat  70.88\n",
      "1  Harry  85.90\n",
      "2    Joe  91.45\n",
      "{0: {'Name': 'Nat', 'Marks': 70.88}, 1: {'Name': 'Harry', 'Marks': 85.9}, 2: {'Name': 'Joe', 'Marks': 91.45}}\n"
     ]
    }
   ],
   "source": [
    "import pandas as pd\n",
    "\n",
    "# create dataframe from csv\n",
    "studentDf = pd.read_csv(\"student_data.csv\")\n",
    "print(studentDf)\n",
    "\n",
    "# create dict from dataframe\n",
    "studentDict = studentDf.to_dict('index')\n",
    "print(studentDict)"
   ]
  },
  {
   "cell_type": "markdown",
   "metadata": {},
   "source": [
    "## DataFrame to dict with one column as the key\n",
    "\n",
    "In this section, we target the use case when we need to create a **`dict`** from DataFrame where one column as a key of **`dict`** and other columns as the value of the **`dict`**.\n",
    "\n",
    "Suppose we have student DataFrame with two columns, student’s **Name**, and student’s **Marks**. And we need to store each student’s data in the **`dict`** where the student name is the Key and their marks as a Value of the **`dict`**.\n",
    "\n",
    "We can do it in various ways, as shown below:\n",
    "\n",
    "* Using **`df.set_index('Col1').to_dict()['Col2']`**\n",
    "* Using **`zip(df.Col1, df.Col2)`**\n",
    "* Using **`df.set_index('Col1').T.to_dict('list')`**\n",
    "\n",
    "**Example:**\n",
    "\n",
    "Below example uses **`df.set_index('Col1').to_dict()['Col2']`** to get the expected output."
   ]
  },
  {
   "cell_type": "code",
   "execution_count": 7,
   "metadata": {
    "ExecuteTime": {
     "end_time": "2021-06-17T11:59:55.380171Z",
     "start_time": "2021-06-17T11:59:55.351851Z"
    }
   },
   "outputs": [
    {
     "name": "stdout",
     "output_type": "stream",
     "text": [
      "    Name  Marks\n",
      "0    Nat  70.88\n",
      "1  Harry  85.90\n",
      "2    Joe  91.45\n",
      "{'Nat': 70.88, 'Harry': 85.9, 'Joe': 91.45}\n"
     ]
    }
   ],
   "source": [
    "import pandas as pd\n",
    "\n",
    "# create dataframe from csv\n",
    "studentDf = pd.read_csv(\"student_data.csv\")\n",
    "print(studentDf)\n",
    "\n",
    "# create dict with Name as key and marks as value\n",
    "studentDict = studentDf.set_index('Name').to_dict()['Marks']\n",
    "\n",
    "print(studentDict)"
   ]
  },
  {
   "cell_type": "markdown",
   "metadata": {},
   "source": [
    "We can also achieve the same result using **`zip()`** the function."
   ]
  },
  {
   "cell_type": "code",
   "execution_count": 8,
   "metadata": {
    "ExecuteTime": {
     "end_time": "2021-06-17T11:59:59.387932Z",
     "start_time": "2021-06-17T11:59:59.372311Z"
    }
   },
   "outputs": [],
   "source": [
    "# create dict with Name as key and marks as value\n",
    "studentDict = dict(zip(studentDf.Name, studentDf.Marks))"
   ]
  },
  {
   "cell_type": "markdown",
   "metadata": {},
   "source": [
    "If we want to collect the **column data into the list**, it can be done by applying **transpose** operation on the DataFrame and then converting it into dict."
   ]
  },
  {
   "cell_type": "code",
   "execution_count": 9,
   "metadata": {
    "ExecuteTime": {
     "end_time": "2021-06-17T12:00:12.894121Z",
     "start_time": "2021-06-17T12:00:12.878010Z"
    }
   },
   "outputs": [
    {
     "name": "stdout",
     "output_type": "stream",
     "text": [
      "    Name  Marks\n",
      "0    Nat  70.88\n",
      "1  Harry  85.90\n",
      "2    Joe  91.45\n",
      "{'Nat': [70.88], 'Harry': [85.9], 'Joe': [91.45]}\n"
     ]
    }
   ],
   "source": [
    "import pandas as pd\n",
    "\n",
    "# create dataframe from csv\n",
    "studentDf = pd.read_csv(\"student_data.csv\")\n",
    "print(studentDf)\n",
    "\n",
    "# create dict with Name as key and marks as value\n",
    "studentDict = studentDf.set_index('Name').T.to_dict('list')\n",
    "print(studentDict)"
   ]
  },
  {
   "cell_type": "markdown",
   "metadata": {},
   "source": [
    "## DataFrame to dict using `into` parameter\n",
    "\n",
    "While converting a DataFrame to **`dict`** if we need output **`dict`** to be of a particular type, we can use the parameter into of **`DataFrame.to_dict()`** function. We can specify the class name or the instance of the class for the resultant **`dict`**.\n",
    "\n",
    "**Example:**\n",
    "\n",
    "In the below example, we converted DataFrame to the **`dict`** of type **OrderedDict**."
   ]
  },
  {
   "cell_type": "code",
   "execution_count": 10,
   "metadata": {
    "ExecuteTime": {
     "end_time": "2021-06-17T12:00:19.780268Z",
     "start_time": "2021-06-17T12:00:19.759763Z"
    }
   },
   "outputs": [
    {
     "name": "stdout",
     "output_type": "stream",
     "text": [
      "    Name  Marks\n",
      "0    Nat  70.88\n",
      "1  Harry  85.90\n",
      "2    Joe  91.45\n",
      "OrderedDict([('Name', OrderedDict([(0, 'Nat'), (1, 'Harry'), (2, 'Joe')])), ('Marks', OrderedDict([(0, 70.88), (1, 85.9), (2, 91.45)]))])\n"
     ]
    }
   ],
   "source": [
    "# import pandas library\n",
    "from collections import OrderedDict\n",
    "import pandas as pd\n",
    "\n",
    "# create dataframe from csv\n",
    "studentDf = pd.read_csv(\"student_data.csv\")\n",
    "print(studentDf)\n",
    "\n",
    "# convert dataframe to ordered dict\n",
    "studentDict = studentDf.to_dict(into=OrderedDict)\n",
    "print(studentDict)"
   ]
  },
  {
   "cell_type": "code",
   "execution_count": null,
   "metadata": {},
   "outputs": [],
   "source": []
  }
 ],
 "metadata": {
  "hide_input": false,
  "kernelspec": {
   "display_name": "Python 3",
   "language": "python",
   "name": "python3"
  },
  "language_info": {
   "codemirror_mode": {
    "name": "ipython",
    "version": 3
   },
   "file_extension": ".py",
   "mimetype": "text/x-python",
   "name": "python",
   "nbconvert_exporter": "python",
   "pygments_lexer": "ipython3",
   "version": "3.8.8"
  },
  "toc": {
   "base_numbering": 1,
   "nav_menu": {},
   "number_sections": true,
   "sideBar": true,
   "skip_h1_title": false,
   "title_cell": "Table of Contents",
   "title_sidebar": "Contents",
   "toc_cell": false,
   "toc_position": {},
   "toc_section_display": true,
   "toc_window_display": false
  },
  "varInspector": {
   "cols": {
    "lenName": 16,
    "lenType": 16,
    "lenVar": 40
   },
   "kernels_config": {
    "python": {
     "delete_cmd_postfix": "",
     "delete_cmd_prefix": "del ",
     "library": "var_list.py",
     "varRefreshCmd": "print(var_dic_list())"
    },
    "r": {
     "delete_cmd_postfix": ") ",
     "delete_cmd_prefix": "rm(",
     "library": "var_list.r",
     "varRefreshCmd": "cat(var_dic_list()) "
    }
   },
   "types_to_exclude": [
    "module",
    "function",
    "builtin_function_or_method",
    "instance",
    "_Feature"
   ],
   "window_display": false
  }
 },
 "nbformat": 4,
 "nbformat_minor": 2
}
