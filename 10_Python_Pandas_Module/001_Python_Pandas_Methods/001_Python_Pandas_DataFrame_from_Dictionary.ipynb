{
 "cells": [
  {
   "cell_type": "markdown",
   "metadata": {},
   "source": [
    "<small><small><i>\n",
    "All the IPython Notebooks in this lecture series by Dr. Milan Parmar are available @ **[GitHub](https://github.com/milaan9/10_Python_Pandas_Module/tree/main/001_Python_Pandas_Methods)**\n",
    "</i></small></small>"
   ]
  },
  {
   "cell_type": "markdown",
   "metadata": {},
   "source": [
    "# Create Pandas DataFrame from Python Dictionary\n",
    "\n",
    "In this class shows how to convert a **[Python dictionary](https://github.com/milaan9/02_Python_Datatypes/blob/main/005_Python_Dictionary.ipynb)** to **[Pandas DataFrame](https://github.com/milaan9/10_Python_Pandas_Module/blob/main/001_Python_Pandas_DataFrame.ipynb)**. It covers the creating DataFrame from all types of dictionaries using the DataFrame constructor and **`from_dict()`** method.\n",
    "\n",
    "And at the end of this class, we summarize the usage of both ways with the comparison. So please stay till the end."
   ]
  },
  {
   "cell_type": "markdown",
   "metadata": {},
   "source": [
    "Python dictionary is the data structure that stores the data in key-value pairs. By converting data from dictionary format to DataFrame will make it very competent for analysis by using functions of DataFrame.\n",
    "\n",
    "There are multiple ways to convert Python dictionary object into Pandas DataFrame. Majorly used ways are,\n",
    "\n",
    "1. DataFrame constructor\n",
    "2. **`from_dict()`**"
   ]
  },
  {
   "cell_type": "markdown",
   "metadata": {},
   "source": [
    "## Create DataFrame from dict using constructor\n",
    "\n",
    "**DataFrame constructor** can be used to create DataFrame from different data structures in python like dict, list, set, tuple, and ndarray.\n",
    "\n",
    "**Example:** \n",
    "\n",
    "We create a DataFrame object using dictionary objects contain student data.\n",
    "\n",
    "<div>\n",
    "<img src=\"img/dfdict.png\" width=\"300\"/>\n",
    "</div>"
   ]
  },
  {
   "cell_type": "code",
   "execution_count": 1,
   "metadata": {
    "ExecuteTime": {
     "end_time": "2021-06-17T11:43:12.573656Z",
     "start_time": "2021-06-17T11:43:11.829037Z"
    },
    "scrolled": true
   },
   "outputs": [
    {
     "name": "stdout",
     "output_type": "stream",
     "text": [
      "{'name': ['Joe', 'Nat', 'Harry'], 'age': [20, 21, 19], 'marks': [85.1, 77.8, 91.54]}\n",
      "    name  age  marks\n",
      "0    Joe   20  85.10\n",
      "1    Nat   21  77.80\n",
      "2  Harry   19  91.54\n"
     ]
    }
   ],
   "source": [
    "import pandas as pd\n",
    "\n",
    "# Create dict object\n",
    "student_dict = {\"name\": [\"Joe\", \"Nat\", \"Harry\"], \"age\": [20, 21, 19], \"marks\": [85.10, 77.80, 91.54]}\n",
    "print(student_dict)\n",
    "\n",
    "# Create DataFrame from dict\n",
    "student_df = pd.DataFrame(student_dict)\n",
    "print(student_df)"
   ]
  },
  {
   "cell_type": "markdown",
   "metadata": {},
   "source": [
    ">**Note:** When you convert a **`dict`** to DataFrame by default,  all the keys of the **`dict`** object becomes columns, and the range of numbers 0, 1, 2,…,n is assigned as a row index."
   ]
  },
  {
   "cell_type": "markdown",
   "metadata": {},
   "source": [
    "## DataFrame from dict with required columns only\n",
    "\n",
    "While converting the whole **`dict`** to DataFrame, we may need only some of the columns to be included in the resulting DataFrame.\n",
    "\n",
    "We can select only required columns by passing list column labels to **`columns=['col1', 'col2']`** parameter in the constructor.\n",
    "\n",
    "**Example:**\n",
    "\n",
    "In the case of student DataFrame for analyzing the annual score, we need only student **`name`** and **`marks`** whereas the **`age`** column is not required. We can select only required columns, as shown in the below example."
   ]
  },
  {
   "cell_type": "code",
   "execution_count": 2,
   "metadata": {
    "ExecuteTime": {
     "end_time": "2021-06-17T11:43:14.927142Z",
     "start_time": "2021-06-17T11:43:14.899802Z"
    }
   },
   "outputs": [
    {
     "name": "stdout",
     "output_type": "stream",
     "text": [
      "{'name': ['Joe', 'Nat', 'Harry'], 'age': [20, 21, 19], 'marks': [85.1, 77.8, 91.54]}\n",
      "    name  marks\n",
      "0    Joe  85.10\n",
      "1    Nat  77.80\n",
      "2  Harry  91.54\n"
     ]
    }
   ],
   "source": [
    "import pandas as pd\n",
    "\n",
    "# Create dict object\n",
    "student_dict = {\"name\": [\"Joe\", \"Nat\", \"Harry\"], \"age\": [20, 21, 19], \"marks\": [85.10, 77.80, 91.54]}\n",
    "print(student_dict)\n",
    "\n",
    "# Create DataFrame from dict\n",
    "student_df = pd.DataFrame(student_dict, columns=[\"name\", \"marks\"])\n",
    "print(student_df)"
   ]
  },
  {
   "cell_type": "markdown",
   "metadata": {},
   "source": [
    "## DataFrame from dict with user-defined indexes\n",
    "\n",
    "In pandas DataFrame, each row has an index that is used to identify each row. In some cases, we need to provide a customized index for each row. We can do that while creating the DataFrame from **`dict`** using the **`index`** parameter of the DataFrame constructor.\n",
    "\n",
    "The default index is a range of integers starting from 0 to a number of rows. We can pass a list of the row indexes as **`index=['index1','index2']`** to the dataFrame constructor.\n",
    "\n",
    "**Example:**\n",
    "\n",
    "In the below example, we have given a customer index for each student, making it more readable and easy to access the row using it."
   ]
  },
  {
   "cell_type": "code",
   "execution_count": 3,
   "metadata": {
    "ExecuteTime": {
     "end_time": "2021-06-17T11:43:17.231317Z",
     "start_time": "2021-06-17T11:43:17.218623Z"
    }
   },
   "outputs": [
    {
     "name": "stdout",
     "output_type": "stream",
     "text": [
      "{'name': ['Joe', 'Nat', 'Harry'], 'age': [20, 21, 19], 'marks': [85.1, 77.8, 91.54]}\n",
      "        name  age  marks\n",
      "stud1    Joe   20  85.10\n",
      "stud2    Nat   21  77.80\n",
      "stud3  Harry   19  91.54\n"
     ]
    }
   ],
   "source": [
    "# import pandas library\n",
    "import pandas as pd\n",
    "\n",
    "# Create dict object\n",
    "student_dict = {\"name\": [\"Joe\", \"Nat\", \"Harry\"], \"age\": [20, 21, 19], \"marks\": [85.10, 77.80, 91.54]}\n",
    "print(student_dict)\n",
    "\n",
    "# Create DataFrame from dict\n",
    "student_df = pd.DataFrame(student_dict, index=[\"stud1\", \"stud2\", \"stud3\"])\n",
    "print(student_df)"
   ]
  },
  {
   "cell_type": "markdown",
   "metadata": {},
   "source": [
    "## DataFrame from dict by changing the column data type\n",
    "\n",
    "By default, while creating a DataFrame from **`dict`** using constructor, it keeps the original data type of the values in dict. But, if we need to change the data type of the data in the resulting DataFrame, we can use the **`dtype`** parameter in the constructor.\n",
    "\n",
    "Only one data type is allowed to specify as **`dtype='data_type'`** which will be applicable for all the data in the resultant DataFrame. If we do not force such a data type, it internally infers from the Data.\n",
    "\n",
    "**Example:**\n",
    "\n",
    "As you can see below example, we are trying to change the data type to **float64** for all the columns. But, it changes the data type of **`age`** and **`marks`** columns only to **float64** even though the **`marks`** column type was **`object`**. But, the **`name`** column type is not changed because string values in that column cannot be converted to **float64**."
   ]
  },
  {
   "cell_type": "code",
   "execution_count": 4,
   "metadata": {
    "ExecuteTime": {
     "end_time": "2021-06-17T11:43:18.680516Z",
     "start_time": "2021-06-17T11:43:18.659036Z"
    }
   },
   "outputs": [
    {
     "name": "stdout",
     "output_type": "stream",
     "text": [
      "DataFrame with inferred data type : \n",
      " name     object\n",
      "age       int64\n",
      "marks    object\n",
      "dtype: object\n",
      "DataFrame with changed data type : \n",
      " name      object\n",
      "age      float64\n",
      "marks    float64\n",
      "dtype: object\n",
      "    name   age  marks\n",
      "0    Joe  20.0  85.00\n",
      "1    Nat  21.0  77.00\n",
      "2  Harry  19.0  91.54\n"
     ]
    }
   ],
   "source": [
    "# import pandas library\n",
    "import pandas as pd\n",
    "\n",
    "# Create dict object\n",
    "student_dict = {\"name\": [\"Joe\", \"Nat\", \"Harry\"], \"age\": [20, 21, 19], \"marks\": [\"85\", \"77\", \"91.54\"]}\n",
    "\n",
    "# Create DataFrame from dict\n",
    "student_df = pd.DataFrame(student_dict)\n",
    "print(\"DataFrame with inferred data type : \\n\", student_df.dtypes)\n",
    "\n",
    "student_df = pd.DataFrame(student_dict, dtype=\"float64\")\n",
    "print(\"DataFrame with changed data type : \\n\", student_df.dtypes)\n",
    "\n",
    "print(student_df)"
   ]
  },
  {
   "cell_type": "markdown",
   "metadata": {
    "ExecuteTime": {
     "end_time": "2021-05-29T14:10:13.245353Z",
     "start_time": "2021-05-29T14:10:13.213129Z"
    }
   },
   "source": [
    ">**Note:** It changes the data type only if it is compatible with the new data type. Otherwise, it keeps the original data type."
   ]
  },
  {
   "cell_type": "code",
   "execution_count": 5,
   "metadata": {
    "ExecuteTime": {
     "end_time": "2021-06-17T11:43:22.590141Z",
     "start_time": "2021-06-17T11:43:22.554986Z"
    }
   },
   "outputs": [
    {
     "name": "stdout",
     "output_type": "stream",
     "text": [
      "    index      company   body-style  wheel-base  length engine-type  \\\n",
      "0       0  alfa-romero  convertible        88.6   168.8        dohc   \n",
      "1       1  alfa-romero  convertible        88.6   168.8        dohc   \n",
      "2       2  alfa-romero    hatchback        94.5   171.2        ohcv   \n",
      "3       3         audi        sedan        99.8   176.6         ohc   \n",
      "4       4         audi        sedan        99.4   176.6         ohc   \n",
      "..    ...          ...          ...         ...     ...         ...   \n",
      "56     81   volkswagen        sedan        97.3   171.7         ohc   \n",
      "57     82   volkswagen        sedan        97.3   171.7         ohc   \n",
      "58     86   volkswagen        sedan        97.3   171.7         ohc   \n",
      "59     87        volvo        sedan       104.3   188.8         ohc   \n",
      "60     88        volvo        wagon       104.3   188.8         ohc   \n",
      "\n",
      "   num-of-cylinders  horsepower  average-mileage    price  \n",
      "0              four         111               21  13495.0  \n",
      "1              four         111               21  16500.0  \n",
      "2               six         154               19  16500.0  \n",
      "3              four         102               24  13950.0  \n",
      "4              five         115               18  17450.0  \n",
      "..              ...         ...              ...      ...  \n",
      "56             four          85               27   7975.0  \n",
      "57             four          52               37   7995.0  \n",
      "58             four         100               26   9995.0  \n",
      "59             four         114               23  12940.0  \n",
      "60             four         114               23  13415.0  \n",
      "\n",
      "[61 rows x 10 columns]\n"
     ]
    }
   ],
   "source": [
    "cars = pd.read_csv(\"automobile_data.csv\")\n",
    "print(cars)"
   ]
  },
  {
   "cell_type": "markdown",
   "metadata": {},
   "source": [
    "## DataFrame from dict with a single value\n",
    "\n",
    "If we have a **`dict`** with only single values for each key and need to convert such **`dict`** to the DataFrame, we can use the DataFrame constructor.\n",
    "\n",
    "In such a case, it converts the **`dict`** to DataFrame as we have seen before, like keys of the **`dict`** will be column labels and values will be the column data. But, we must provide the index parameter to give the row index. Else it throws an error,\n",
    "\n",
    "```python\n",
    "ValueError: If using all scalar values, you must pass an index\n",
    "```\n",
    "**Example:**\n",
    "\n",
    "In the below example, we have provided the customized **`index=['stud1']`** to the DataFrame."
   ]
  },
  {
   "cell_type": "code",
   "execution_count": 6,
   "metadata": {
    "ExecuteTime": {
     "end_time": "2021-06-17T11:43:29.882536Z",
     "start_time": "2021-06-17T11:43:29.866912Z"
    }
   },
   "outputs": [
    {
     "name": "stdout",
     "output_type": "stream",
     "text": [
      "{'name': 'Smith', 'age': 22, 'marks': 88.9}\n",
      "        name  age  marks\n",
      "stud1  Smith   22   88.9\n"
     ]
    }
   ],
   "source": [
    "# import pandas library\n",
    "import pandas as pd\n",
    "\n",
    "# Create dict object\n",
    "student_dict = {'name': 'Smith', 'age': 22, 'marks': 88.90}\n",
    "print(student_dict)\n",
    "\n",
    "student_df = pd.DataFrame(student_dict, index=['stud1'])\n",
    "print(student_df)"
   ]
  },
  {
   "cell_type": "markdown",
   "metadata": {},
   "source": [
    "## DataFrame from dict with key and value as a column\n",
    "\n",
    "Suppose we have a dictionary object where the key is the **student’s name**, and the value is the student’s marks. And we want the keys in one column and all the values in another column of the DataFrame.\n",
    "\n",
    "For that, rather than passing a whole **`dict`** object, we need to pass each key-value pair in the dictionary to the DataFrame constructor to create a new DataFrame.\n",
    "\n",
    "We can get the entry of key-value pair using **`dict.items()`** and pass that function to the constructor.\n",
    "\n",
    "**Example:**\n",
    "\n",
    "As shown in the below example, we need to pass an entry of key-value to the constructor and give **`column`** labels using columns parameter."
   ]
  },
  {
   "cell_type": "code",
   "execution_count": 7,
   "metadata": {
    "ExecuteTime": {
     "end_time": "2021-06-17T11:43:50.961390Z",
     "start_time": "2021-06-17T11:43:50.924284Z"
    }
   },
   "outputs": [
    {
     "name": "stdout",
     "output_type": "stream",
     "text": [
      "{'Joe': 85.1, 'Nat': 75.83, 'Harry': 69.7}\n",
      "    name  marks\n",
      "0    Joe  85.10\n",
      "1    Nat  75.83\n",
      "2  Harry  69.70\n"
     ]
    }
   ],
   "source": [
    "import pandas as pd\n",
    "\n",
    "# Create dict object\n",
    "student_dict = {\"Joe\": 85.10, \"Nat\": 75.83, \"Harry\": 69.70}\n",
    "print(student_dict)\n",
    "\n",
    "# Create DataFrame from dict\n",
    "student_df = pd.DataFrame(student_dict.items(), columns=[\"name\", \"marks\"])\n",
    "print(student_df)"
   ]
  },
  {
   "cell_type": "markdown",
   "metadata": {},
   "source": [
    "## Create DataFrame from list of dict\n",
    "\n",
    "For the sake of our understanding, consider the case where each school stores data of students into the dictionary data structure. Each school store different information about students. Like, some school stores student’s hobby whereas some school only stores academic information. If we want to analyze data of all the students from the city, we need to gather all this information into the DataFrame.\n",
    "\n",
    "To convert such a list of **`dict`** from different schools can be converted to a single DataFrame using either **`DataFrame.from_dict()`** function or DataFrame constructor.\n",
    "\n",
    "By default, keys of all the different dictionary objects are converted into columns of resultant DataFrame. It handles the missing keys by adding NaN where the values for the column are missing.\n",
    "\n",
    "**Example:**\n",
    "\n",
    "Let’s see how we can use a constructor to create DataFrame from different dictionary objects."
   ]
  },
  {
   "cell_type": "code",
   "execution_count": 8,
   "metadata": {
    "ExecuteTime": {
     "end_time": "2021-06-17T11:43:55.527743Z",
     "start_time": "2021-06-17T11:43:55.510653Z"
    }
   },
   "outputs": [
    {
     "name": "stdout",
     "output_type": "stream",
     "text": [
      "[{'name': 'Joe', 'age': 20, 'marks': '85.58', 'hobby': 'smimming'}, {'name': 'Nat', 'age': 21, 'marks': '77.21'}, {'name': 'Harry', 'age': 19, 'marks': '91.54'}]\n",
      "    name  age  marks     hobby\n",
      "0    Joe   20  85.58  smimming\n",
      "1    Nat   21  77.21       NaN\n",
      "2  Harry   19  91.54       NaN\n"
     ]
    }
   ],
   "source": [
    "import pandas as pd\n",
    "\n",
    "# Create dict object\n",
    "student_dict = [{\"name\": \"Joe\", \"age\": 20, \"marks\": \"85.58\", \"hobby\": \"smimming\"},\n",
    "                {\"name\": \"Nat\", \"age\": 21, \"marks\": \"77.21\", },\n",
    "                {\"name\": \"Harry\", \"age\": 19, \"marks\": \"91.54\"}]\n",
    "print(student_dict)\n",
    "\n",
    "# Create DataFrame object\n",
    "student_df = pd.DataFrame(student_dict)\n",
    "print(student_df)"
   ]
  },
  {
   "cell_type": "markdown",
   "metadata": {},
   "source": [
    "## The `from_dict()` function\n",
    "\n",
    "This is another way of creating DataFrame from a Python dictionary using **`DataFrame.from_dict() `** method.\n",
    "\n",
    ">**Note:** This method is useful for the cases when you need to **transpose** the DataFrame i.e. when we need the keys in the dictionary object as rows in the resultant DataFrame. In all the other cases DataFrame constructor should be preferred.\n",
    "\n",
    "**Syntax:**\n",
    "\n",
    "```python\n",
    "DataFrame.from_dict(data, orient='columns', dtype=None, columns=None)\n",
    "```\n",
    "\n",
    "**Parameters:**\n",
    "\n",
    "1. **`data`**: It takes **`dict`**, **`list`**, **`set`**, **`ndarray`**, **`Iterable`**, or **`DataFrame`** as input. An empty DataFrame will be created if it is not provided. The resultant column order follows the insertion order.\n",
    "\n",
    "\n",
    "2. **`orient`**: (Optional) If the keys of the **`dict`** should be the rows of the DataFrame, then set **`orient = index`** else set it to **`column (Default)`** if the keys should be columns of the resultant DataFrame.\n",
    "\n",
    "\n",
    "3. **`dtype`**: (Optional) data type to force on resulting DataFrame. Only a single data type is allowed. If not given, then it’s inferred from the data.\n",
    "\n",
    "\n",
    "4. **`columns`**: (Optional) **Only be used in case of** **`orient=\"index\"`** to specify column labels in the resulting DataFrame. Default column labels are range of integer i.e. 0,1,2…n. \n",
    ">**Note:** If we use the **`columns`** parameter with **`orient='columns'`** it throws an **`ValueError: cannot use columns parameter with orient='columns'`**"
   ]
  },
  {
   "cell_type": "markdown",
   "metadata": {},
   "source": [
    "## DataFrame from dict with dict keys as a row\n",
    "\n",
    "It is used to transpose the DataFrame, i.e., when keys in the dictionary should be the rows in the resultant DataFrame. We can change the orientation of the DataFrame using a parameter **`orient=\"index\"`** in **`DataFrame.from_dict()`**.\n",
    "\n",
    "**Example:**\n",
    "\n",
    "In the below example, keys **`name`**, **`age`**, and **`marks`** becomes row indexes in the DataFrame, and values are added in respective rows. New column labels are provided using **`columns`** parameter."
   ]
  },
  {
   "cell_type": "code",
   "execution_count": 9,
   "metadata": {
    "ExecuteTime": {
     "end_time": "2021-06-17T11:44:17.327291Z",
     "start_time": "2021-06-17T11:44:17.309714Z"
    }
   },
   "outputs": [
    {
     "name": "stdout",
     "output_type": "stream",
     "text": [
      "{'name': ['Joe', 'Nat', 'Harry'], 'age': [20, 21, 19], 'marks': [85.1, 77.8, 91.54]}\n",
      "      stud1 stud2  stud3\n",
      "name    Joe   Nat  Harry\n",
      "age      20    21     19\n",
      "marks  85.1  77.8  91.54\n"
     ]
    }
   ],
   "source": [
    "import pandas as pd\n",
    "\n",
    "# Create dict object\n",
    "student_dict = {\"name\": [\"Joe\", \"Nat\", \"Harry\"], \"age\": [20, 21, 19], \"marks\": [85.10, 77.80, 91.54]}\n",
    "print(student_dict)\n",
    "\n",
    "# Create DataFrame from dict\n",
    "student_df = pd.DataFrame.from_dict(student_dict, orient=\"index\", columns=[\"stud1\", \"stud2\", \"stud3\"])\n",
    "print(student_df)"
   ]
  },
  {
   "cell_type": "markdown",
   "metadata": {},
   "source": [
    "## DataFrame from dict where values are variable-length lists\n",
    "\n",
    "It is a widespread use case in the IT industry where data is stored in the dictionary with different values against each key.\n",
    "\n",
    "If such a dictionary object needs to be converted into the DataFrame such that keys and values will be added as columns in DataFrame. Then it can be done using chaining of **`DataFrame.from_dict()`**, **`stack()`**, and **`reset_index()`** functions.\n",
    "\n",
    "**Example:**\n",
    "\n",
    "Here, we have **`dict`** with values are of different sizes and still we need to add all the key-values into a DataFrame."
   ]
  },
  {
   "cell_type": "code",
   "execution_count": 10,
   "metadata": {
    "ExecuteTime": {
     "end_time": "2021-06-17T11:44:25.307177Z",
     "start_time": "2021-06-17T11:44:25.279837Z"
    }
   },
   "outputs": [
    {
     "name": "stdout",
     "output_type": "stream",
     "text": [
      "{'Grade A': ['Joe', 'Harry'], 'Grade B': ['Nat']}\n",
      "   level_0      0\n",
      "0  Grade A    Joe\n",
      "1  Grade A  Harry\n",
      "0  Grade B    Nat\n"
     ]
    }
   ],
   "source": [
    "import pandas as pd\n",
    "\n",
    "# Create dict object\n",
    "student_dict = {\"Grade A\": [\"Joe\", \"Harry\"], \"Grade B\": [\"Nat\"]}\n",
    "print(student_dict)\n",
    "\n",
    "student_df = pd.DataFrame.from_dict(student_dict, 'index').stack().reset_index(level=0)\n",
    "print(student_df)"
   ]
  },
  {
   "cell_type": "markdown",
   "metadata": {},
   "source": [
    "## DataFrame from dict nested dict\n",
    "\n",
    "In this section, we cover the complex structure of the dictionary object where we have a hierarchical structure of the dictionary i.e. one dictionary object into another dictionary object.\n",
    "\n",
    "**Example:**\n",
    "\n",
    "We have a student dictionary object where student data categorized by their grades and further divided as per their class. Such a dictionary object is converted into the multi-index DataFrame using **`DataFrame.from_dict()`** by iterating over each key and its values and parameter **`orient='index'`**."
   ]
  },
  {
   "cell_type": "code",
   "execution_count": 11,
   "metadata": {
    "ExecuteTime": {
     "end_time": "2021-06-17T11:44:33.987255Z",
     "start_time": "2021-06-17T11:44:33.965772Z"
    }
   },
   "outputs": [
    {
     "name": "stdout",
     "output_type": "stream",
     "text": [
      "{'Grade A': {'Class A': {'name': 'Joe', 'marks': 91.56}, 'Class B': {'name': 'Harry', 'marks': 87.9}}, 'Grade B': {'Class A': {'name': 'Sam', 'marks': 70}, 'Class B': {'name': 'Alan', 'marks': 65.48}}}\n",
      "                  name  marks\n",
      "Grade A Class A    Joe  91.56\n",
      "        Class B  Harry  87.90\n",
      "Grade B Class A    Sam  70.00\n",
      "        Class B   Alan  65.48\n"
     ]
    }
   ],
   "source": [
    "import pandas as pd\n",
    "\n",
    "# Create hierarchical dict\n",
    "student_dict = {\"Grade A\": {'Class A': {'name': 'Joe', 'marks': 91.56},\n",
    "                            'Class B': {'name': 'Harry', 'marks': 87.90}},\n",
    "                \"Grade B\": {'Class A': {'name': 'Sam', 'marks': 70},\n",
    "                            'Class B': {'name': 'Alan', 'marks': 65.48}}}\n",
    "print(student_dict)\n",
    "\n",
    "# Create multi-index DataFrame\n",
    "student_df = pd.DataFrame.from_dict({(i, j): student_dict[i][j]\n",
    "                                     for i in student_dict.keys()\n",
    "                                     for j in student_dict[i].keys()},\n",
    "                                    orient='index')\n",
    "print(student_df)\n"
   ]
  },
  {
   "cell_type": "markdown",
   "metadata": {},
   "source": [
    "## DataFrame constructor vs `from_dict()`\n",
    "\n",
    "The below table summarizes all the cases of converting **`dict`** to the DataFrame that we have already discussed in this article. It shows the comparison of using the DataFrame constructor and **`DataFrame.from_dict()`** method.\n",
    "\n",
    "It will help you to choose the correct function for converting the **`dict`** to the DataFrame.\n",
    "\n",
    "| Use Case | DataFrame constructor | **`from_dict()`** method |\n",
    "|:---- |:---- |:---- |\n",
    "| **`Custom column names`** | **Yes** | **No** | \n",
    "| **`custom index`** | **Yes** | **No** | \n",
    "| **`dict with a single value`** | **Yes** | **No** | \n",
    "| **`list of dict`** | **Yes** | **Yes** | \n",
    "| **`handle missing keys`** | **Yes** | **Yes** | \n",
    "| **`keys and values as columns`** | **Yes** | **Yes** | \n",
    "| **`change datatype`** | **Yes** | **Yes** | \n",
    "| **`Orient=column(Keys as columns)`** | **Yes** | **Yes** | \n",
    "| **`Orient=index(Keys as rows)`** | **No** | **Yes** | \n",
    "| **`Multi-index DataFrame`** | **No** | **Yes** | "
   ]
  },
  {
   "cell_type": "code",
   "execution_count": null,
   "metadata": {},
   "outputs": [],
   "source": []
  }
 ],
 "metadata": {
  "hide_input": false,
  "kernelspec": {
   "display_name": "Python 3",
   "language": "python",
   "name": "python3"
  },
  "language_info": {
   "codemirror_mode": {
    "name": "ipython",
    "version": 3
   },
   "file_extension": ".py",
   "mimetype": "text/x-python",
   "name": "python",
   "nbconvert_exporter": "python",
   "pygments_lexer": "ipython3",
   "version": "3.8.8"
  },
  "toc": {
   "base_numbering": 1,
   "nav_menu": {},
   "number_sections": true,
   "sideBar": true,
   "skip_h1_title": false,
   "title_cell": "Table of Contents",
   "title_sidebar": "Contents",
   "toc_cell": false,
   "toc_position": {},
   "toc_section_display": true,
   "toc_window_display": false
  },
  "varInspector": {
   "cols": {
    "lenName": 16,
    "lenType": 16,
    "lenVar": 40
   },
   "kernels_config": {
    "python": {
     "delete_cmd_postfix": "",
     "delete_cmd_prefix": "del ",
     "library": "var_list.py",
     "varRefreshCmd": "print(var_dic_list())"
    },
    "r": {
     "delete_cmd_postfix": ") ",
     "delete_cmd_prefix": "rm(",
     "library": "var_list.r",
     "varRefreshCmd": "cat(var_dic_list()) "
    }
   },
   "types_to_exclude": [
    "module",
    "function",
    "builtin_function_or_method",
    "instance",
    "_Feature"
   ],
   "window_display": false
  }
 },
 "nbformat": 4,
 "nbformat_minor": 2
}
