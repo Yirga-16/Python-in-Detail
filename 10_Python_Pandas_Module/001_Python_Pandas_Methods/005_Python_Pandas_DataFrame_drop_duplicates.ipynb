{
 "cells": [
  {
   "cell_type": "markdown",
   "metadata": {},
   "source": [
    "<small><small><i>\n",
    "All the IPython Notebooks in this lecture series by Dr. Milan Parmar are available @ **[GitHub](https://github.com/milaan9/10_Python_Pandas_Module/tree/main/001_Python_Pandas_Methods)**\n",
    "</i></small></small>"
   ]
  },
  {
   "cell_type": "markdown",
   "metadata": {},
   "source": [
    "# Drop duplicates in pandas DataFrame\n",
    "\n",
    "In this class, we learn to remove duplicates from the **[Pandas DataFrame](https://github.com/milaan9/10_Python_Pandas_Module/blob/main/001_Python_Pandas_DataFrame.ipynb)**.\n",
    "\n",
    "Data is gathered from various sources. It may not be in the proper form. It contains garbage values and duplicate data. Before analyzing a dataset, it must be clean and precise."
   ]
  },
  {
   "cell_type": "markdown",
   "metadata": {},
   "source": [
    "Also, See:\n",
    "\n",
    "* **[Drop columns in pandas DataFrame](https://github.com/milaan9/10_Python_Pandas_Module/blob/main/001_Python_Pandas_Methods/004_Python_Pandas_DataFrame_drop_columns.ipynb)**\n",
    "* **[Drop columns with NA in pandas DataFrame](https://github.com/milaan9/10_Python_Pandas_Module/blob/main/001_Python_Pandas_Methods/006_Python_Pandas_DataFrame_drop_columns_with_NA.ipynb)**"
   ]
  },
  {
   "cell_type": "markdown",
   "metadata": {
    "heading_collapsed": true
   },
   "source": [
    "## The `DataFrame.drop_duplicates()` function\n",
    "\n",
    "This function is used to remove the duplicate rows from a DataFrame.\n",
    "\n",
    "**Syntax:**\n",
    "```python\n",
    "DataFrame.drop_duplicates(subset=None, keep='first', inplace=False, ignore_index=False)\n",
    "```\n",
    "\n",
    "**Parameters:**\n",
    "\n",
    "1. **`subset`**: By default, if the rows have the same values in all the columns, they are considered duplicates. This parameter is used to specify the columns that only need to be considered for identifying duplicates.\n",
    "2. **`keep`**: Determines which duplicates (if any) to keep. It takes inputs as,\n",
    "    * **first** – Drop duplicates except for the first occurrence. This is the default behavior.\n",
    "    * **last** – Drop duplicates except for the last occurrence.\n",
    "    * **False** – Drop all duplicates.\n",
    "3. **`inplace`**: It is used to specify whether to return a new DataFrame or update an existing one. It is a boolean flag with default False.\n",
    "4. **`ignore_index`**: It is a boolean flag to indicate if row index should be reset after dropping duplicate rows. **`False`**: It keeps the original row index. **`True`**: It reset the index, and the resulting rows will be labeled 0, 1, …, n – 1.\n",
    "\n",
    "**Returns:**\n",
    "\n",
    "* It returns the DataFrame with dropped columns or None if **`inplace=True`**"
   ]
  },
  {
   "cell_type": "markdown",
   "metadata": {},
   "source": [
    "## Drop duplicates but keep first\n",
    "\n",
    "When we have the DataFrame with many duplicate rows that we want to remove we use **`DataFrame.drop_duplicates()`**.\n",
    "\n",
    "The rows that contain the same values in all the columns then are identified as duplicates. If the row is duplicated then by default **`DataFrame.drop_duplicates()`** keeps the first occurrence of that row and drops all other duplicates of it.\n",
    "\n",
    "**Example:**\n",
    "\n",
    "<div>\n",
    "<img src=\"img/ddkf.png\" width=\"200\"/>\n",
    "</div>"
   ]
  },
  {
   "cell_type": "code",
   "execution_count": 1,
   "metadata": {
    "ExecuteTime": {
     "end_time": "2021-06-17T11:53:50.748771Z",
     "start_time": "2021-06-17T11:53:49.901569Z"
    }
   },
   "outputs": [
    {
     "name": "stdout",
     "output_type": "stream",
     "text": [
      "Before dropping duplicates: \n",
      "     name  age  marks\n",
      "0    Joe   20  85.10\n",
      "1    Nat   21  77.80\n",
      "2  Harry   19  91.54\n",
      "3    Joe   20  85.10\n",
      "4    Nat   21  77.80\n",
      "\n",
      "After dropping column: \n",
      "     name  age  marks\n",
      "0    Joe   20  85.10\n",
      "1    Nat   21  77.80\n",
      "2  Harry   19  91.54\n"
     ]
    }
   ],
   "source": [
    "import pandas as pd\n",
    "\n",
    "student_dict = {\"name\": [\"Joe\", \"Nat\", \"Harry\", \"Joe\", \"Nat\"], \"age\": [20, 21, 19, 20, 21],\n",
    "                \"marks\": [85.10, 77.80, 91.54, 85.10, 77.80]}\n",
    "\n",
    "# Create DataFrame from dict\n",
    "student_df = pd.DataFrame(student_dict)\n",
    "print(\"Before dropping duplicates: \\n\", student_df)\n",
    "\n",
    "# drop duplicate rows\n",
    "student_df = student_df.drop_duplicates()\n",
    "\n",
    "print(\"\\nAfter dropping column: \\n\", student_df)"
   ]
  },
  {
   "cell_type": "markdown",
   "metadata": {},
   "source": [
    "## Drop duplicates from defined columns\n",
    "\n",
    "By default, **`DataFrame.drop_duplicate()`** removes rows with the same values in all the columns. But, we can modify this behavior using a subset parameter.\n",
    "\n",
    "For example, **`subset=[col1, col2]`** will remove the duplicate rows with the same values in specified columns only, i.e., **`col1`** and **`col2`**.\n",
    "\n",
    "**Example:**\n",
    "\n",
    "In the below example, rows for **`Nat`** and **`Sam`** are removed even though their names are different because only **`age`** and **`marks`** columns are considered to check for duplicates.\n",
    "\n",
    "<div>\n",
    "<img src=\"img/ddfdcol.png\" width=\"200\"/>\n",
    "</div>"
   ]
  },
  {
   "cell_type": "code",
   "execution_count": 2,
   "metadata": {
    "ExecuteTime": {
     "end_time": "2021-06-17T11:53:50.858101Z",
     "start_time": "2021-06-17T11:53:50.804877Z"
    }
   },
   "outputs": [
    {
     "name": "stdout",
     "output_type": "stream",
     "text": [
      "Before dropping duplicates: \n",
      "     name  age  marks\n",
      "0    Joe   20  85.10\n",
      "1    Nat   21  77.80\n",
      "2  Harry   19  91.54\n",
      "3    Sam   21  77.80\n",
      "\n",
      "After dropping column: \n",
      "     name  age  marks\n",
      "0    Joe   20  85.10\n",
      "1    Nat   21  77.80\n",
      "2  Harry   19  91.54\n"
     ]
    }
   ],
   "source": [
    "import pandas as pd\n",
    "\n",
    "student_dict = {\"name\":[\"Joe\",\"Nat\",\"Harry\",\"Sam\" ], \"age\":[20,21,19,21], \"marks\":[85.10, 77.80, 91.54, 77.80]}\n",
    "\n",
    "# Create DataFrame from dict\n",
    "student_df = pd.DataFrame(student_dict)\n",
    "print(\"Before dropping duplicates: \\n\", student_df)\n",
    "\n",
    "# drop duplicate rows\n",
    "student_df = student_df.drop_duplicates(subset=['age','marks'])\n",
    "\n",
    "print(\"\\nAfter dropping column: \\n\", student_df)"
   ]
  },
  {
   "cell_type": "markdown",
   "metadata": {},
   "source": [
    "## Drop duplicates but keep last\n",
    "\n",
    "Let’s consider the case where we have a row that is duplicated multiple times in the DataSet. In such a case, To keep only one occurrence of the duplicate row, we can use the **`keep`** parameter of a **`DataFrame.drop_duplicate()`**, which takes the following inputs:\n",
    "\n",
    "* **first** – Drop duplicates except for the first occurrence of the duplicate row. This is the default behavior.\n",
    "* **last** – Drop duplicates except for the last occurrence of the duplicate row.\n",
    "* **False** – Drop all the rows which are duplicate.\n",
    "\n",
    "**Example:**\n",
    "\n",
    "In the below example, we are dropping the last occurrence of the duplicate rows using **`keep='last'`**."
   ]
  },
  {
   "cell_type": "code",
   "execution_count": 3,
   "metadata": {
    "ExecuteTime": {
     "end_time": "2021-06-17T11:53:53.505528Z",
     "start_time": "2021-06-17T11:53:53.476234Z"
    }
   },
   "outputs": [
    {
     "name": "stdout",
     "output_type": "stream",
     "text": [
      "Before dropping duplicates: \n",
      "     name  age  marks\n",
      "0    Joe   20  85.10\n",
      "1    Nat   21  77.80\n",
      "2  Harry   19  91.54\n",
      "3    Nat   21  77.80\n",
      "\n",
      "After dropping column: \n",
      "     name  age  marks\n",
      "0    Joe   20  85.10\n",
      "2  Harry   19  91.54\n",
      "3    Nat   21  77.80\n"
     ]
    }
   ],
   "source": [
    "import pandas as pd\n",
    "\n",
    "student_dict = {\"name\": [\"Joe\", \"Nat\", \"Harry\", \"Nat\"], \"age\": [20, 21, 19, 21], \"marks\": [85.10, 77.80, 91.54, 77.80]}\n",
    "\n",
    "# Create DataFrame from dict\n",
    "student_df = pd.DataFrame(student_dict)\n",
    "print(\"Before dropping duplicates: \\n\", student_df)\n",
    "\n",
    "# drop duplicate rows\n",
    "student_df = student_df.drop_duplicates(keep='last')\n",
    "\n",
    "print(\"\\nAfter dropping column: \\n\", student_df)"
   ]
  },
  {
   "cell_type": "markdown",
   "metadata": {},
   "source": [
    "## Drop all duplicates\n",
    "\n",
    "As explained in the above section, by default, **`DataFrame.drop_duplicates()`** keeps the duplicate row’s first occurrence and removes all others.\n",
    "\n",
    "If we need to drop all the duplicate rows, then it can be done by using keep=False, as shown below.\n",
    "\n",
    "<div>\n",
    "<img src=\"img/dad.png\" width=\"200\"/>\n",
    "</div>"
   ]
  },
  {
   "cell_type": "code",
   "execution_count": 4,
   "metadata": {
    "ExecuteTime": {
     "end_time": "2021-06-17T11:53:56.012334Z",
     "start_time": "2021-06-17T11:53:55.978156Z"
    }
   },
   "outputs": [
    {
     "name": "stdout",
     "output_type": "stream",
     "text": [
      "Before dropping duplicates: \n",
      "     name  age  marks\n",
      "0    Joe   20  85.10\n",
      "1    Nat   21  77.80\n",
      "2  Harry   19  91.54\n",
      "3    Nat   21  77.80\n",
      "\n",
      "After dropping column: \n",
      "     name  age  marks\n",
      "0    Joe   20  85.10\n",
      "2  Harry   19  91.54\n"
     ]
    }
   ],
   "source": [
    "import pandas as pd\n",
    "\n",
    "student_dict = {\"name\": [\"Joe\", \"Nat\", \"Harry\", \"Nat\"], \"age\": [20, 21, 19, 21], \"marks\": [85.10, 77.80, 91.54, 77.80]}\n",
    "\n",
    "# Create DataFrame from dict\n",
    "student_df = pd.DataFrame(student_dict)\n",
    "print(\"Before dropping duplicates: \\n\", student_df)\n",
    "\n",
    "# drop all duplicate rows\n",
    "student_df = student_df.drop_duplicates(keep=False)\n",
    "\n",
    "print(\"\\nAfter dropping column: \\n\", student_df)"
   ]
  },
  {
   "cell_type": "markdown",
   "metadata": {},
   "source": [
    "## Drop duplicates in place\n",
    "\n",
    "By default, **`DataFrame.drop_duplicates()`** removes the duplicates and returns the copy of the DataFrame.\n",
    "\n",
    "But, if we want to make changes in the existing DataFrame, then set the flag **`inplace=True`**. It can be used when the drop operation is part of the function chaining."
   ]
  },
  {
   "cell_type": "code",
   "execution_count": 5,
   "metadata": {
    "ExecuteTime": {
     "end_time": "2021-06-17T11:53:57.820911Z",
     "start_time": "2021-06-17T11:53:57.795519Z"
    }
   },
   "outputs": [
    {
     "name": "stdout",
     "output_type": "stream",
     "text": [
      "Before dropping duplicates: \n",
      "     name  age  marks\n",
      "0    Joe   20  85.10\n",
      "1    Nat   21  77.80\n",
      "2  Harry   19  91.54\n",
      "3    Joe   20  85.10\n",
      "4    Nat   21  77.80\n",
      "\n",
      "After dropping column: \n",
      "     name  age  marks\n",
      "0    Joe   20  85.10\n",
      "1    Nat   21  77.80\n",
      "2  Harry   19  91.54\n"
     ]
    }
   ],
   "source": [
    "import pandas as pd\n",
    "\n",
    "student_dict = {\"name\": [\"Joe\", \"Nat\", \"Harry\", \"Joe\", \"Nat\"], \"age\": [20, 21, 19, 20, 21],\n",
    "                \"marks\": [85.10, 77.80, 91.54, 85.10, 77.80]}\n",
    "\n",
    "# Create DataFrame from dict\n",
    "student_df = pd.DataFrame(student_dict)\n",
    "print(\"Before dropping duplicates: \\n\", student_df)\n",
    "\n",
    "# drop duplicate rows\n",
    "student_df.drop_duplicates(inplace=True)\n",
    "\n",
    "print(\"\\nAfter dropping column: \\n\", student_df)"
   ]
  },
  {
   "cell_type": "markdown",
   "metadata": {},
   "source": [
    "## Drop duplicates and reset the index\n",
    "\n",
    "When we drop the rows from DataFrame, by default, it keeps the original row index as is. But, if we need to reset the index of the resultant DataFrame, we can do that using the **`ignore_index`** parameter of **`DataFrame.drop_duplicate()`**.\n",
    "\n",
    "* If **`ignore_index=True`**, it reset the row labels of resultant DataFrame to 0, 1, …, n – 1.\n",
    "* If **`ignore_index=False`** it does not change the original row index. By default, it is **False**."
   ]
  },
  {
   "cell_type": "code",
   "execution_count": 6,
   "metadata": {
    "ExecuteTime": {
     "end_time": "2021-06-17T11:53:59.475189Z",
     "start_time": "2021-06-17T11:53:59.452728Z"
    }
   },
   "outputs": [
    {
     "name": "stdout",
     "output_type": "stream",
     "text": [
      "Before dropping duplicates: \n",
      "     name  age  marks\n",
      "a    Joe   20  85.10\n",
      "b    Nat   21  77.80\n",
      "c  Harry   19  91.54\n",
      "d    Nat   21  77.80\n",
      "\n",
      "After dropping column: \n",
      "     name  age  marks\n",
      "0    Joe   20  85.10\n",
      "1  Harry   19  91.54\n"
     ]
    }
   ],
   "source": [
    "import pandas as pd\n",
    "\n",
    "student_dict = {\"name\": [\"Joe\", \"Nat\", \"Harry\", \"Nat\"], \"age\": [20, 21, 19, 21], \"marks\": [85.10, 77.80, 91.54, 77.80]}\n",
    "\n",
    "# Create DataFrame from dict\n",
    "student_df = pd.DataFrame(student_dict, index=['a', 'b', 'c', 'd'])\n",
    "print(\"Before dropping duplicates: \\n\", student_df)\n",
    "\n",
    "# drop duplicate rows\n",
    "student_df = student_df.drop_duplicates(keep=False, ignore_index=True)\n",
    "\n",
    "print(\"\\nAfter dropping column: \\n\", student_df)"
   ]
  },
  {
   "cell_type": "code",
   "execution_count": null,
   "metadata": {},
   "outputs": [],
   "source": []
  }
 ],
 "metadata": {
  "hide_input": false,
  "kernelspec": {
   "display_name": "Python 3",
   "language": "python",
   "name": "python3"
  },
  "language_info": {
   "codemirror_mode": {
    "name": "ipython",
    "version": 3
   },
   "file_extension": ".py",
   "mimetype": "text/x-python",
   "name": "python",
   "nbconvert_exporter": "python",
   "pygments_lexer": "ipython3",
   "version": "3.8.8"
  },
  "toc": {
   "base_numbering": 1,
   "nav_menu": {},
   "number_sections": true,
   "sideBar": true,
   "skip_h1_title": false,
   "title_cell": "Table of Contents",
   "title_sidebar": "Contents",
   "toc_cell": false,
   "toc_position": {},
   "toc_section_display": true,
   "toc_window_display": false
  },
  "varInspector": {
   "cols": {
    "lenName": 16,
    "lenType": 16,
    "lenVar": 40
   },
   "kernels_config": {
    "python": {
     "delete_cmd_postfix": "",
     "delete_cmd_prefix": "del ",
     "library": "var_list.py",
     "varRefreshCmd": "print(var_dic_list())"
    },
    "r": {
     "delete_cmd_postfix": ") ",
     "delete_cmd_prefix": "rm(",
     "library": "var_list.r",
     "varRefreshCmd": "cat(var_dic_list()) "
    }
   },
   "types_to_exclude": [
    "module",
    "function",
    "builtin_function_or_method",
    "instance",
    "_Feature"
   ],
   "window_display": false
  }
 },
 "nbformat": 4,
 "nbformat_minor": 2
}
