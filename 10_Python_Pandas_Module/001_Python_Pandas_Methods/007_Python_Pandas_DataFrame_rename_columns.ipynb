{
 "cells": [
  {
   "cell_type": "markdown",
   "metadata": {},
   "source": [
    "<small><small><i>\n",
    "All the IPython Notebooks in this lecture series by Dr. Milan Parmar are available @ **[GitHub](https://github.com/milaan9/10_Python_Pandas_Module/tree/main/001_Python_Pandas_Methods)**\n",
    "</i></small></small>"
   ]
  },
  {
   "cell_type": "markdown",
   "metadata": {},
   "source": [
    "# Rename columns in Pandas DataFrame\n",
    "\n",
    "In Python, renaming columns label is useful when working with a pandas Dataframe with no column names or want to rename a specific column’s names. This article covers all the cases of renaming column labels of the pandas **[Pandas DataFrame](https://github.com/milaan9/10_Python_Pandas_Module/blob/main/001_Python_Pandas_DataFrame.ipynb)**."
   ]
  },
  {
   "cell_type": "markdown",
   "metadata": {},
   "source": [
    "You will learn the following functions available in the pandas to rename columns of a simple DataFrame as well as multi-index DataFrame.\n",
    "\n",
    "| Function | Description |\n",
    "|:---- |:---- |\n",
    "| **`df.rename(columns={'old': 'new'})`**    | **Rename column with label ‘old’ to ‘new’** |\n",
    "| **`df.rename(index={0: 'I'})`**            | **Rename row index 0 (zero) to ‘I’** |\n",
    "| **`df.add_prefix('$_')`**                  | **Rename all column labels by adding a prefix** |\n",
    "| **`df.add_suffix('_$')`**                  | **Rename all column labels by adding a suffix** |\n",
    "| **`df.set_axis(['a', 'b', 'c'], axis=1)`** | **Reassign column names to new names** |\n",
    "| **`df.rename_axis(\"Sr.No.\")`**             | **Assign a name to column header or row index header** |"
   ]
  },
  {
   "cell_type": "markdown",
   "metadata": {
    "heading_collapsed": true
   },
   "source": [
    "## The `DataFrame.rename()` function\n",
    "\n",
    "This is the most widely used pandas function for renaming columns and row indexes. Let’s see the syntax of it before moving to examples.\n",
    "\n",
    "**Syntax:**\n",
    "```python\n",
    "DataFrame.rename(mapper=None, columns=None, axis=None, copy=True, inplace=False, level=None, errors='ignore')\n",
    "```\n",
    "\n",
    "**Parameters:**\n",
    "\n",
    "1. **`mapper`**: It is used to specify new names for columns. It takes a Python dictionary or function as input.\n",
    "2. **`columns`**: It is used to **specify new names for columns**. It takes to dictionary or function as input.\n",
    "3. **`axis`**: Alternative to **`columns`**. It is used to specify the axis to apply with the mapper. **Column axis represented as 1 or ‘columns‘**. Default 0.\n",
    "4. **`copy`**: It allows the copy of underlying data. It is a boolean flag with default True.\n",
    "5. **`inplace`**: It is used to specify whether to return a new copy of a DataFrame or update existing ones. It is a boolean flag with default False.\n",
    "6. **`level`**: In the case of a multi-index DataFrame, only rename labels in the specified level. It takes int or level name as input. The default value is None.\n",
    "7. **`errors`**: It is either ‘ignore’ or ‘raise’. Default is ‘ignore’. If ‘raise’, raise a KeyError if the columns or index are not present. If ‘ignore’, existing keys will be renamed and extra keys will be ignored.\n",
    "\n",
    "**Return value:**\n",
    "\n",
    "* It returns a DataFrame with the renamed column and row labels or None if **`inplace=True`**.\n",
    "* Also, It raises KeyError If any of the labels are not found in the selected axis when **`errors='raise'`**."
   ]
  },
  {
   "cell_type": "markdown",
   "metadata": {},
   "source": [
    "## Rename a single column\n",
    "\n",
    "Sometimes it is required to rename the single or specific column names only.  Use the column parameter of **`DataFrame.rename()`** function and pass the columns to be renamed.\n",
    "\n",
    "**Syntax:**\n",
    "```python\n",
    "df.rename(columns={'column_current_name': 'new_name'})\n",
    "```\n",
    "\n",
    "**Example:**\n",
    "\n",
    "Now, let’s see how to rename the column **`marks`** to **`percentage`**."
   ]
  },
  {
   "cell_type": "code",
   "execution_count": 1,
   "metadata": {
    "ExecuteTime": {
     "end_time": "2021-06-17T11:56:20.114172Z",
     "start_time": "2021-06-17T11:56:19.438888Z"
    }
   },
   "outputs": [
    {
     "name": "stdout",
     "output_type": "stream",
     "text": [
      "    name  age  marks\n",
      "0    Joe   20  85.10\n",
      "1    Nat   21  77.80\n",
      "2  Harry   19  91.54\n",
      "    name  age  percentage\n",
      "0    Joe   20       85.10\n",
      "1    Nat   21       77.80\n",
      "2  Harry   19       91.54\n"
     ]
    }
   ],
   "source": [
    "import pandas as pd\n",
    "\n",
    "student_dict = {\"name\": [\"Joe\", \"Nat\", \"Harry\"], \"age\": [20, 21, 19], \"marks\": [85.10, 77.80, 91.54]}\n",
    "\n",
    "# Create DataFrame from dict\n",
    "student_df = pd.DataFrame(student_dict)\n",
    "# before rename\n",
    "print(student_df)\n",
    "\n",
    "# after rename column\n",
    "student_df = student_df.rename(columns={'marks': \"percentage\"})\n",
    "print(student_df)"
   ]
  },
  {
   "cell_type": "markdown",
   "metadata": {},
   "source": [
    "## Rename multiple columns\n",
    "\n",
    "Use any of the following two parameters of a **`DataFrame.rename()`** to rename multiple or all column labels at once.\n",
    "\n",
    "* Use the **`column`** parameter and pass all column names you want to rename as a dictionary (old column name as a key and new column name as a value).\n",
    "* Set the **`axis=1`** and pass column names you want to rename as a dictionary\n",
    "\n",
    "**Example:**\n",
    "\n",
    "Let’s see how to rename all three columns of a dataframe."
   ]
  },
  {
   "cell_type": "code",
   "execution_count": 2,
   "metadata": {
    "ExecuteTime": {
     "end_time": "2021-06-17T11:56:31.477321Z",
     "start_time": "2021-06-17T11:56:31.464626Z"
    }
   },
   "outputs": [
    {
     "name": "stdout",
     "output_type": "stream",
     "text": [
      "Columns before renaming\n",
      " ['name' 'age' 'marks']\n",
      "\n",
      "Columns after renaming\n",
      " ['a' 'b' 'c']\n"
     ]
    }
   ],
   "source": [
    "import pandas as pd\n",
    "\n",
    "student_dict = {\"name\": [\"Joe\", \"Nat\", \"Harry\"], \"age\": [20, 21, 19], \"marks\": [85.10, 77.80, 91.54]}\n",
    "\n",
    "student_df = pd.DataFrame(student_dict)\n",
    "# column names before rename\n",
    "print(\"Columns before renaming\\n\", student_df.columns.values)\n",
    "\n",
    "# rename all columns using mapping convention\n",
    "student_df = student_df.rename(columns={'name': \"a\", 'age': \"b\", 'marks': \"c\"})\n",
    "# after rename\n",
    "print(\"\\nColumns after renaming\\n\", student_df.columns.values)"
   ]
  },
  {
   "cell_type": "markdown",
   "metadata": {},
   "source": [
    "## Using rename with `axis='columns'` or `axis=1`\n",
    "\n",
    "Let’s see how to rename using the axis-style convention. This is a **new approach**.( This approach makes this method match the rest of the pandas API) .\n",
    "\n",
    "Use the **`axis`** parameter of a **`df.rename()`** to rename columns and row index. The **`axis`** can be a row or column. The column axis represented as 1 or ‘columns’.\n",
    "\n",
    "Set **`axis=1`** and pass column names you want to rename as a dictionary (Key-Value pairs).\n",
    "\n",
    "**Example**\n",
    "\n",
    "Let’s see how to rename all three columns."
   ]
  },
  {
   "cell_type": "code",
   "execution_count": 3,
   "metadata": {
    "ExecuteTime": {
     "end_time": "2021-06-17T11:56:41.817041Z",
     "start_time": "2021-06-17T11:56:41.799465Z"
    }
   },
   "outputs": [],
   "source": [
    "student_df = student_df.rename({'name': \"a\", 'age': \"b\", 'marks': \"c\"}, axis='columns')\n",
    "# alternative both produces same result\n",
    "student_df = student_df.rename({'name': \"a\", 'age': \"b\", 'marks': \"c\"}, axis=1)"
   ]
  },
  {
   "cell_type": "markdown",
   "metadata": {},
   "source": [
    "## Rename columns in place\n",
    "\n",
    "In the above examples, whenever we executed rename operations, pandas created a new copy of DataFrame because the modification is not-in place.\n",
    "\n",
    "Specify **`inplace=True`** to rename the existing DataFrame rather than creating a copy of it.\n",
    "\n",
    "* If the **`inplace=True`** then it updates the existing DataFrame and does not return anything.\n",
    "* If the **`inplace=False`** then it creates a new DataFrame with updated changes and returns it.\n",
    "\n",
    ">**Note:** You don’t need to assign the result back to a variable as we are performing modifications in place."
   ]
  },
  {
   "cell_type": "code",
   "execution_count": 4,
   "metadata": {
    "ExecuteTime": {
     "end_time": "2021-06-17T11:56:46.758388Z",
     "start_time": "2021-06-17T11:56:46.735932Z"
    }
   },
   "outputs": [
    {
     "name": "stdout",
     "output_type": "stream",
     "text": [
      "['name' 'age' 'marks']\n",
      "['a' 'age' 'marks']\n"
     ]
    }
   ],
   "source": [
    "import pandas as pd\n",
    "\n",
    "student_dict = {\"name\": [\"Joe\", \"Nat\", \"Harry\"], \"age\": [20, 21, 19], \"marks\": [85.10, 77.80, 91.54]}\n",
    "\n",
    "student_df = pd.DataFrame(student_dict)\n",
    "# column names before rename\n",
    "print(student_df.columns.values)\n",
    "\n",
    "# rename columns inplace\n",
    "student_df.rename(columns={'name': \"a\"}, inplace=True)\n",
    "print(student_df.columns.values)"
   ]
  },
  {
   "cell_type": "markdown",
   "metadata": {},
   "source": [
    "## Rename column using a function\n",
    "\n",
    "We can also use the function to rename column labels by applying some logic to it. We can use built-in as well as user-defined functions to rename columns.\n",
    "\n",
    "**Example**\n",
    "\n",
    "In the below example, we rename all column names to UPPER CASE using the string function **`str.upper`**."
   ]
  },
  {
   "cell_type": "code",
   "execution_count": 5,
   "metadata": {
    "ExecuteTime": {
     "end_time": "2021-06-17T11:56:49.220764Z",
     "start_time": "2021-06-17T11:56:49.210022Z"
    }
   },
   "outputs": [
    {
     "name": "stdout",
     "output_type": "stream",
     "text": [
      "['name' 'age' 'marks']\n",
      "['NAME' 'AGE' 'MARKS']\n"
     ]
    }
   ],
   "source": [
    "import pandas as pd\n",
    "\n",
    "student_dict = {\"name\": [\"Joe\", \"Nat\", \"Harry\"], \"age\": [20, 21, 19], \"marks\": [85.10, 77.80, 91.54]}\n",
    "\n",
    "# Create DataFrame from dict\n",
    "student_df = pd.DataFrame(student_dict)\n",
    "# before rename\n",
    "print(student_df.columns.values)\n",
    "\n",
    "# rename column names using function\n",
    "student_df.rename(columns=str.upper, inplace=True)\n",
    "# after rename\n",
    "print(student_df.columns.values)"
   ]
  },
  {
   "cell_type": "markdown",
   "metadata": {},
   "source": [
    "## Use lambda expressions to rename\n",
    "\n",
    "Also, you can use lambda expressions to rename column label or row index. Let’s see how to remove the first character from each column label using lambda."
   ]
  },
  {
   "cell_type": "code",
   "execution_count": 6,
   "metadata": {
    "ExecuteTime": {
     "end_time": "2021-06-17T11:56:53.945807Z",
     "start_time": "2021-06-17T11:56:53.919439Z"
    }
   },
   "outputs": [
    {
     "name": "stdout",
     "output_type": "stream",
     "text": [
      "['#name' '#age' '#marks']\n",
      "['name' 'age' 'marks']\n"
     ]
    }
   ],
   "source": [
    "import pandas as pd\n",
    "\n",
    "student_dict = {\"#name\": [\"Joe\", \"Nat\", \"Harry\"], \"#age\": [20, 21, 19], \"#marks\": [85.10, 77.80, 91.54]}\n",
    "\n",
    "# Create DataFrame from dict\n",
    "student_df = pd.DataFrame(student_dict)\n",
    "# before rename\n",
    "print(student_df.columns.values)\n",
    "\n",
    "# remove first character of column names\n",
    "student_df.rename(columns=lambda x: x[1:], inplace=True)\n",
    "# after rename\n",
    "print(student_df.columns.values)"
   ]
  },
  {
   "cell_type": "markdown",
   "metadata": {},
   "source": [
    "## Rename columns by removing leading and trailing spaces\n",
    "\n",
    "Use lambda expression to rename columns by removing leading and trailing spaces from the column names\n",
    "\n",
    "**Example:**"
   ]
  },
  {
   "cell_type": "code",
   "execution_count": 7,
   "metadata": {
    "ExecuteTime": {
     "end_time": "2021-06-17T11:56:59.957941Z",
     "start_time": "2021-06-17T11:56:59.944268Z"
    }
   },
   "outputs": [
    {
     "name": "stdout",
     "output_type": "stream",
     "text": [
      "[' name ' ' age   ' 'marks  ']\n",
      "['name' 'age' 'marks']\n"
     ]
    }
   ],
   "source": [
    "import pandas as pd\n",
    "\n",
    "student_dict = {\" name \": [\"Joe\", \"Nat\", \"Harry\"], \" age   \": [20, 21, 19], \"marks  \": [85.10, 77.80, 91.54]}\n",
    "\n",
    "student_df = pd.DataFrame(student_dict)\n",
    "print(student_df.columns.values)\n",
    "# output [' name ' ' age   ' 'marks  ']\n",
    "\n",
    "# remove leading and trailing space from column names\n",
    "student_df.rename(lambda x: x.strip(), axis='columns', inplace=True)\n",
    "print(student_df.columns.values)\n",
    "# Output ['name' 'age' 'marks']"
   ]
  },
  {
   "cell_type": "markdown",
   "metadata": {},
   "source": [
    "## Rename all columns with a list\n",
    "\n",
    "Suppose we have a list of column names that we need to use to rename the existing DataFrame. In that case, we can pass the list of column labels to a **`DataFrame.columns`**  attributes as shown in the below example.\n",
    "\n",
    "It will replace the existing names with the new names in the order you provide."
   ]
  },
  {
   "cell_type": "code",
   "execution_count": 8,
   "metadata": {
    "ExecuteTime": {
     "end_time": "2021-06-17T11:57:07.106778Z",
     "start_time": "2021-06-17T11:57:07.096037Z"
    }
   },
   "outputs": [
    {
     "name": "stdout",
     "output_type": "stream",
     "text": [
      "['name' 'age' 'marks']\n",
      "['stud_name' 'stud_age' 'stud_marks']\n"
     ]
    }
   ],
   "source": [
    "import pandas as pd\n",
    "\n",
    "student_dict = {\"name\": [\"Joe\", \"Nat\", \"Harry\"], \"age\": [20, 21, 19], \"marks\": [85.10, 77.80, 91.54]}\n",
    "\n",
    "student_df = pd.DataFrame(student_dict)\n",
    "# before rename\n",
    "print(student_df.columns.values)\n",
    "\n",
    "# rename column with list\n",
    "student_df.columns = ['stud_name', 'stud_age', 'stud_marks']\n",
    "# after rename\n",
    "print(student_df.columns.values)"
   ]
  },
  {
   "cell_type": "markdown",
   "metadata": {},
   "source": [
    "## Rename column by index position\n",
    "\n",
    "If there is a case where we want to rename the first column or the last column in the DataFrame, but we do not know the column name still we can rename the column using a **`DataFrame.columns`** attribute.\n",
    "\n",
    ">**Note:** Column index starts from 0 (zero) and it goes till the last column whose index value will be **`len(df.columns)-1`**.\n",
    "\n",
    "**Example:**\n",
    "\n",
    "In the below example, we are renaming the second column of the DataFrame using **`df.columns[1]`**."
   ]
  },
  {
   "cell_type": "code",
   "execution_count": 9,
   "metadata": {
    "ExecuteTime": {
     "end_time": "2021-06-17T11:57:15.242422Z",
     "start_time": "2021-06-17T11:57:15.217036Z"
    }
   },
   "outputs": [
    {
     "name": "stdout",
     "output_type": "stream",
     "text": [
      "df.columns[2]: marks\n",
      "df.columns[2]: percentage\n"
     ]
    }
   ],
   "source": [
    "import pandas as pd\n",
    "\n",
    "student_dict = {\"name\": [\"Joe\", \"Nat\", \"Harry\"], \"age\": [20, 21, 19], \"marks\": [85.10, 77.80, 91.54]}\n",
    "\n",
    "student_df = pd.DataFrame(student_dict)\n",
    "print(\"df.columns[2]:\", student_df.columns[2])\n",
    "\n",
    "# rename column present at index 2\n",
    "student_df.rename(columns={student_df.columns[2]: 'percentage'}, inplace=True)\n",
    "print(\"df.columns[2]:\", student_df.columns[2])"
   ]
  },
  {
   "cell_type": "markdown",
   "metadata": {},
   "source": [
    "## Raise error while renaming a column\n",
    "\n",
    "By default, The **`DataFrame.rename()`** doesn’t throw any error if column names you tried to rename doesn’t exist in the dataset.\n",
    "\n",
    "Do you want to throw an error in such cases?\n",
    "\n",
    "If yes, then use the **`errors`** parameter of **`DataFrame.rename()`**.\n",
    "\n",
    "* **`Set errors='raised'`** to throws **`KeyError`** for the unknown columns\n",
    "* **`Set errors='ignore'`** to not throw any errors.\n",
    "\n",
    ">**Note:** \n",
    "* If the new name mapping is not provided for some column label then it isn’t renamed.\n",
    "* Extra labels in the mapping don’t throw an error.\n",
    "\n",
    "**Example:**"
   ]
  },
  {
   "cell_type": "code",
   "execution_count": 10,
   "metadata": {
    "ExecuteTime": {
     "end_time": "2021-06-17T11:57:24.595336Z",
     "start_time": "2021-06-17T11:57:24.184214Z"
    }
   },
   "outputs": [
    {
     "ename": "KeyError",
     "evalue": "\"['unknownCol'] not found in axis\"",
     "output_type": "error",
     "traceback": [
      "\u001b[1;31m---------------------------------------------------------------------------\u001b[0m",
      "\u001b[1;31mKeyError\u001b[0m                                  Traceback (most recent call last)",
      "\u001b[1;32m<ipython-input-10-782dbd1412fe>\u001b[0m in \u001b[0;36m<module>\u001b[1;34m\u001b[0m\n\u001b[0;32m      5\u001b[0m \u001b[0mstudent_df\u001b[0m \u001b[1;33m=\u001b[0m \u001b[0mpd\u001b[0m\u001b[1;33m.\u001b[0m\u001b[0mDataFrame\u001b[0m\u001b[1;33m(\u001b[0m\u001b[0mstudent_dict\u001b[0m\u001b[1;33m)\u001b[0m\u001b[1;33m\u001b[0m\u001b[1;33m\u001b[0m\u001b[0m\n\u001b[0;32m      6\u001b[0m \u001b[1;33m\u001b[0m\u001b[0m\n\u001b[1;32m----> 7\u001b[1;33m \u001b[0mstudent_df\u001b[0m\u001b[1;33m.\u001b[0m\u001b[0mrename\u001b[0m\u001b[1;33m(\u001b[0m\u001b[0mcolumns\u001b[0m\u001b[1;33m=\u001b[0m\u001b[1;33m{\u001b[0m\u001b[1;34m'unknownCol'\u001b[0m\u001b[1;33m:\u001b[0m \u001b[1;34m\"a\"\u001b[0m\u001b[1;33m}\u001b[0m\u001b[1;33m,\u001b[0m \u001b[0minplace\u001b[0m\u001b[1;33m=\u001b[0m\u001b[1;32mTrue\u001b[0m\u001b[1;33m,\u001b[0m \u001b[0merrors\u001b[0m\u001b[1;33m=\u001b[0m\u001b[1;34m'raise'\u001b[0m\u001b[1;33m)\u001b[0m\u001b[1;33m\u001b[0m\u001b[1;33m\u001b[0m\u001b[0m\n\u001b[0m\u001b[0;32m      8\u001b[0m \u001b[0mprint\u001b[0m\u001b[1;33m(\u001b[0m\u001b[0mstudent_df\u001b[0m\u001b[1;33m)\u001b[0m\u001b[1;33m\u001b[0m\u001b[1;33m\u001b[0m\u001b[0m\n\u001b[0;32m      9\u001b[0m \u001b[1;33m\u001b[0m\u001b[0m\n",
      "\u001b[1;32mC:\\ProgramData\\Anaconda3\\lib\\site-packages\\pandas\\util\\_decorators.py\u001b[0m in \u001b[0;36mwrapper\u001b[1;34m(*args, **kwargs)\u001b[0m\n\u001b[0;32m    310\u001b[0m         \u001b[1;33m@\u001b[0m\u001b[0mwraps\u001b[0m\u001b[1;33m(\u001b[0m\u001b[0mfunc\u001b[0m\u001b[1;33m)\u001b[0m\u001b[1;33m\u001b[0m\u001b[1;33m\u001b[0m\u001b[0m\n\u001b[0;32m    311\u001b[0m         \u001b[1;32mdef\u001b[0m \u001b[0mwrapper\u001b[0m\u001b[1;33m(\u001b[0m\u001b[1;33m*\u001b[0m\u001b[0margs\u001b[0m\u001b[1;33m,\u001b[0m \u001b[1;33m**\u001b[0m\u001b[0mkwargs\u001b[0m\u001b[1;33m)\u001b[0m \u001b[1;33m->\u001b[0m \u001b[0mCallable\u001b[0m\u001b[1;33m[\u001b[0m\u001b[1;33m...\u001b[0m\u001b[1;33m,\u001b[0m \u001b[0mAny\u001b[0m\u001b[1;33m]\u001b[0m\u001b[1;33m:\u001b[0m\u001b[1;33m\u001b[0m\u001b[1;33m\u001b[0m\u001b[0m\n\u001b[1;32m--> 312\u001b[1;33m             \u001b[1;32mreturn\u001b[0m \u001b[0mfunc\u001b[0m\u001b[1;33m(\u001b[0m\u001b[1;33m*\u001b[0m\u001b[0margs\u001b[0m\u001b[1;33m,\u001b[0m \u001b[1;33m**\u001b[0m\u001b[0mkwargs\u001b[0m\u001b[1;33m)\u001b[0m\u001b[1;33m\u001b[0m\u001b[1;33m\u001b[0m\u001b[0m\n\u001b[0m\u001b[0;32m    313\u001b[0m \u001b[1;33m\u001b[0m\u001b[0m\n\u001b[0;32m    314\u001b[0m         \u001b[0mkind\u001b[0m \u001b[1;33m=\u001b[0m \u001b[0minspect\u001b[0m\u001b[1;33m.\u001b[0m\u001b[0mParameter\u001b[0m\u001b[1;33m.\u001b[0m\u001b[0mPOSITIONAL_OR_KEYWORD\u001b[0m\u001b[1;33m\u001b[0m\u001b[1;33m\u001b[0m\u001b[0m\n",
      "\u001b[1;32mC:\\ProgramData\\Anaconda3\\lib\\site-packages\\pandas\\core\\frame.py\u001b[0m in \u001b[0;36mrename\u001b[1;34m(self, mapper, index, columns, axis, copy, inplace, level, errors)\u001b[0m\n\u001b[0;32m   4439\u001b[0m         \u001b[1;36m4\u001b[0m  \u001b[1;36m3\u001b[0m  \u001b[1;36m6\u001b[0m\u001b[1;33m\u001b[0m\u001b[1;33m\u001b[0m\u001b[0m\n\u001b[0;32m   4440\u001b[0m         \"\"\"\n\u001b[1;32m-> 4441\u001b[1;33m         return super().rename(\n\u001b[0m\u001b[0;32m   4442\u001b[0m             \u001b[0mmapper\u001b[0m\u001b[1;33m=\u001b[0m\u001b[0mmapper\u001b[0m\u001b[1;33m,\u001b[0m\u001b[1;33m\u001b[0m\u001b[1;33m\u001b[0m\u001b[0m\n\u001b[0;32m   4443\u001b[0m             \u001b[0mindex\u001b[0m\u001b[1;33m=\u001b[0m\u001b[0mindex\u001b[0m\u001b[1;33m,\u001b[0m\u001b[1;33m\u001b[0m\u001b[1;33m\u001b[0m\u001b[0m\n",
      "\u001b[1;32mC:\\ProgramData\\Anaconda3\\lib\\site-packages\\pandas\\core\\generic.py\u001b[0m in \u001b[0;36mrename\u001b[1;34m(self, mapper, index, columns, axis, copy, inplace, level, errors)\u001b[0m\n\u001b[0;32m   1053\u001b[0m                         \u001b[1;32mif\u001b[0m \u001b[0mindexer\u001b[0m\u001b[1;33m[\u001b[0m\u001b[0mindex\u001b[0m\u001b[1;33m]\u001b[0m \u001b[1;33m==\u001b[0m \u001b[1;33m-\u001b[0m\u001b[1;36m1\u001b[0m\u001b[1;33m\u001b[0m\u001b[1;33m\u001b[0m\u001b[0m\n\u001b[0;32m   1054\u001b[0m                     ]\n\u001b[1;32m-> 1055\u001b[1;33m                     \u001b[1;32mraise\u001b[0m \u001b[0mKeyError\u001b[0m\u001b[1;33m(\u001b[0m\u001b[1;34mf\"{missing_labels} not found in axis\"\u001b[0m\u001b[1;33m)\u001b[0m\u001b[1;33m\u001b[0m\u001b[1;33m\u001b[0m\u001b[0m\n\u001b[0m\u001b[0;32m   1056\u001b[0m \u001b[1;33m\u001b[0m\u001b[0m\n\u001b[0;32m   1057\u001b[0m             \u001b[0mnew_index\u001b[0m \u001b[1;33m=\u001b[0m \u001b[0max\u001b[0m\u001b[1;33m.\u001b[0m\u001b[0m_transform_index\u001b[0m\u001b[1;33m(\u001b[0m\u001b[0mf\u001b[0m\u001b[1;33m,\u001b[0m \u001b[0mlevel\u001b[0m\u001b[1;33m)\u001b[0m\u001b[1;33m\u001b[0m\u001b[1;33m\u001b[0m\u001b[0m\n",
      "\u001b[1;31mKeyError\u001b[0m: \"['unknownCol'] not found in axis\""
     ]
    }
   ],
   "source": [
    "import pandas as pd\n",
    "\n",
    "student_dict = {\"name\": [\"Joe\", \"Nat\", \"Harry\"], \"age\": [20, 21, 19], \"marks\": [85.10, 77.80, 91.54]}\n",
    "\n",
    "student_df = pd.DataFrame(student_dict)\n",
    "\n",
    "student_df.rename(columns={'unknownCol': \"a\"}, inplace=True, errors='raise')\n",
    "print(student_df)\n",
    "\n",
    "# Output: KeyError: \"['unknownCol'] not found in axis\""
   ]
  },
  {
   "cell_type": "markdown",
   "metadata": {},
   "source": [
    "## Rename column by adding prefix/suffix\n",
    "\n",
    "We can rename the DataFrame columns using **`DataFrame.add_prefix()`** and **`DataFrame.add_suffix()`** functions. It appends the input string as a prefix or suffix to the column names respectively.\n",
    "\n",
    ">**Note:** These functions are only applicable to column labels and not row index of the DataFrame. "
   ]
  },
  {
   "cell_type": "code",
   "execution_count": 11,
   "metadata": {
    "ExecuteTime": {
     "end_time": "2021-06-17T11:57:31.481488Z",
     "start_time": "2021-06-17T11:57:31.457073Z"
    }
   },
   "outputs": [
    {
     "name": "stdout",
     "output_type": "stream",
     "text": [
      "['name' 'age' 'marks']\n",
      "['$_name_$' '$_age_$' '$_marks_$']\n"
     ]
    }
   ],
   "source": [
    "import pandas as pd\n",
    "\n",
    "student_dict = {\"name\": [\"Joe\", \"Nat\", \"Harry\"], \"age\": [20, 21, 19], \"marks\": [85.10, 77.80, 91.54]}\n",
    "\n",
    "student_df = pd.DataFrame(student_dict)\n",
    "print(student_df.columns.values)\n",
    "\n",
    "# add prefix and suffix to column names\n",
    "student_df = student_df.add_prefix(\"$_\")\n",
    "student_df = student_df.add_suffix(\"_$\")\n",
    "\n",
    "print(student_df.columns.values)"
   ]
  },
  {
   "cell_type": "markdown",
   "metadata": {},
   "source": [
    "## Rename column using `DataFrame.set_axis()`\n",
    "\n",
    "Use the **`set_axis()`** method you to rename all the index or column labels with a list. Using this function we can reassign column headers or row index of the DataFrame.\n",
    "\n",
    "This function is useful when working with a data set with no column names.\n",
    "\n",
    "**Syntax:**\n",
    "```python\n",
    "DataFrame.set_axis(labels, axis=0, inplace=False)\n",
    "```\n",
    "\n",
    "**Parameters:**\n",
    "\n",
    "1. **`labels`**: List of column names as an input.\n",
    "2. **`axis`**: The axis to update. Set **`axis=1`** rename column headers. The default value is 0. (i.e., rename row index)\n",
    "3. **`inplace`**: It is used to decide whether to return a new DataFrame instance or rename the existing one. It is a boolean flag with the default False. If it is True then it renames the existing DataFrame rather than creating a copy.\n",
    "\n",
    "**Returns:**\n",
    "\n",
    "It returns an object of type DataFrame else None if **`inplace=True`**.\n",
    "\n",
    ">**Note:** Supply a list to the **`set_axis()`** method that is equal in length to the number of columns otherwise you will get an error.\n",
    "\n",
    "**Example:**"
   ]
  },
  {
   "cell_type": "code",
   "execution_count": 12,
   "metadata": {
    "ExecuteTime": {
     "end_time": "2021-06-17T11:57:40.816825Z",
     "start_time": "2021-06-17T11:57:40.792411Z"
    }
   },
   "outputs": [
    {
     "name": "stdout",
     "output_type": "stream",
     "text": [
      "['name' 'age' 'marks']\n",
      "['new_name' 'new_age' 'new_marks']\n"
     ]
    }
   ],
   "source": [
    "import pandas as pd\n",
    "\n",
    "student_dict = {\"name\": [\"Joe\", \"Nat\", \"Harry\"], \"age\": [20, 21, 19], \"marks\": [85.10, 77.80, 91.54]}\n",
    "\n",
    "student_df = pd.DataFrame(student_dict)\n",
    "print(student_df.columns.values)\n",
    "\n",
    "# reassign column headers\n",
    "student_df.set_axis(['new_name', 'new_age', 'new_marks'], axis='columns', inplace=True)\n",
    "print(student_df.columns.values)"
   ]
  },
  {
   "cell_type": "markdown",
   "metadata": {
    "heading_collapsed": true
   },
   "source": [
    "## Rename column in multi-index DataFrame\n",
    "\n",
    "Pandas DataFrame can have single or multiple rows as column labels, i.e., a header to identify the columns. DataFrame with multiple headers is called a **multi-index DataFrame**.\n",
    "\n",
    "The below diagram shows the multi-index DataFrame where header levels start with 0.\n",
    "\n",
    "<div>\n",
    "<img src=\"img/micolh.png\" width=\"600\"/>\n",
    "</div>"
   ]
  },
  {
   "cell_type": "markdown",
   "metadata": {},
   "source": [
    "## Rename columns in all levels\n",
    "\n",
    "We can apply **`DataFrame.rename()`** function on multi-index DataFrame.\n",
    "\n",
    "In the below example, we use **`df.rename(columns={'old_col':'new_col'})`** which rename the column labels in all the levels of multi-index DataFrame."
   ]
  },
  {
   "cell_type": "code",
   "execution_count": 13,
   "metadata": {
    "ExecuteTime": {
     "end_time": "2021-06-17T11:57:49.232739Z",
     "start_time": "2021-06-17T11:57:49.193679Z"
    }
   },
   "outputs": [
    {
     "name": "stdout",
     "output_type": "stream",
     "text": [
      "  Class A        Class B       \n",
      "     Name  Marks    Name  Marks\n",
      "0     Joe  85.10     Nat  77.80\n",
      "1   Harry  91.54     Sam  68.55\n",
      "  Class A        Class B       \n",
      "    SName  Marks   SName  Marks\n",
      "0     Joe  85.10     Nat  77.80\n",
      "1   Harry  91.54     Sam  68.55\n"
     ]
    }
   ],
   "source": [
    "import pandas as pd\n",
    "\n",
    "# create column header\n",
    "col = pd.MultiIndex.from_arrays([['Class A', 'Class A', 'Class B', 'Class B'],\n",
    "                                 ['Name', 'Marks', 'Name', 'Marks']])\n",
    "# create dataframe from 2darray\n",
    "student_df = pd.DataFrame([['Joe', '85.10', 'Nat', '77.80'], ['Harry', '91.54', 'Sam', '68.55']], columns=col)\n",
    "print(student_df)\n",
    "\n",
    "# rename column label\n",
    "student_df = student_df.rename(columns={'Name': 'SName'})\n",
    "print(student_df)"
   ]
  },
  {
   "cell_type": "markdown",
   "metadata": {},
   "source": [
    "## Rename columns in defined level\n",
    "\n",
    "It is the case when we have the same column labels in multiple levels of the multi-index DataFrame. But, we need to rename the column in a selected level only. Or we want to rename column labels of a particular level only in such cases we can use the level parameter of **`DataFrame.rename()`**.\n",
    "\n",
    "This parameter is used to specify the **level name** or **level index** where we need to rename the columns.\n",
    "\n",
    "**Example:**\n",
    "\n",
    "In the below example, we rename the column label of only **level 1** to the upper case using the string function **`columns=str.upper`**."
   ]
  },
  {
   "cell_type": "code",
   "execution_count": 14,
   "metadata": {
    "ExecuteTime": {
     "end_time": "2021-06-17T11:57:54.485119Z",
     "start_time": "2021-06-17T11:57:54.457776Z"
    }
   },
   "outputs": [
    {
     "name": "stdout",
     "output_type": "stream",
     "text": [
      "  Class A        Class B       \n",
      "     Name  Marks    Name  Marks\n",
      "0     Joe  85.10     Nat  77.80\n",
      "1   Harry  91.54     Sam  68.55\n",
      "  Class A        Class B       \n",
      "     NAME  MARKS    NAME  MARKS\n",
      "0     Joe  85.10     Nat  77.80\n",
      "1   Harry  91.54     Sam  68.55\n"
     ]
    }
   ],
   "source": [
    "import pandas as pd\n",
    "\n",
    "# create column header\n",
    "col = pd.MultiIndex.from_arrays([['Class A', 'Class A', 'Class B', 'Class B'],\n",
    "                                 ['Name', 'Marks', 'Name', 'Marks']])\n",
    "# create dataframe from 2darray\n",
    "student_df = pd.DataFrame([['Joe', '85.10', 'Nat', '77.80'], ['Harry', '91.54', 'Sam', '68.55']], columns=col)\n",
    "print(student_df)\n",
    "\n",
    "# rename column label in level 1\n",
    "student_df = student_df.rename(columns=str.upper, level=1)\n",
    "print(student_df)"
   ]
  },
  {
   "cell_type": "code",
   "execution_count": null,
   "metadata": {},
   "outputs": [],
   "source": []
  }
 ],
 "metadata": {
  "hide_input": false,
  "kernelspec": {
   "display_name": "Python 3",
   "language": "python",
   "name": "python3"
  },
  "language_info": {
   "codemirror_mode": {
    "name": "ipython",
    "version": 3
   },
   "file_extension": ".py",
   "mimetype": "text/x-python",
   "name": "python",
   "nbconvert_exporter": "python",
   "pygments_lexer": "ipython3",
   "version": "3.8.8"
  },
  "toc": {
   "base_numbering": 1,
   "nav_menu": {},
   "number_sections": true,
   "sideBar": true,
   "skip_h1_title": false,
   "title_cell": "Table of Contents",
   "title_sidebar": "Contents",
   "toc_cell": false,
   "toc_position": {},
   "toc_section_display": true,
   "toc_window_display": false
  },
  "varInspector": {
   "cols": {
    "lenName": 16,
    "lenType": 16,
    "lenVar": 40
   },
   "kernels_config": {
    "python": {
     "delete_cmd_postfix": "",
     "delete_cmd_prefix": "del ",
     "library": "var_list.py",
     "varRefreshCmd": "print(var_dic_list())"
    },
    "r": {
     "delete_cmd_postfix": ") ",
     "delete_cmd_prefix": "rm(",
     "library": "var_list.r",
     "varRefreshCmd": "cat(var_dic_list()) "
    }
   },
   "types_to_exclude": [
    "module",
    "function",
    "builtin_function_or_method",
    "instance",
    "_Feature"
   ],
   "window_display": false
  }
 },
 "nbformat": 4,
 "nbformat_minor": 2
}
