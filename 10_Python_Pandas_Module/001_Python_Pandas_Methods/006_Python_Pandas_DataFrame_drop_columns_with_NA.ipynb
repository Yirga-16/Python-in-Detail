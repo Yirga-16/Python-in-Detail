{
 "cells": [
  {
   "cell_type": "markdown",
   "metadata": {},
   "source": [
    "<small><small><i>\n",
    "All the IPython Notebooks in this lecture series by Dr. Milan Parmar are available @ **[GitHub](https://github.com/milaan9/10_Python_Pandas_Module/tree/main/001_Python_Pandas_Methods)**\n",
    "</i></small></small>"
   ]
  },
  {
   "cell_type": "markdown",
   "metadata": {},
   "source": [
    "# Drop columns with NA in pandas DataFrame\n",
    "\n",
    "This article covers all the cases to remove columns from **[Pandas DataFrame](https://github.com/milaan9/10_Python_Pandas_Module/blob/main/001_Python_Pandas_DataFrame.ipynb)** that contains missing or NA values.\n",
    "\n",
    "For multiple reasons, it could happen that data in the Dataset is missing or not available. It is a very usual case where we need to clean the data before start analyzing it."
   ]
  },
  {
   "cell_type": "markdown",
   "metadata": {},
   "source": [
    "Also, See:\n",
    "\n",
    "* **[Drop columns in pandas DataFrame](https://github.com/milaan9/10_Python_Pandas_Module/blob/main/001_Python_Pandas_Methods/004_Python_Pandas_DataFrame_drop_columns.ipynb)**\n",
    "* **[Drop duplicates in pandas DataFrame](https://github.com/milaan9/10_Python_Pandas_Module/blob/main/001_Python_Pandas_Methods/005_Python_Pandas_DataFrame_drop_duplicates.ipynb)**"
   ]
  },
  {
   "cell_type": "markdown",
   "metadata": {
    "heading_collapsed": true
   },
   "source": [
    "## The `DataFrame.dropna()` function\n",
    "\n",
    "We can use this pandas function to remove columns from the DataFrame with values Not Available(NA).\n",
    "\n",
    "**Syntax:**\n",
    "```python\n",
    "DataFrame.dropna(axis=0, how='any', thresh=None, subset=None, inplace=False)\n",
    "```\n",
    "\n",
    "**Parameters:**\n",
    "\n",
    "1. **`axis`**: It determines the axis to remove. Set it to 1 or **`column`** to remove columns containing missing values. By default, it removes rows with NA from DataFrame.\n",
    "2. **`how`**: It takes the following inputs:\n",
    "    * **`‘any’`**: This is the default case to drop the column if it has at least one value missing.\n",
    "    * **`‘all’`**: Drop the column only if it has all the values as NA.\n",
    "3. **`thresh`**: It applies a condition to drop the columns only if it does not contain the required number of values. It takes an int as input.\n",
    "4. **`subset`**: While dropping columns, it is used to specify the list of rows to be considered to find NA.\n",
    "5. **`inplace`**: It is used to specify whether to return a new DataFrame or update an existing one. It is a boolean flag with default **`False`**.\n",
    "\n",
    "**Returns:**\n",
    "\n",
    "* It returns the DataFrame with dropped NA or None if **`inplace=True`**"
   ]
  },
  {
   "cell_type": "markdown",
   "metadata": {},
   "source": [
    "## Drop column where at least one value is missing\n",
    "\n",
    "There is a case when we cannot process the dataset with missing values. If we need to drop such columns that contain NA, we can use the **`axis=columns`** parameter of **`DataFrame.dropna()`** to specify deleting the columns.\n",
    "\n",
    "By default, it removes the column where one or more values are missing.\n",
    "\n",
    "**Example:**\n",
    "\n",
    "In the below example, it drops column **`marks`** because it contains NaN.\n",
    "\n",
    "<div>\n",
    "<img src=\"img/dcwaONA.png\" width=\"200\"/>\n",
    "</div>"
   ]
  },
  {
   "cell_type": "code",
   "execution_count": 1,
   "metadata": {
    "ExecuteTime": {
     "end_time": "2021-06-17T11:55:40.360245Z",
     "start_time": "2021-06-17T11:55:39.765526Z"
    }
   },
   "outputs": [
    {
     "name": "stdout",
     "output_type": "stream",
     "text": [
      "Before dropping column NA: \n",
      "     name  age  marks\n",
      "0    Joe   20  85.10\n",
      "1    Sam   21    NaN\n",
      "2  Harry   19  91.54\n",
      "\n",
      "After dropping column NA: \n",
      "     name  age\n",
      "0    Joe   20\n",
      "1    Sam   21\n",
      "2  Harry   19\n"
     ]
    }
   ],
   "source": [
    "import pandas as pd\n",
    "import numpy as np\n",
    "\n",
    "student_dict = {\"name\": [\"Joe\", \"Sam\", \"Harry\"], \"age\": [20, 21, 19], \"marks\": [85.10, np.nan, 91.54]}\n",
    "\n",
    "# Create DataFrame from dict\n",
    "student_df = pd.DataFrame(student_dict)\n",
    "print(\"Before dropping column NA: \\n\", student_df)\n",
    "\n",
    "# drop column with NaN\n",
    "student_df = student_df.dropna(axis='columns')\n",
    "\n",
    "print(\"\\nAfter dropping column NA: \\n\", student_df)"
   ]
  },
  {
   "cell_type": "markdown",
   "metadata": {},
   "source": [
    "## Drop column where all values are missing\n",
    "\n",
    "We can drop an empty column from DataFrame using **`DataFrame.dropna()`**.\n",
    "\n",
    "We need to use how parameter as follows:\n",
    "\n",
    "* If **`how='all'`**, it drops the column where all the values are NA.\n",
    "* By default, **`how='any'`**, it removes the columns where one or more values are NA.\n",
    "\n",
    "**Example**\n",
    "\n",
    "The below example shows that it only drops the **`age`** column where all values are NaN. Other columns are not dropped even if it contains NaN.."
   ]
  },
  {
   "cell_type": "code",
   "execution_count": 2,
   "metadata": {
    "ExecuteTime": {
     "end_time": "2021-06-17T11:55:45.641921Z",
     "start_time": "2021-06-17T11:55:45.620436Z"
    }
   },
   "outputs": [
    {
     "name": "stdout",
     "output_type": "stream",
     "text": [
      "Before dropping column NA: \n",
      "     name  age  marks\n",
      "0    Joe  NaN  85.10\n",
      "1    Sam  NaN    NaN\n",
      "2    NaN  NaN    NaN\n",
      "3  Harry  NaN  91.54\n",
      "\n",
      "After dropping column NA: \n",
      "     name  marks\n",
      "0    Joe  85.10\n",
      "1    Sam    NaN\n",
      "2    NaN    NaN\n",
      "3  Harry  91.54\n"
     ]
    }
   ],
   "source": [
    "import pandas as pd\n",
    "import numpy as np\n",
    "\n",
    "student_dict = {\"name\": [\"Joe\", \"Sam\", np.nan, \"Harry\"], \"age\": [np.nan, np.nan, np.nan, np.nan],\n",
    "                \"marks\": [85.10, np.nan, np.nan, 91.54]}\n",
    "\n",
    "# Create DataFrame from dict\n",
    "student_df = pd.DataFrame(student_dict)\n",
    "print(\"Before dropping column NA: \\n\", student_df)\n",
    "\n",
    "# drop column with NaN\n",
    "student_df = student_df.dropna(axis='columns', how='all')\n",
    "\n",
    "print(\"\\nAfter dropping column NA: \\n\", student_df)"
   ]
  },
  {
   "cell_type": "markdown",
   "metadata": {},
   "source": [
    "## Drop column with the number of NA\n",
    "\n",
    "While cleaning the dataset, we can keep the columns with at least some data available in it else drop otherwise.\n",
    "\n",
    "We need to use the parameter **`thresh=no_of_nonNA_values`** of **`DataFrame.drop()`** to specify the number of values that must be available in the column. Else, drop the column.\n",
    "\n",
    "**Example**\n",
    "\n",
    "In the below example, we keep the column where at least three or more values are available and drop the column if the condition is not met.\n",
    "\n",
    "<div>\n",
    "<img src=\"img/dcwnoNA.png\" width=\"200\"/>\n",
    "</div>"
   ]
  },
  {
   "cell_type": "code",
   "execution_count": 3,
   "metadata": {
    "ExecuteTime": {
     "end_time": "2021-06-17T11:55:48.275676Z",
     "start_time": "2021-06-17T11:55:48.244431Z"
    }
   },
   "outputs": [
    {
     "name": "stdout",
     "output_type": "stream",
     "text": [
      "Before dropping column NA: \n",
      "     name  age  marks\n",
      "0    Joe  NaN  85.10\n",
      "1    Sam  NaN    NaN\n",
      "2    NaN  NaN    NaN\n",
      "3  Harry  NaN  91.54\n",
      "\n",
      "After dropping column NA: \n",
      "     name\n",
      "0    Joe\n",
      "1    Sam\n",
      "2    NaN\n",
      "3  Harry\n"
     ]
    }
   ],
   "source": [
    "import pandas as pd\n",
    "import numpy as np\n",
    "\n",
    "student_dict = {\"name\": [\"Joe\", \"Sam\", np.nan, \"Harry\"], \"age\": [np.nan, np.nan, np.nan, np.nan],\n",
    "                \"marks\": [85.10, np.nan, np.nan, 91.54]}\n",
    "\n",
    "# Create DataFrame from dict\n",
    "student_df = pd.DataFrame(student_dict)\n",
    "print(\"Before dropping column NA: \\n\", student_df)\n",
    "\n",
    "# keep column with 3 or more non-NA values\n",
    "student_df = student_df.dropna(axis='columns', thresh=3)\n",
    "\n",
    "print(\"\\nAfter dropping column NA: \\n\", student_df)"
   ]
  },
  {
   "cell_type": "markdown",
   "metadata": {},
   "source": [
    "## Drop NA from defined rows\n",
    "\n",
    "Suppose we are interested in dropping the column only if it contains null values in some particular rows. For example, consider when we need to drop a column if it does not have data in its initial rows.\n",
    "\n",
    "In such a case, we can use **`subset=[row1, row2]`** of **`DataFrame.dropna()`** to specify the list of row indexes so that it drops the columns containing missing values in these rows only, i.e., row1 and row2 in this case.\n",
    "\n",
    "**Example:**\n",
    "\n",
    "Let’s see how to delete a column only if it contains the empty value in row 0 or 2, otherwise do not delete the column.\n",
    "\n",
    "<div>\n",
    "<img src=\"img/dcfsr.png\" width=\"200\"/>\n",
    "</div>"
   ]
  },
  {
   "cell_type": "code",
   "execution_count": 4,
   "metadata": {
    "ExecuteTime": {
     "end_time": "2021-06-17T11:55:52.698476Z",
     "start_time": "2021-06-17T11:55:52.652093Z"
    }
   },
   "outputs": [
    {
     "name": "stdout",
     "output_type": "stream",
     "text": [
      "Before dropping column NA: \n",
      "     name  age  marks\n",
      "0    Joe  NaN  85.10\n",
      "1    Sam  NaN    NaN\n",
      "2  Harry  NaN  91.54\n",
      "\n",
      "After dropping column NA: \n",
      "     name  marks\n",
      "0    Joe  85.10\n",
      "1    Sam    NaN\n",
      "2  Harry  91.54\n"
     ]
    }
   ],
   "source": [
    "import pandas as pd\n",
    "import numpy as np\n",
    "\n",
    "student_dict = {\"name\": [\"Joe\", \"Sam\", \"Harry\"], \"age\": [np.nan, np.nan, np.nan], \"marks\": [85.10, np.nan, 91.54]}\n",
    "\n",
    "# Create DataFrame from dict\n",
    "student_df = pd.DataFrame(student_dict)\n",
    "print(\"Before dropping column NA: \\n\", student_df)\n",
    "\n",
    "# drop marks column with NaN\n",
    "student_df = student_df.dropna(axis='columns', subset=[0, 2])\n",
    "\n",
    "print(\"\\nAfter dropping column NA: \\n\", student_df)"
   ]
  },
  {
   "cell_type": "markdown",
   "metadata": {},
   "source": [
    "## Drop column with missing values in place\n",
    "\n",
    "We can drop columns from the existing DataFrame or by creating a copy of it. For that, we can use a flag **`inplace`** of **`DataFrame.dropna()`**.\n",
    "\n",
    "* If the **`inplace=True`**, then it updates the DataFrame and returns None.\n",
    "* If **`inplace=False`**, it returns the updated copy of the DataFrame.\n",
    "\n",
    "**Example:**\n",
    "\n",
    "As shown in the below example, we are dropping the column from the existing DataFrame without reassigning it to a new variable."
   ]
  },
  {
   "cell_type": "code",
   "execution_count": 5,
   "metadata": {
    "ExecuteTime": {
     "end_time": "2021-06-17T11:55:55.612016Z",
     "start_time": "2021-06-17T11:55:55.589558Z"
    }
   },
   "outputs": [
    {
     "name": "stdout",
     "output_type": "stream",
     "text": [
      "Before dropping row NA: \n",
      "     name  age  marks\n",
      "0    Joe   20  85.10\n",
      "1    Sam   21    NaN\n",
      "2  Harry   19  91.54\n",
      "\n",
      "After dropping row NA: \n",
      "     name  age  marks\n",
      "0    Joe   20  85.10\n",
      "2  Harry   19  91.54\n"
     ]
    }
   ],
   "source": [
    "import pandas as pd\n",
    "import numpy as np\n",
    "\n",
    "student_dict = {\"name\": [\"Joe\", \"Sam\", \"Harry\"], \"age\": [20, 21, 19], \"marks\": [85.10, np.nan, 91.54]}\n",
    "\n",
    "# Create DataFrame from dict\n",
    "student_df = pd.DataFrame(student_dict)\n",
    "print(\"Before dropping row NA: \\n\", student_df)\n",
    "\n",
    "# drop marks row with NaN\n",
    "student_df.dropna(inplace=True)\n",
    "\n",
    "print(\"\\nAfter dropping row NA: \\n\", student_df)"
   ]
  },
  {
   "cell_type": "markdown",
   "metadata": {},
   "source": [
    "## Drop duplicates and reset the index\n",
    "\n",
    "When we drop the rows from DataFrame, by default, it keeps the original row index as is. But, if we need to reset the index of the resultant DataFrame, we can do that using the **`ignore_index`** parameter of **`DataFrame.drop_duplicate()`**.\n",
    "\n",
    "* If **`ignore_index=True`**, it reset the row labels of resultant DataFrame to 0, 1, …, n – 1.\n",
    "* If **`ignore_index=False`** it does not change the original row index. By default, it is **False**."
   ]
  },
  {
   "cell_type": "code",
   "execution_count": 6,
   "metadata": {
    "ExecuteTime": {
     "end_time": "2021-06-17T11:55:57.125673Z",
     "start_time": "2021-06-17T11:55:57.095400Z"
    }
   },
   "outputs": [
    {
     "name": "stdout",
     "output_type": "stream",
     "text": [
      "Before dropping duplicates: \n",
      "     name  age  marks\n",
      "a    Joe   20  85.10\n",
      "b    Nat   21  77.80\n",
      "c  Harry   19  91.54\n",
      "d    Nat   21  77.80\n",
      "\n",
      "After dropping column: \n",
      "     name  age  marks\n",
      "0    Joe   20  85.10\n",
      "1  Harry   19  91.54\n"
     ]
    }
   ],
   "source": [
    "import pandas as pd\n",
    "\n",
    "student_dict = {\"name\": [\"Joe\", \"Nat\", \"Harry\", \"Nat\"], \"age\": [20, 21, 19, 21], \"marks\": [85.10, 77.80, 91.54, 77.80]}\n",
    "\n",
    "# Create DataFrame from dict\n",
    "student_df = pd.DataFrame(student_dict, index=['a', 'b', 'c', 'd'])\n",
    "print(\"Before dropping duplicates: \\n\", student_df)\n",
    "\n",
    "# drop duplicate rows\n",
    "student_df = student_df.drop_duplicates(keep=False, ignore_index=True)\n",
    "\n",
    "print(\"\\nAfter dropping column: \\n\", student_df)"
   ]
  },
  {
   "cell_type": "code",
   "execution_count": null,
   "metadata": {},
   "outputs": [],
   "source": []
  }
 ],
 "metadata": {
  "hide_input": false,
  "kernelspec": {
   "display_name": "Python 3",
   "language": "python",
   "name": "python3"
  },
  "language_info": {
   "codemirror_mode": {
    "name": "ipython",
    "version": 3
   },
   "file_extension": ".py",
   "mimetype": "text/x-python",
   "name": "python",
   "nbconvert_exporter": "python",
   "pygments_lexer": "ipython3",
   "version": "3.8.8"
  },
  "toc": {
   "base_numbering": 1,
   "nav_menu": {},
   "number_sections": true,
   "sideBar": true,
   "skip_h1_title": false,
   "title_cell": "Table of Contents",
   "title_sidebar": "Contents",
   "toc_cell": false,
   "toc_position": {},
   "toc_section_display": true,
   "toc_window_display": false
  },
  "varInspector": {
   "cols": {
    "lenName": 16,
    "lenType": 16,
    "lenVar": 40
   },
   "kernels_config": {
    "python": {
     "delete_cmd_postfix": "",
     "delete_cmd_prefix": "del ",
     "library": "var_list.py",
     "varRefreshCmd": "print(var_dic_list())"
    },
    "r": {
     "delete_cmd_postfix": ") ",
     "delete_cmd_prefix": "rm(",
     "library": "var_list.r",
     "varRefreshCmd": "cat(var_dic_list()) "
    }
   },
   "types_to_exclude": [
    "module",
    "function",
    "builtin_function_or_method",
    "instance",
    "_Feature"
   ],
   "window_display": false
  }
 },
 "nbformat": 4,
 "nbformat_minor": 2
}
