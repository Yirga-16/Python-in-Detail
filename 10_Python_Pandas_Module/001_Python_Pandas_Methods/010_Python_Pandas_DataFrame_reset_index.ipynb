{
 "cells": [
  {
   "cell_type": "markdown",
   "metadata": {},
   "source": [
    "<small><small><i>\n",
    "All the IPython Notebooks in this lecture series by Dr. Milan Parmar are available @ **[GitHub](https://github.com/milaan9/10_Python_Pandas_Module/tree/main/001_Python_Pandas_Methods)**\n",
    "</i></small></small>"
   ]
  },
  {
   "cell_type": "markdown",
   "metadata": {},
   "source": [
    "# Reset index in pandas DataFrame\n",
    "\n",
    "In this class, we learn how to reset the index of the **[Pandas DataFrame](https://github.com/milaan9/10_Python_Pandas_Module/blob/main/001_Python_Pandas_DataFrame.ipynb)** We discuss all the cases of resetting the row index of a simple and multi-level DataFrame.\n",
    "\n",
    "DataFrame is the tabular structure in the Python pandas library. It represents each row and column by the label. Row label is called an **index**, whereas column label is called column index/header.\n",
    "\n",
    "After performing manipulations and filtering on the large dataset, we finally get the precise DataFrame as required. But, it carries the index of the original dataset. In such a case, we need to reset the index of the DataFrame."
   ]
  },
  {
   "cell_type": "markdown",
   "metadata": {
    "heading_collapsed": true
   },
   "source": [
    "## The `DataFrame.reset_index()` function\n",
    "\n",
    "After dropping and filtering the rows, this function is used to reset the index of the resultant Python DataFrame. Let’s discuss how to use **`DataFrame.reset_index()`** function in detail.\n",
    "\n",
    "**Syntax:**\n",
    "```python\n",
    "DataFrame.reset_index(level=None, drop=False, inplace=False, col_level=0, col_fill='')\n",
    "```\n",
    "\n",
    "**Parameters:**\n",
    "\n",
    "1. **`level`**: In multi-level DataFrame, it takes a **level name or a position** of **Row index** that needs to be reset. By default, it reset all levels in a row index.\n",
    "2. **`drop: It is a boolean flag,\n",
    "    * **`True`** – It does not add the current row index as a new column in DataFrame.\n",
    "    * **`False`** (Default) – It adds the current row index as a new column in DataFrame.\n",
    "3. **`inplace`**: It is used to specify whether to return a new DataFrame or update an existing one. It is a boolean flag with default **`False`**.\n",
    "4. **`col_level`**: In multi-level DataFrame, determines which column header level the current row index is inserted into. By default, it is inserted into the first level.\n",
    "5. **`col_fill`**: In multi-level DataFrame, if the column headers have multiple levels, it determines how the other levels are named. **For example**, if we have a DataFrame with the two-column headers at levels 0 and 1, and if we add the current index as column header at level 0, we can specify the column header at level 1.\n",
    "    \n",
    "**Return:**\n",
    "\n",
    "DataFrame with the new index or None if **`inplace=True`**."
   ]
  },
  {
   "cell_type": "markdown",
   "metadata": {},
   "source": [
    "## Reset index to starts at 0\n",
    "\n",
    "How to reset index in pandas DataFrame?\n",
    "\n",
    "1. **Create pandas DataFrame**\n",
    "    * We can create a DataFrame from a CSV file or **`dict`**.\n",
    "\n",
    "\n",
    "2. **Manipulate the DataFrame**\n",
    "    * When we manipulate the DataFrame like **[drop duplicates](https://github.com/milaan9/10_Python_Pandas_Module/blob/main/001_Python_Pandas_Methods/005_Python_Pandas_DataFrame_drop_duplicates.ipynb)** or sort values, we get the new DataFrame, but it carries the original row index.\n",
    "**`df = df.drop_duplicates()`**\n",
    "\n",
    "\n",
    "3. **Use `DataFrame.reset_index()` function**\n",
    "    * We can use **`DataFrame.reset_index()`** to reset the index of the updated DataFrame. By default, it adds the current row index as a new column called **index** in DataFrame, and it will create a new row index as a range of numbers starting at 0.\n",
    "**`df = df.reset_index()`**\n",
    "\n",
    "\n",
    "4. **Reset index without adding new column**\n",
    "    * By default, **`DataFrame.reset_index()`** adds the current row index as a new column in DataFrame. If we do not want to add the new column, we can use the **`drop`** parameter.\n",
    "**`df = df.reset_index(drop=True)`**\n",
    "\n",
    "\n",
    "5. **Reset index in place**\n",
    "    * We can use the parameter **`inplace`** to reset the index in the existing DataFrame rather than create a new copy.\n",
    "**`df.reset_index(inplace=True)`**\n",
    "\n",
    "<div>\n",
    "<img src=\"img/dfri.png\" width=\"600\"/>\n",
    "</div>\n",
    "\n",
    "**Example:**\n",
    "\n",
    "We have a student DataFrame with a row index ‘s1’, ‘s2’.. likewise. It contains a row with missing values that we want to remove. After we removed it using **`DataFrame.dropna()`** function, its row index is still the same. But now, the index is not in the sequence.\n",
    "\n",
    "In such a case, let’s see how to reset the index to the sequence of numbers using **`DataFrame.reset_index()`**."
   ]
  },
  {
   "cell_type": "code",
   "execution_count": 2,
   "metadata": {
    "ExecuteTime": {
     "end_time": "2021-06-17T12:08:21.578262Z",
     "start_time": "2021-06-17T12:08:21.532367Z"
    },
    "scrolled": true
   },
   "outputs": [
    {
     "name": "stdout",
     "output_type": "stream",
     "text": [
      "Original DataFrame: \n",
      "      Name   Age  Marks\n",
      "s1    Joe  20.0  85.10\n",
      "s2    Nat  21.0  77.80\n",
      "s3    NaN   NaN    NaN\n",
      "s4  Harry  19.0  91.54\n",
      "\n",
      "DataFrame after dropping N/A: \n",
      "      Name   Age  Marks\n",
      "s1    Joe  20.0  85.10\n",
      "s2    Nat  21.0  77.80\n",
      "s4  Harry  19.0  91.54\n",
      "\n",
      "DataFrame after resetting index: \n",
      "   index   Name   Age  Marks\n",
      "0    s1    Joe  20.0  85.10\n",
      "1    s2    Nat  21.0  77.80\n",
      "2    s4  Harry  19.0  91.54\n"
     ]
    }
   ],
   "source": [
    "import numpy as np\n",
    "\n",
    "student_dict = {'Name': ['Joe', 'Nat', np.NaN, 'Harry'], 'Age': [20, 21, np.NaN, 19],\n",
    "                'Marks': [85.10, 77.80, np.NaN, 91.54]}\n",
    "\n",
    "# create DataFrame from dict\n",
    "student_df = pd.DataFrame(student_dict, index=['s1', 's2', 's3', 's4'])\n",
    "print(\"Original DataFrame: \\n\", student_df)\n",
    "\n",
    "# drop NA\n",
    "student_df = student_df.dropna()\n",
    "print(\"\\nDataFrame after dropping N/A: \\n\", student_df)\n",
    "\n",
    "# reset index\n",
    "student_df = student_df.reset_index()\n",
    "print(\"\\nDataFrame after resetting index: \\n\", student_df)"
   ]
  },
  {
   "cell_type": "markdown",
   "metadata": {},
   "source": [
    "## Reset index without new column\n",
    "\n",
    "By default, **`DataFrame.reset_index()`** adds the current row index as a new **index** column in DataFrame. If we do not want to add the new column, we can use the drop parameter.\n",
    "\n",
    "* If **`drop=True`** then it does not add the new column of the current row index in the DataFrame.\n",
    "* If **`drop=False`**, is the default behavior where it adds the new column of the current row index in the DataFrame.\n",
    "\n",
    "**Example:**\n",
    "\n",
    "Let’s see how we can reset the index without adding new column."
   ]
  },
  {
   "cell_type": "code",
   "execution_count": 3,
   "metadata": {
    "ExecuteTime": {
     "end_time": "2021-06-17T12:08:29.713422Z",
     "start_time": "2021-06-17T12:08:29.686081Z"
    }
   },
   "outputs": [
    {
     "name": "stdout",
     "output_type": "stream",
     "text": [
      "Before reset index: \n",
      "      Name  Age  Marks\n",
      "s1    Joe   20  85.10\n",
      "s2    Nat   21  77.80\n",
      "s3  Harry   19  91.54\n",
      "\n",
      "After reset index: \n",
      "     Name  Age  Marks\n",
      "0    Joe   20  85.10\n",
      "1    Nat   21  77.80\n",
      "2  Harry   19  91.54\n"
     ]
    }
   ],
   "source": [
    "import pandas as pd\n",
    "\n",
    "student_dict = {'Name': ['Joe', 'Nat', 'Harry'], 'Age': [20, 21, 19], 'Marks': [85.10, 77.80, 91.54]}\n",
    "\n",
    "# create DataFrame from dict\n",
    "student_df = pd.DataFrame(student_dict, index=['s1', 's2', 's3'])\n",
    "print(\"Before reset index: \\n\", student_df)\n",
    "\n",
    "# reset index without new column\n",
    "student_df = student_df.reset_index(drop=True)\n",
    "print(\"\\nAfter reset index: \\n\", student_df)"
   ]
  },
  {
   "cell_type": "markdown",
   "metadata": {},
   "source": [
    "## Reset index in place\n",
    "\n",
    "In the above examples, whenever we executed reset index operation, pandas created a new copy of DataFrame because the modification is not-in place.\n",
    "\n",
    "Specify **`inplace=True`** to reset index in the existing DataFrame rather than creating a copy of it.\n",
    "\n",
    "* If the **`inplace=True`** then it updates the existing DataFrame and does not return anything.\n",
    "* If the **`inplace=False`** then it creates a new DataFrame with an updated index and returns it.\n",
    "\n",
    ">**Note:** You don’t need to assign the result back to a variable as we are performing modifications in place.\n",
    "\n",
    "**Example:**"
   ]
  },
  {
   "cell_type": "code",
   "execution_count": 4,
   "metadata": {
    "ExecuteTime": {
     "end_time": "2021-06-17T12:08:36.681602Z",
     "start_time": "2021-06-17T12:08:36.663049Z"
    }
   },
   "outputs": [
    {
     "name": "stdout",
     "output_type": "stream",
     "text": [
      "Before reset index: \n",
      "      Name  Age  Marks\n",
      "s1    Joe   20  85.10\n",
      "s2    Nat   21  77.80\n",
      "s3  Harry   19  91.54\n",
      "\n",
      "After reset index: \n",
      "   index   Name  Age  Marks\n",
      "0    s1    Joe   20  85.10\n",
      "1    s2    Nat   21  77.80\n",
      "2    s3  Harry   19  91.54\n"
     ]
    }
   ],
   "source": [
    "import pandas as pd\n",
    "\n",
    "student_dict = {'Name': ['Joe', 'Nat', 'Harry'], 'Age': [20, 21, 19], 'Marks': [85.10, 77.80, 91.54]}\n",
    "\n",
    "# create DataFrame from dict\n",
    "student_df = pd.DataFrame(student_dict, index=['s1', 's2', 's3'])\n",
    "print(\"Before reset index: \\n\", student_df)\n",
    "\n",
    "# reset index in place\n",
    "student_df.reset_index(inplace=True)\n",
    "print(\"\\nAfter reset index: \\n\", student_df)"
   ]
  },
  {
   "cell_type": "markdown",
   "metadata": {},
   "source": [
    "## Reset index starts from 1\n",
    "\n",
    "Suppose we have a huge dataset which we need to filter. After filtering the DataFrame, it still carries the original index. When we want to reset the index of the DataFrame such that the new index should start with 1, we can do that in two steps,\n",
    "\n",
    "* Use **`DataFrame.reset_index()`** to reset the row index to start at o.\n",
    "* Use the **`index`** parameter of the DataFrame to re-assign the index by adding 1 to each row index of the resultant DataFrame.\n",
    "\n",
    "**Example:**\n",
    "\n",
    "In the below example, we first reset the index to the sequence of numbers and then added 1 to each index."
   ]
  },
  {
   "cell_type": "code",
   "execution_count": 5,
   "metadata": {
    "ExecuteTime": {
     "end_time": "2021-06-17T12:08:38.115669Z",
     "start_time": "2021-06-17T12:08:38.087350Z"
    }
   },
   "outputs": [
    {
     "name": "stdout",
     "output_type": "stream",
     "text": [
      "Before reset index: \n",
      "      Name  Age  Marks\n",
      "s1    Joe   20  85.10\n",
      "s2    Nat   21  77.80\n",
      "s3  Harry   19  91.54\n",
      "\n",
      "After reset index: \n",
      "   index   Name  Age  Marks\n",
      "1    s1    Joe   20  85.10\n",
      "2    s2    Nat   21  77.80\n",
      "3    s3  Harry   19  91.54\n"
     ]
    }
   ],
   "source": [
    "import pandas as pd\n",
    "\n",
    "student_dict = {'Name': ['Joe', 'Nat', 'Harry'], 'Age': [20, 21, 19], 'Marks': [85.10, 77.80, 91.54]}\n",
    "\n",
    "# create DataFrame from dict\n",
    "student_df = pd.DataFrame(student_dict, index=['s1', 's2', 's3'])\n",
    "print(\"Before reset index: \\n\", student_df)\n",
    "\n",
    "# reset index\n",
    "student_df = student_df.reset_index()\n",
    "\n",
    "# add 1 to each index\n",
    "student_df.index = student_df.index + 1\n",
    "\n",
    "print(\"\\nAfter reset index: \\n\", student_df)"
   ]
  },
  {
   "cell_type": "markdown",
   "metadata": {},
   "source": [
    "## Reset index to the range of numbers\n",
    "\n",
    "In our student DataFrame, suppose we want to assign the Identity number to each student starting from 101. We can use the index parameter of DataFrame to change the **`index`** as a range of numbers that begins at a specific number.\n",
    "\n",
    "First, we need to generate the range of numbers and then assign it to the **`DataFrame.index`** to reset the original index.\n",
    "\n",
    "**Example:**\n",
    "\n",
    "In the below example, **[pd.RangeIndex()](https://pandas.pydata.org/pandas-docs/stable/reference/api/pandas.RangeIndex.html)** function is used to generate the range of numbers which starts at 101 till the last row i.e. **`len(df)`**. Assign this range to the **`df.index`**."
   ]
  },
  {
   "cell_type": "code",
   "execution_count": 6,
   "metadata": {
    "ExecuteTime": {
     "end_time": "2021-06-17T12:08:39.175226Z",
     "start_time": "2021-06-17T12:08:39.158626Z"
    }
   },
   "outputs": [
    {
     "name": "stdout",
     "output_type": "stream",
     "text": [
      "Before reset index: \n",
      "      Name  Age  Marks\n",
      "s1    Joe   20  85.10\n",
      "s2    Nat   21  77.80\n",
      "s3  Harry   19  91.54\n",
      "\n",
      "After reset index: \n",
      "       Name  Age  Marks\n",
      "101    Joe   20  85.10\n",
      "102    Nat   21  77.80\n",
      "103  Harry   19  91.54\n"
     ]
    }
   ],
   "source": [
    "import pandas as pd\n",
    "\n",
    "student_dict = {'Name':['Joe','Nat','Harry'], 'Age':[20,21,19], 'Marks':[85.10, 77.80, 91.54]}\n",
    "\n",
    "# create DataFrame from dict\n",
    "student_df = pd.DataFrame(student_dict, index=['s1','s2','s3'])\n",
    "print(\"Before reset index: \\n\", student_df)\n",
    "\n",
    "# assign new index from 1 to n\n",
    "student_df.index = pd.RangeIndex(start=101, stop=101+len(student_df), step=1)\n",
    "\n",
    "print(\"\\nAfter reset index: \\n\", student_df)"
   ]
  },
  {
   "cell_type": "markdown",
   "metadata": {},
   "source": [
    "## Reset index and change column name\n",
    "\n",
    "As we have already discussed, **`DataFrame.reset_index()`** adds the current index as a new column with the name **index** in the DataFrame. If we want to give a name to such a newly added column, then we need to use **`DataFrame.rename()`** function with **`DataFrame.reset_index()`**.\n",
    "\n",
    "**Example:**\n",
    "\n",
    "Let’s see how to do the method chaining of **`DataFrame.reset_index()`** and **`DataFrame.rename()`** functions to rename a new **index** column to **ID**."
   ]
  },
  {
   "cell_type": "code",
   "execution_count": 7,
   "metadata": {
    "ExecuteTime": {
     "end_time": "2021-06-17T12:08:39.890059Z",
     "start_time": "2021-06-17T12:08:39.862718Z"
    }
   },
   "outputs": [
    {
     "name": "stdout",
     "output_type": "stream",
     "text": [
      "Before reset index: \n",
      "      Name  Age  Marks\n",
      "s1    Joe   20  85.10\n",
      "s2    Nat   21  77.80\n",
      "s3  Harry   19  91.54\n",
      "\n",
      "After reset index: \n",
      "    ID   Name  Age  Marks\n",
      "0  s1    Joe   20  85.10\n",
      "1  s2    Nat   21  77.80\n",
      "2  s3  Harry   19  91.54\n"
     ]
    }
   ],
   "source": [
    "import pandas as pd\n",
    "\n",
    "student_dict = {'Name': ['Joe', 'Nat', 'Harry'], 'Age': [20, 21, 19], 'Marks': [85.10, 77.80, 91.54]}\n",
    "\n",
    "# create DataFrame from dict\n",
    "student_df = pd.DataFrame(student_dict, index=['s1', 's2', 's3'])\n",
    "print(\"Before reset index: \\n\", student_df)\n",
    "\n",
    "# reset index and rename\n",
    "student_df = student_df.reset_index().rename(columns={'index': 'ID'})\n",
    "print(\"\\nAfter reset index: \\n\", student_df)"
   ]
  },
  {
   "cell_type": "markdown",
   "metadata": {},
   "source": [
    "## Reset multi-level index\n",
    "\n",
    "When Python pandas DataFrame has multiple row index or column headers, then are called **multi-level** or **hierarchical** DataFrame. We can apply **`DataFrame.reset index()`** on such multi-index DataFrame.\n",
    "\n",
    "The below diagram shows hierarchical DataFrame of Student data with two-column headers where column labels **`Name`** and **`Marks`** are at level 0 and **`Surname`** and **`Percentage`** at level 1. Similarly, two-row indexes where index **`Standard`** at level 0 and **`Class`** at level 1 of the DataFrame.\n",
    "\n",
    "<div>\n",
    "<img src=\"img/midf.png\" width=\"600\"/>\n",
    "</div>\n",
    "\n",
    "**Example:**\n",
    "\n",
    "The below example show how to create such DataFrame."
   ]
  },
  {
   "cell_type": "code",
   "execution_count": 8,
   "metadata": {
    "ExecuteTime": {
     "end_time": "2021-06-17T12:08:40.561440Z",
     "start_time": "2021-06-17T12:08:40.541911Z"
    },
    "scrolled": false
   },
   "outputs": [
    {
     "name": "stdout",
     "output_type": "stream",
     "text": [
      "\n",
      "After reset index: \n",
      "                       Name      Marks\n",
      "                   Surname Percentage\n",
      "Standard   Class                     \n",
      "Standard 1 Class A     Joe      91.56\n",
      "           Class B     Nat      87.90\n",
      "Standard 2 Class A   Harry      70.10\n",
      "           Class B     Sam      65.48\n"
     ]
    }
   ],
   "source": [
    "import pandas as pd\n",
    "\n",
    "index = pd.MultiIndex.from_tuples([('Standard 1', 'Class A'),\n",
    "                                   ('Standard 1', 'Class B'),\n",
    "                                   ('Standard 2', 'Class A'),\n",
    "                                   ('Standard 2', 'Class B')],\n",
    "                                  names=['Standard', 'Class'])\n",
    "columns = pd.MultiIndex.from_tuples([('Name', 'Surname'),\n",
    "                                     ('Marks', 'Percentage')])\n",
    "\n",
    "# create multi-index dataframe\n",
    "student_df = pd.DataFrame([('Joe', 91.56),\n",
    "                           ('Nat', 87.90),\n",
    "                           ('Harry', 70.10),\n",
    "                           ('Sam', 65.48)],\n",
    "                          index=index, columns=columns)\n",
    "print(\"\\nAfter reset index: \\n\", student_df)"
   ]
  },
  {
   "cell_type": "markdown",
   "metadata": {},
   "source": [
    "Now we see how to reset the index of the multi-level DataFrame using **`DataFrame.reset index()`**. By default, it reset the index of all the levels and add the new range of indexes in the DataFrame."
   ]
  },
  {
   "cell_type": "code",
   "execution_count": 9,
   "metadata": {
    "ExecuteTime": {
     "end_time": "2021-06-17T12:08:42.041400Z",
     "start_time": "2021-06-17T12:08:42.014062Z"
    }
   },
   "outputs": [
    {
     "name": "stdout",
     "output_type": "stream",
     "text": [
      "     Standard    Class    Name      Marks\n",
      "                       Surname Percentage\n",
      "0  Standard 1  Class A     Joe      91.56\n",
      "1  Standard 1  Class B     Nat      87.90\n",
      "2  Standard 2  Class A   Harry      70.10\n",
      "3  Standard 2  Class B     Sam      65.48\n"
     ]
    }
   ],
   "source": [
    "# reset multi-level index\n",
    "student_df = student_df.reset_index()\n",
    "print(student_df)"
   ]
  },
  {
   "cell_type": "markdown",
   "metadata": {},
   "source": [
    "###  Reset index by level\n",
    "\n",
    "As we have seen, in the case of a multi-level index, by default **`DataFrame.reset_index()`** applies to the index of all the levels. If we want to reset the index of the specific level only then, we can use the **`level`** parameter of the **`DataFrame.reset_index()`** function.\n",
    "\n",
    "It takes a **level position** or **level name** as input to reset that particular index only.\n",
    "\n",
    "**Example:**\n",
    "\n",
    "In the below example, we reset the index of the **`'Standard'`** level only."
   ]
  },
  {
   "cell_type": "code",
   "execution_count": 10,
   "metadata": {
    "ExecuteTime": {
     "end_time": "2021-06-17T12:08:43.536499Z",
     "start_time": "2021-06-17T12:08:43.510137Z"
    }
   },
   "outputs": [
    {
     "name": "stdout",
     "output_type": "stream",
     "text": [
      "           Standard    Name      Marks\n",
      "                    Surname Percentage\n",
      "Class                                 \n",
      "Class A  Standard 1     Joe      91.56\n",
      "Class B  Standard 1     Nat      87.90\n",
      "Class A  Standard 2   Harry      70.10\n",
      "Class B  Standard 2     Sam      65.48\n"
     ]
    }
   ],
   "source": [
    "student_df = pd.DataFrame([('Joe', 91.56),\n",
    "                           ('Nat', 87.90),\n",
    "                           ('Harry', 70.10),\n",
    "                           ('Sam', 65.48)],\n",
    "                          index=index, columns=columns)\n",
    "\n",
    "# reset multi-level index by level\n",
    "student_df = student_df.reset_index(level='Standard')\n",
    "print(student_df)"
   ]
  },
  {
   "cell_type": "markdown",
   "metadata": {},
   "source": [
    "### Reset index and creates new column in level\n",
    "\n",
    "As we have observed in the above section, by default, **`DataFrame.reset_index()`** all the new column at the first level, i.e., level 0. If we want to add the new index column to other levels, we can use the **`col_level`** parameter.\n",
    "\n",
    "It takes the level name or level position as an input if the columns have multiple levels, so it determines which level the labels are inserted into.\n",
    "\n",
    "**Example:**\n",
    "\n",
    "In the below example, it reset the index of level **`Standard`** only and add it as a new column at level 1."
   ]
  },
  {
   "cell_type": "code",
   "execution_count": 11,
   "metadata": {
    "ExecuteTime": {
     "end_time": "2021-06-17T12:08:44.861195Z",
     "start_time": "2021-06-17T12:08:44.839221Z"
    }
   },
   "outputs": [
    {
     "name": "stdout",
     "output_type": "stream",
     "text": [
      "                       Name      Marks\n",
      "           Standard Surname Percentage\n",
      "Class                                 \n",
      "Class A  Standard 1     Joe      91.56\n",
      "Class B  Standard 1     Nat      87.90\n",
      "Class A  Standard 2   Harry      70.10\n",
      "Class B  Standard 2     Sam      65.48\n"
     ]
    }
   ],
   "source": [
    "student_df = pd.DataFrame([('Joe', 91.56),\n",
    "                           ('Nat', 87.90),\n",
    "                           ('Harry', 70.10),\n",
    "                           ('Sam', 65.48)],\n",
    "                          index=index, columns=columns)\n",
    "\n",
    "# reset multi-level index and add at level 1\n",
    "student_df = student_df.reset_index(level='Standard', col_level=1)\n",
    "print(student_df)"
   ]
  },
  {
   "cell_type": "markdown",
   "metadata": {},
   "source": [
    "### Reset index and name other level\n",
    "\n",
    "As we see in the above section, in multi-level DataFrame, we have added the **`Standard`** index at level 1. If there is a case when we need to rename the other level, we need to use the **`col_fill`** parameter of DataFrame.\n",
    "\n",
    "We can specify any existing column label under which the new column will be assigned. If we specify the new label, then it will create one.\n",
    "\n",
    "**Example:**\n",
    "\n",
    "In the below example, we create a new column from the index **`Standard`** at level 1 and assign a new column label **`New_Header`** at level 0 of this new column."
   ]
  },
  {
   "cell_type": "code",
   "execution_count": 12,
   "metadata": {
    "ExecuteTime": {
     "end_time": "2021-06-17T12:08:46.574064Z",
     "start_time": "2021-06-17T12:08:46.550629Z"
    }
   },
   "outputs": [
    {
     "name": "stdout",
     "output_type": "stream",
     "text": [
      "         New_Header    Name      Marks\n",
      "           Standard Surname Percentage\n",
      "Class                                 \n",
      "Class A  Standard 1     Joe      91.56\n",
      "Class B  Standard 1     Nat      87.90\n",
      "Class A  Standard 2   Harry      70.10\n",
      "Class B  Standard 2     Sam      65.48\n"
     ]
    }
   ],
   "source": [
    "student_df = pd.DataFrame([('Joe', 91.56),\n",
    "                           ('Nat', 87.90),\n",
    "                           ('Harry', 70.10),\n",
    "                           ('Sam', 65.48)],\n",
    "                          index=index, columns=columns)\n",
    "\n",
    "# reset multi-level index\n",
    "student_df = student_df.reset_index(level='Standard', col_level=1, col_fill='New_Header')\n",
    "print(student_df)"
   ]
  },
  {
   "cell_type": "code",
   "execution_count": null,
   "metadata": {},
   "outputs": [],
   "source": []
  }
 ],
 "metadata": {
  "hide_input": false,
  "kernelspec": {
   "display_name": "Python 3",
   "language": "python",
   "name": "python3"
  },
  "language_info": {
   "codemirror_mode": {
    "name": "ipython",
    "version": 3
   },
   "file_extension": ".py",
   "mimetype": "text/x-python",
   "name": "python",
   "nbconvert_exporter": "python",
   "pygments_lexer": "ipython3",
   "version": "3.8.8"
  },
  "toc": {
   "base_numbering": 1,
   "nav_menu": {},
   "number_sections": true,
   "sideBar": true,
   "skip_h1_title": false,
   "title_cell": "Table of Contents",
   "title_sidebar": "Contents",
   "toc_cell": false,
   "toc_position": {},
   "toc_section_display": true,
   "toc_window_display": false
  },
  "varInspector": {
   "cols": {
    "lenName": 16,
    "lenType": 16,
    "lenVar": 40
   },
   "kernels_config": {
    "python": {
     "delete_cmd_postfix": "",
     "delete_cmd_prefix": "del ",
     "library": "var_list.py",
     "varRefreshCmd": "print(var_dic_list())"
    },
    "r": {
     "delete_cmd_postfix": ") ",
     "delete_cmd_prefix": "rm(",
     "library": "var_list.r",
     "varRefreshCmd": "cat(var_dic_list()) "
    }
   },
   "types_to_exclude": [
    "module",
    "function",
    "builtin_function_or_method",
    "instance",
    "_Feature"
   ],
   "window_display": false
  }
 },
 "nbformat": 4,
 "nbformat_minor": 2
}
