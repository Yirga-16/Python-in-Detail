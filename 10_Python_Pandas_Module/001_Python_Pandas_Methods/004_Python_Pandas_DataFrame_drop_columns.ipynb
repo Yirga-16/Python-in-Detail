{
 "cells": [
  {
   "cell_type": "markdown",
   "metadata": {},
   "source": [
    "<small><small><i>\n",
    "All the IPython Notebooks in this lecture series by Dr. Milan Parmar are available @ **[GitHub](https://github.com/milaan9/10_Python_Pandas_Module/tree/main/001_Python_Pandas_Methods)**\n",
    "</i></small></small>"
   ]
  },
  {
   "cell_type": "markdown",
   "metadata": {},
   "source": [
    "# Drop columns in pandas DataFrame\n",
    "\n",
    "Datasets could be in any shape and form. To optimize the data analysis, we need to remove some data that is redundant or not required. This article aims to discuss all the cases of dropping single or multiple columns from a **[Pandas DataFrame](https://github.com/milaan9/10_Python_Pandas_Module/blob/main/001_Python_Pandas_DataFrame.ipynb)**.\n",
    "\n",
    "The following functions are discussed in this article in detail:\n",
    "\n",
    "* **`df.drop(columns = ['col1','col2'...])`**\n",
    "* **`df.pop('col_name')`**\n",
    "* **`del df['col_name']`**\n",
    "\n",
    "In the last section, we have shown the comparison of these functions. So stay tuned…"
   ]
  },
  {
   "cell_type": "markdown",
   "metadata": {},
   "source": [
    "Also, See:\n",
    "\n",
    "* **[Drop duplicates in pandas DataFrame](https://github.com/milaan9/10_Python_Pandas_Module/blob/main/001_Python_Pandas_Methods/005_Python_Pandas_DataFrame_drop_duplicates.ipynb)**\n",
    "* **[Drop columns with NA in pandas DataFrame](https://github.com/milaan9/10_Python_Pandas_Module/blob/main/001_Python_Pandas_Methods/006_Python_Pandas_DataFrame_drop_columns_with_NA.ipynb)**"
   ]
  },
  {
   "cell_type": "markdown",
   "metadata": {},
   "source": [
    "## The `DataFrame.drop()` function\n",
    "\n",
    "We can use this pandas function to remove the columns or rows from simple as well as multi-index DataFrame.\n",
    "\n",
    "**Syntax:**\n",
    "```python\n",
    "DataFrame.drop(labels=None, axis=1, columns=None, level=None, inplace=False, errors='raise')\n",
    "```\n",
    "\n",
    "**Parameters:**\n",
    "\n",
    "1. **`labels`**: It takes a list of column labels to drop.\n",
    "2. **`axis`**: It specifies to drop columns or rows. Set a **`axis`** to **1** or **columns** to drop columns. By default, it drops the rows from DataFrame.\n",
    "3. **`columns`**: It is an alternative to **`axis='columns'`**. It takes a single column label or list of column labels as input.\n",
    "4. **`level`**: It is used in the case of a MultiIndex DataFrame to specify the level from which the labels should be removed. It takes a level position or level name as input.\n",
    "5. **`inplace`**: It is used to specify whether to return a new DataFrame or update an existing one. It is a boolean flag with default **`False`**.\n",
    "6. **`errors`**: It is used to suppress **`KeyError`** error if a column is not present. It takes the following 1. inputs:\n",
    "    * **`ignore`**: It suppresses the error and drops only existing labels.\n",
    "    * **`raise`**: Throws the errors if the column does not exist. It is the default case.\n",
    "\n",
    "**Returns:**\n",
    "\n",
    "* It returns the DataFrame with dropped columns or None if **`inplace=True`**\n",
    "* It also raises **`KeyError`** if labels are not found."
   ]
  },
  {
   "cell_type": "markdown",
   "metadata": {},
   "source": [
    "## Drop single column\n",
    "\n",
    "We may need to delete a single or specific column from a DataFrame.\n",
    "\n",
    "In the below example we drop the **`age`** column from the DataFrame using **`df.drop(columns = 'col_name')`**\n",
    "\n",
    "<div>\n",
    "<img src=\"img/dropscol.png\" width=\"200\"/>\n",
    "</div>"
   ]
  },
  {
   "cell_type": "code",
   "execution_count": 1,
   "metadata": {
    "ExecuteTime": {
     "end_time": "2021-06-17T11:52:08.593206Z",
     "start_time": "2021-06-17T11:52:08.000442Z"
    }
   },
   "outputs": [
    {
     "name": "stdout",
     "output_type": "stream",
     "text": [
      "  name  age  marks\n",
      "0  Joe   20   85.1\n",
      "1  Nat   21   77.8\n",
      "  name  marks\n",
      "0  Joe   85.1\n",
      "1  Nat   77.8\n"
     ]
    }
   ],
   "source": [
    "import pandas as pd\n",
    "\n",
    "student_dict = {\"name\": [\"Joe\", \"Nat\"], \"age\": [20, 21], \"marks\": [85.10, 77.80]}\n",
    "\n",
    "# Create DataFrame from dict\n",
    "student_df = pd.DataFrame(student_dict)\n",
    "print(student_df)\n",
    "\n",
    "# drop column\n",
    "student_df = student_df.drop(columns='age')\n",
    "\n",
    "print(student_df)"
   ]
  },
  {
   "cell_type": "markdown",
   "metadata": {},
   "source": [
    "## Drop multiple columns\n",
    "\n",
    "Use any of the following two parameters of **`DataFrame.drop()`** to delete multiple columns of DataFrame at once.\n",
    "\n",
    "* Use the **`column`** parameter and pass the list of column names you want to remove.\n",
    "* Set the **`axis=1`** and pass the list of column names.\n",
    "\n",
    "**Example:**\n",
    "\n",
    "Let’s see how to drop multiple columns from the DataFrame."
   ]
  },
  {
   "cell_type": "code",
   "execution_count": 2,
   "metadata": {
    "ExecuteTime": {
     "end_time": "2021-06-17T11:52:09.932544Z",
     "start_time": "2021-06-17T11:52:09.910089Z"
    }
   },
   "outputs": [
    {
     "name": "stdout",
     "output_type": "stream",
     "text": [
      "['name' 'age' 'marks']\n",
      "['name']\n"
     ]
    }
   ],
   "source": [
    "import pandas as pd\n",
    "\n",
    "student_dict = {\"name\": [\"Joe\", \"Nat\"], \"age\": [20, 21], \"marks\": [85.10, 77.80]}\n",
    "\n",
    "student_df = pd.DataFrame(student_dict)\n",
    "print(student_df.columns.values)\n",
    "\n",
    "# drop 2 columns at a time\n",
    "student_df = student_df.drop(columns=['age', 'marks'])\n",
    "\n",
    "print(student_df.columns.values)"
   ]
  },
  {
   "cell_type": "markdown",
   "metadata": {},
   "source": [
    "### Using drop with `axis='columns'` or `axis=1`\n",
    "\n",
    "Let’s see how to drop using the axis-style convention. This is a new approach. (This approach makes this method match the rest of the pandas API) .\n",
    "\n",
    "Use the axis parameter of a **`DataFrame.drop()`** to delete columns. The axis can be a row or column. The column axis represented as 1 or ‘columns’.\n",
    "\n",
    "Set **`axis=1`** or **`axis='columns'`** and pass the list of column names you want to remove..\n",
    "\n",
    "**Example**\n",
    "\n",
    "Let’s see how to drop **`age`** and **`marks`** columns."
   ]
  },
  {
   "cell_type": "code",
   "execution_count": 3,
   "metadata": {
    "ExecuteTime": {
     "end_time": "2021-06-17T11:52:11.255774Z",
     "start_time": "2021-06-17T11:52:11.231362Z"
    }
   },
   "outputs": [
    {
     "name": "stdout",
     "output_type": "stream",
     "text": [
      "Original dataframe:\n",
      "   name  age  marks\n",
      "0  Joe   20   85.1\n",
      "1  Nat   21   77.8\n",
      "After droping columns in dataframe:\n",
      "   name\n",
      "0  Joe\n",
      "1  Nat\n"
     ]
    }
   ],
   "source": [
    "import pandas as pd\n",
    "\n",
    "student_dict = {\"name\": [\"Joe\", \"Nat\"], \"age\": [20, 21], \"marks\": [85.10, 77.80]}\n",
    "\n",
    "# Create DataFrame from dict\n",
    "student_df = pd.DataFrame(student_dict)\n",
    "print(\"Original dataframe:\\n\",student_df)\n",
    "\n",
    "student_df = student_df.drop(['age', 'marks'], axis='columns')\n",
    "print(\"After droping columns in dataframe:\\n\", student_df)\n",
    "\n",
    "# alternative both produces same result\n",
    "#student_df = student_df.drop(['age', 'marks'], axis=1)\n",
    "#print(\"After droping columns in dataframe:\\n\", student_df)"
   ]
  },
  {
   "cell_type": "markdown",
   "metadata": {},
   "source": [
    "## Drop column in place\n",
    "\n",
    "In the above examples, whenever we executed drop operations, pandas created a new copy of DataFrame because the modification is not in place.\n",
    "\n",
    "Parameter **`inplace`** is used to indicate if drop column from the existing DataFrame or create a copy of it.\n",
    "\n",
    "* If the **`inplace=True`** then it updates the existing DataFrame and does not return anything.\n",
    "* If the **`inplace=False`** then it creates a new DataFrame with updated changes and returns it.\n",
    "\n",
    ">**Note:** Set **`inplace=True`** when we are doing function chaining to avoid assigning the result back to a variable as we are performing modifications in place."
   ]
  },
  {
   "cell_type": "code",
   "execution_count": 4,
   "metadata": {
    "ExecuteTime": {
     "end_time": "2021-06-17T11:52:13.357312Z",
     "start_time": "2021-06-17T11:52:13.343639Z"
    }
   },
   "outputs": [
    {
     "name": "stdout",
     "output_type": "stream",
     "text": [
      "['name' 'age' 'marks']\n",
      "['name']\n"
     ]
    }
   ],
   "source": [
    "import pandas as pd\n",
    "\n",
    "student_dict = {\"name\": [\"Joe\", \"Nat\"], \"age\": [20, 21], \"marks\": [85.10, 77.80]}\n",
    "\n",
    "student_df = pd.DataFrame(student_dict)\n",
    "print(student_df.columns.values)\n",
    "\n",
    "# drop columns in place\n",
    "student_df.drop(columns=['age', 'marks'], inplace=True)\n",
    "\n",
    "print(student_df.columns.values)"
   ]
  },
  {
   "cell_type": "markdown",
   "metadata": {},
   "source": [
    "## Drop column by suppressing errors\n",
    "\n",
    "By default, The **`DataFrame.drop()`**  throws **`KeyError`** if the column you are trying to delete does not exist in the dataset.\n",
    "\n",
    "If we want to drop the column only if exists then we can suppress the error by using the parameter **`errors`**.\n",
    "\n",
    "* Set **`errors='ignore'`** to not throw any errors.\n",
    "* Set **`errors='raised'`** to throw **`KeyError`** for the unknown columns\n",
    "\n",
    "**Example:**\n",
    "\n",
    "In the below example, we are trying to drop the column which does not exist in the DataFrame."
   ]
  },
  {
   "cell_type": "code",
   "execution_count": 5,
   "metadata": {
    "ExecuteTime": {
     "end_time": "2021-06-17T11:52:16.067237Z",
     "start_time": "2021-06-17T11:52:15.506699Z"
    }
   },
   "outputs": [
    {
     "name": "stdout",
     "output_type": "stream",
     "text": [
      "  name  age  marks\n",
      "0  Joe   20   85.1\n",
      "1  Nat   21   77.8\n"
     ]
    },
    {
     "ename": "KeyError",
     "evalue": "\"['salary'] not found in axis\"",
     "output_type": "error",
     "traceback": [
      "\u001b[1;31m---------------------------------------------------------------------------\u001b[0m",
      "\u001b[1;31mKeyError\u001b[0m                                  Traceback (most recent call last)",
      "\u001b[1;32m<ipython-input-5-245426098662>\u001b[0m in \u001b[0;36m<module>\u001b[1;34m\u001b[0m\n\u001b[0;32m     11\u001b[0m \u001b[1;33m\u001b[0m\u001b[0m\n\u001b[0;32m     12\u001b[0m \u001b[1;31m# raise error\u001b[0m\u001b[1;33m\u001b[0m\u001b[1;33m\u001b[0m\u001b[1;33m\u001b[0m\u001b[0m\n\u001b[1;32m---> 13\u001b[1;33m \u001b[0mstudent_df\u001b[0m \u001b[1;33m=\u001b[0m \u001b[0mstudent_df\u001b[0m\u001b[1;33m.\u001b[0m\u001b[0mdrop\u001b[0m\u001b[1;33m(\u001b[0m\u001b[0mcolumns\u001b[0m\u001b[1;33m=\u001b[0m\u001b[1;34m'salary'\u001b[0m\u001b[1;33m)\u001b[0m  \u001b[1;31m# KeyError: \"['salary'] not found in axis\"\u001b[0m\u001b[1;33m\u001b[0m\u001b[1;33m\u001b[0m\u001b[0m\n\u001b[0m",
      "\u001b[1;32mC:\\ProgramData\\Anaconda3\\lib\\site-packages\\pandas\\core\\frame.py\u001b[0m in \u001b[0;36mdrop\u001b[1;34m(self, labels, axis, index, columns, level, inplace, errors)\u001b[0m\n\u001b[0;32m   4306\u001b[0m                 \u001b[0mweight\u001b[0m  \u001b[1;36m1.0\u001b[0m     \u001b[1;36m0.8\u001b[0m\u001b[1;33m\u001b[0m\u001b[1;33m\u001b[0m\u001b[0m\n\u001b[0;32m   4307\u001b[0m         \"\"\"\n\u001b[1;32m-> 4308\u001b[1;33m         return super().drop(\n\u001b[0m\u001b[0;32m   4309\u001b[0m             \u001b[0mlabels\u001b[0m\u001b[1;33m=\u001b[0m\u001b[0mlabels\u001b[0m\u001b[1;33m,\u001b[0m\u001b[1;33m\u001b[0m\u001b[1;33m\u001b[0m\u001b[0m\n\u001b[0;32m   4310\u001b[0m             \u001b[0maxis\u001b[0m\u001b[1;33m=\u001b[0m\u001b[0maxis\u001b[0m\u001b[1;33m,\u001b[0m\u001b[1;33m\u001b[0m\u001b[1;33m\u001b[0m\u001b[0m\n",
      "\u001b[1;32mC:\\ProgramData\\Anaconda3\\lib\\site-packages\\pandas\\core\\generic.py\u001b[0m in \u001b[0;36mdrop\u001b[1;34m(self, labels, axis, index, columns, level, inplace, errors)\u001b[0m\n\u001b[0;32m   4151\u001b[0m         \u001b[1;32mfor\u001b[0m \u001b[0maxis\u001b[0m\u001b[1;33m,\u001b[0m \u001b[0mlabels\u001b[0m \u001b[1;32min\u001b[0m \u001b[0maxes\u001b[0m\u001b[1;33m.\u001b[0m\u001b[0mitems\u001b[0m\u001b[1;33m(\u001b[0m\u001b[1;33m)\u001b[0m\u001b[1;33m:\u001b[0m\u001b[1;33m\u001b[0m\u001b[1;33m\u001b[0m\u001b[0m\n\u001b[0;32m   4152\u001b[0m             \u001b[1;32mif\u001b[0m \u001b[0mlabels\u001b[0m \u001b[1;32mis\u001b[0m \u001b[1;32mnot\u001b[0m \u001b[1;32mNone\u001b[0m\u001b[1;33m:\u001b[0m\u001b[1;33m\u001b[0m\u001b[1;33m\u001b[0m\u001b[0m\n\u001b[1;32m-> 4153\u001b[1;33m                 \u001b[0mobj\u001b[0m \u001b[1;33m=\u001b[0m \u001b[0mobj\u001b[0m\u001b[1;33m.\u001b[0m\u001b[0m_drop_axis\u001b[0m\u001b[1;33m(\u001b[0m\u001b[0mlabels\u001b[0m\u001b[1;33m,\u001b[0m \u001b[0maxis\u001b[0m\u001b[1;33m,\u001b[0m \u001b[0mlevel\u001b[0m\u001b[1;33m=\u001b[0m\u001b[0mlevel\u001b[0m\u001b[1;33m,\u001b[0m \u001b[0merrors\u001b[0m\u001b[1;33m=\u001b[0m\u001b[0merrors\u001b[0m\u001b[1;33m)\u001b[0m\u001b[1;33m\u001b[0m\u001b[1;33m\u001b[0m\u001b[0m\n\u001b[0m\u001b[0;32m   4154\u001b[0m \u001b[1;33m\u001b[0m\u001b[0m\n\u001b[0;32m   4155\u001b[0m         \u001b[1;32mif\u001b[0m \u001b[0minplace\u001b[0m\u001b[1;33m:\u001b[0m\u001b[1;33m\u001b[0m\u001b[1;33m\u001b[0m\u001b[0m\n",
      "\u001b[1;32mC:\\ProgramData\\Anaconda3\\lib\\site-packages\\pandas\\core\\generic.py\u001b[0m in \u001b[0;36m_drop_axis\u001b[1;34m(self, labels, axis, level, errors)\u001b[0m\n\u001b[0;32m   4186\u001b[0m                 \u001b[0mnew_axis\u001b[0m \u001b[1;33m=\u001b[0m \u001b[0maxis\u001b[0m\u001b[1;33m.\u001b[0m\u001b[0mdrop\u001b[0m\u001b[1;33m(\u001b[0m\u001b[0mlabels\u001b[0m\u001b[1;33m,\u001b[0m \u001b[0mlevel\u001b[0m\u001b[1;33m=\u001b[0m\u001b[0mlevel\u001b[0m\u001b[1;33m,\u001b[0m \u001b[0merrors\u001b[0m\u001b[1;33m=\u001b[0m\u001b[0merrors\u001b[0m\u001b[1;33m)\u001b[0m\u001b[1;33m\u001b[0m\u001b[1;33m\u001b[0m\u001b[0m\n\u001b[0;32m   4187\u001b[0m             \u001b[1;32melse\u001b[0m\u001b[1;33m:\u001b[0m\u001b[1;33m\u001b[0m\u001b[1;33m\u001b[0m\u001b[0m\n\u001b[1;32m-> 4188\u001b[1;33m                 \u001b[0mnew_axis\u001b[0m \u001b[1;33m=\u001b[0m \u001b[0maxis\u001b[0m\u001b[1;33m.\u001b[0m\u001b[0mdrop\u001b[0m\u001b[1;33m(\u001b[0m\u001b[0mlabels\u001b[0m\u001b[1;33m,\u001b[0m \u001b[0merrors\u001b[0m\u001b[1;33m=\u001b[0m\u001b[0merrors\u001b[0m\u001b[1;33m)\u001b[0m\u001b[1;33m\u001b[0m\u001b[1;33m\u001b[0m\u001b[0m\n\u001b[0m\u001b[0;32m   4189\u001b[0m             \u001b[0mresult\u001b[0m \u001b[1;33m=\u001b[0m \u001b[0mself\u001b[0m\u001b[1;33m.\u001b[0m\u001b[0mreindex\u001b[0m\u001b[1;33m(\u001b[0m\u001b[1;33m**\u001b[0m\u001b[1;33m{\u001b[0m\u001b[0maxis_name\u001b[0m\u001b[1;33m:\u001b[0m \u001b[0mnew_axis\u001b[0m\u001b[1;33m}\u001b[0m\u001b[1;33m)\u001b[0m\u001b[1;33m\u001b[0m\u001b[1;33m\u001b[0m\u001b[0m\n\u001b[0;32m   4190\u001b[0m \u001b[1;33m\u001b[0m\u001b[0m\n",
      "\u001b[1;32mC:\\ProgramData\\Anaconda3\\lib\\site-packages\\pandas\\core\\indexes\\base.py\u001b[0m in \u001b[0;36mdrop\u001b[1;34m(self, labels, errors)\u001b[0m\n\u001b[0;32m   5589\u001b[0m         \u001b[1;32mif\u001b[0m \u001b[0mmask\u001b[0m\u001b[1;33m.\u001b[0m\u001b[0many\u001b[0m\u001b[1;33m(\u001b[0m\u001b[1;33m)\u001b[0m\u001b[1;33m:\u001b[0m\u001b[1;33m\u001b[0m\u001b[1;33m\u001b[0m\u001b[0m\n\u001b[0;32m   5590\u001b[0m             \u001b[1;32mif\u001b[0m \u001b[0merrors\u001b[0m \u001b[1;33m!=\u001b[0m \u001b[1;34m\"ignore\"\u001b[0m\u001b[1;33m:\u001b[0m\u001b[1;33m\u001b[0m\u001b[1;33m\u001b[0m\u001b[0m\n\u001b[1;32m-> 5591\u001b[1;33m                 \u001b[1;32mraise\u001b[0m \u001b[0mKeyError\u001b[0m\u001b[1;33m(\u001b[0m\u001b[1;34mf\"{labels[mask]} not found in axis\"\u001b[0m\u001b[1;33m)\u001b[0m\u001b[1;33m\u001b[0m\u001b[1;33m\u001b[0m\u001b[0m\n\u001b[0m\u001b[0;32m   5592\u001b[0m             \u001b[0mindexer\u001b[0m \u001b[1;33m=\u001b[0m \u001b[0mindexer\u001b[0m\u001b[1;33m[\u001b[0m\u001b[1;33m~\u001b[0m\u001b[0mmask\u001b[0m\u001b[1;33m]\u001b[0m\u001b[1;33m\u001b[0m\u001b[1;33m\u001b[0m\u001b[0m\n\u001b[0;32m   5593\u001b[0m         \u001b[1;32mreturn\u001b[0m \u001b[0mself\u001b[0m\u001b[1;33m.\u001b[0m\u001b[0mdelete\u001b[0m\u001b[1;33m(\u001b[0m\u001b[0mindexer\u001b[0m\u001b[1;33m)\u001b[0m\u001b[1;33m\u001b[0m\u001b[1;33m\u001b[0m\u001b[0m\n",
      "\u001b[1;31mKeyError\u001b[0m: \"['salary'] not found in axis\""
     ]
    }
   ],
   "source": [
    "import pandas as pd\n",
    "\n",
    "student_dict = {\"name\": [\"Joe\", \"Nat\"], \"age\": [20, 21], \"marks\": [85.10, 77.80]}\n",
    "\n",
    "# Create DataFrame from dict\n",
    "student_df = pd.DataFrame(student_dict)\n",
    "print(student_df)\n",
    "\n",
    "# supress error\n",
    "student_df = student_df.drop(columns='salary', errors='ignore')  # No change in the student_df\n",
    "\n",
    "# raise error\n",
    "student_df = student_df.drop(columns='salary')  # KeyError: \"['salary'] not found in axis\""
   ]
  },
  {
   "cell_type": "markdown",
   "metadata": {},
   "source": [
    "## Drop column by index position\n",
    "\n",
    "If there is a case where we want to drop columns in the DataFrame, but we do not know the name of the columns still we can delete the column using its index position.\n",
    "\n",
    ">**Note:** Column index starts from 0 (zero) and it goes till the last column whose index value will be **`len(df.columns)-1`**."
   ]
  },
  {
   "cell_type": "markdown",
   "metadata": {},
   "source": [
    "### Drop the last column\n",
    "\n",
    "Assume you want to drop the first column or the last column of the DataFrame without using the column name.\n",
    "\n",
    "In such cases, use the DataFrame.columns attribute to delete a column of the DataFrame based on its index position. Simply pass **`df.columns[index]`** to the columns parameter of the **`DataFrame.drop()`**.\n",
    "\n",
    "**Example**\n",
    "\n",
    "In the below example, we are dropping the last column of the DataFrame using **`df.columns[last_index]`**."
   ]
  },
  {
   "cell_type": "code",
   "execution_count": 6,
   "metadata": {
    "ExecuteTime": {
     "end_time": "2021-06-17T11:52:28.797559Z",
     "start_time": "2021-06-17T11:52:28.782908Z"
    }
   },
   "outputs": [
    {
     "name": "stdout",
     "output_type": "stream",
     "text": [
      "['name' 'age' 'marks']\n",
      "['name' 'age']\n"
     ]
    }
   ],
   "source": [
    "import pandas as pd\n",
    "\n",
    "student_dict = {\"name\": [\"Joe\", \"Nat\"], \"age\": [20, 21], \"marks\": [85.10, 77.80]}\n",
    "\n",
    "# Create DataFrame from dict\n",
    "student_df = pd.DataFrame(student_dict)\n",
    "print(student_df.columns.values)\n",
    "\n",
    "# find position of the last column and drop\n",
    "pos = len(student_df.columns) - 1\n",
    "student_df = student_df.drop(columns=student_df.columns[pos])\n",
    "print(student_df.columns.values)\n",
    "\n",
    "# delete column present at index 1\n",
    "# student_df.drop(columns = student_df.columns[1])"
   ]
  },
  {
   "cell_type": "markdown",
   "metadata": {},
   "source": [
    "### Drop range of columns using `iloc`\n",
    "\n",
    "There could be a case when we need to delete the fourth column from the dataset or need to delete a range of columns. We can use **`DataFrame.iloc`** to select single or multiple columns from the DataFrame.\n",
    "\n",
    "We can use **`DataFrame.iloc`** in the **`columns`** parameter to specify the index position of the columns which need to drop.\n",
    "\n",
    "**Example:**\n",
    "\n",
    "Let’s see how we can drop the range of the columns based on the index position. In the below example, we are dropping columns from index position 1 to 3 (exclusive)."
   ]
  },
  {
   "cell_type": "code",
   "execution_count": 7,
   "metadata": {
    "ExecuteTime": {
     "end_time": "2021-06-17T11:52:33.522595Z",
     "start_time": "2021-06-17T11:52:33.503066Z"
    }
   },
   "outputs": [
    {
     "name": "stdout",
     "output_type": "stream",
     "text": [
      "['name' 'age' 'marks']\n",
      "['name']\n"
     ]
    }
   ],
   "source": [
    "import pandas as pd\n",
    "\n",
    "student_dict = {\"name\": [\"Joe\", \"Nat\"], \"age\": [20, 21], \"marks\": [85.10, 77.80]}\n",
    "\n",
    "# Create DataFrame from dict\n",
    "student_df = pd.DataFrame(student_dict)\n",
    "print(student_df.columns.values)\n",
    "\n",
    "# drop column from 1 to 3\n",
    "student_df = student_df.drop(columns=student_df.iloc[:, 1:3])\n",
    "\n",
    "print(student_df.columns.values)"
   ]
  },
  {
   "cell_type": "markdown",
   "metadata": {},
   "source": [
    "### Drop first n columns\n",
    "\n",
    "If we need to delete the first ‘n’ columns from a DataFrame, we can use **`DataFrame.iloc`** and the **[Python range()](https://github.com/milaan9/04_Python_Functions/blob/main/002_Python_Functions_Built_in/053_Python_range().ipynb)** function to specify the columns’ range to be deleted.\n",
    "\n",
    "We need to use the built-in function **`range()`** with **`columns`** parameter of **`DataFrame.drop()`**.\n",
    "\n",
    "**Example:**\n",
    "\n",
    "In the below example, we are dropping the first two columns from a DataFrame."
   ]
  },
  {
   "cell_type": "code",
   "execution_count": 8,
   "metadata": {
    "ExecuteTime": {
     "end_time": "2021-06-17T11:52:40.550344Z",
     "start_time": "2021-06-17T11:52:40.534719Z"
    }
   },
   "outputs": [
    {
     "name": "stdout",
     "output_type": "stream",
     "text": [
      "Before dropping: \n",
      " ['name' 'age' 'marks' 'class' 'city']\n",
      "\n",
      "After dropping: \n",
      " ['marks' 'class' 'city']\n"
     ]
    }
   ],
   "source": [
    "import pandas as pd\n",
    "\n",
    "student_dict = {\"name\": [\"Joe\", \"Nat\"], \"age\": [20, 21], \"marks\": [85.10, 77.80], \"class\": [\"A\", \"B\"],\n",
    "                \"city\": [\"London\", \"Zurich\"]}\n",
    "\n",
    "# Create DataFrame from dict\n",
    "student_df = pd.DataFrame(student_dict)\n",
    "print(\"Before dropping: \\n\", student_df.columns.values)\n",
    "\n",
    "# drop column 1 and 2\n",
    "student_df = student_df.drop(columns=student_df.iloc[:, range(2)])\n",
    "\n",
    "# print only columns\n",
    "print(\"\\nAfter dropping: \\n\", student_df.columns.values)"
   ]
  },
  {
   "cell_type": "markdown",
   "metadata": {},
   "source": [
    "## Drop column from multi-index DataFrame\n",
    "\n",
    "DataFrame can have multiple column headers, such DataFrame is called a **multi-index** DataFrame. Such headers are divided into the levels where the first header is at level 0, the second header is at level 1, and so on.\n",
    "\n",
    "We can drop a column from any level of multi-index DataFrame. By default, it drops columns from all the levels, but we can use a parameter **`level`** to drop from a particular level only.\n",
    "\n",
    "We need to pass a level name or level index as **`level=level_index`**.\n",
    "\n",
    "Below is the multi-index DataFrame with two column headers.\n",
    "\n",
    "<div>\n",
    "<img src=\"img/dcolfmi.png\" width=\"500\"/>\n",
    "</div>\n",
    "\n",
    "**Example:**\n",
    "\n",
    "Let’s see how we can drop column **`marks`** from level 1.\n",
    "\n",
    ">**Note:** If we do not provide a **`level`** parameter then it will drop the column from all the levels if exist."
   ]
  },
  {
   "cell_type": "code",
   "execution_count": 9,
   "metadata": {
    "ExecuteTime": {
     "end_time": "2021-06-17T11:52:56.040387Z",
     "start_time": "2021-06-17T11:52:55.999377Z"
    },
    "scrolled": true
   },
   "outputs": [
    {
     "name": "stdout",
     "output_type": "stream",
     "text": [
      "Before dropping column: \n",
      "   Class A        Class B       \n",
      "     Name  Marks    Name  Marks\n",
      "0     Joe  85.10     Nat  77.80\n",
      "1   Harry  91.54     Sam  68.55\n",
      "\n",
      "After dropping column: \n",
      "   Class A Class B\n",
      "     Name    Name\n",
      "0     Joe     Nat\n",
      "1   Harry     Sam\n"
     ]
    }
   ],
   "source": [
    "import pandas as pd\n",
    "\n",
    "# create column header\n",
    "col = pd.MultiIndex.from_arrays([['Class A', 'Class A', 'Class B', 'Class B'],\n",
    "                                 ['Name', 'Marks', 'Name', 'Marks']])\n",
    "# create dataframe from 2darray\n",
    "student_df = pd.DataFrame([['Joe', '85.10', 'Nat', '77.80'], ['Harry', '91.54', 'Sam', '68.55']], columns=col)\n",
    "print(\"Before dropping column: \\n\", student_df)\n",
    "\n",
    "# drop column\n",
    "student_df = student_df.drop(columns=['Marks'], level=1)\n",
    "print(\"\\nAfter dropping column: \\n\", student_df)"
   ]
  },
  {
   "cell_type": "markdown",
   "metadata": {},
   "source": [
    "## Drop column using a function\n",
    "\n",
    "We can also use the function to delete columns by applying some logic or based on some condition. We can use built-in as well as user-defined functions to drop columns."
   ]
  },
  {
   "cell_type": "markdown",
   "metadata": {},
   "source": [
    "### Drop all the columns using `loc`\n",
    "\n",
    "If we want to drop all the columns from DataFrame we can easily do that using **`DataFrame.loc`** in the **`columns`** parameter of **`DataFrame.drop()`**.\n",
    "\n",
    "**`DataFrame.loc`** is used to specify the column labels which need to delete. If we do not specify any column labels like **`df.loc[:]`** then it will drop all the columns in the DataFrame.\n",
    "\n",
    "**Example:**\n",
    "\n",
    "In the below example, we are dropping all the columns from the student DataFrame."
   ]
  },
  {
   "cell_type": "code",
   "execution_count": 10,
   "metadata": {
    "ExecuteTime": {
     "end_time": "2021-06-17T11:53:01.039836Z",
     "start_time": "2021-06-17T11:53:01.016404Z"
    }
   },
   "outputs": [
    {
     "name": "stdout",
     "output_type": "stream",
     "text": [
      "Before dropping column: \n",
      " ['name' 'age' 'marks']\n",
      "\n",
      "After dropping column: \n",
      " []\n"
     ]
    }
   ],
   "source": [
    "import pandas as pd\n",
    "\n",
    "student_dict = {\"name\": [\"Joe\", \"Nat\"], \"age\": [20, 21], \"marks\": [85.10, 77.80]}\n",
    "\n",
    "# Create DataFrame from dict\n",
    "student_df = pd.DataFrame(student_dict)\n",
    "print(\"Before dropping column: \\n\", student_df.columns.values)\n",
    "\n",
    "# drop column 1 and 2\n",
    "student_df = student_df.drop(columns=student_df.loc[:])\n",
    "\n",
    "# print only columns\n",
    "print(\"\\nAfter dropping column: \\n\", student_df.columns.values)"
   ]
  },
  {
   "cell_type": "markdown",
   "metadata": {},
   "source": [
    "## Drop column using pandas `DataFrame.pop()` function\n",
    "\n",
    "If we want to delete a single column then we can also do that using **`DataFrame.pop(col_label)`** function. We need to pass a column label that needs to delete.\n",
    "\n",
    "It removes the column in-place by updating the existing DataFrame. It raises **`KeyError`** if the column is not found.\n",
    "\n",
    ">**Note:** It can be used to drop a column only. It cannot drop multiple columns or row(s).\n",
    "\n",
    "**Example:**\n",
    "\n",
    "Let’s see how we can drop the **`age`** column from a student DataFrame."
   ]
  },
  {
   "cell_type": "code",
   "execution_count": 11,
   "metadata": {
    "ExecuteTime": {
     "end_time": "2021-06-17T11:53:03.672616Z",
     "start_time": "2021-06-17T11:53:03.633559Z"
    }
   },
   "outputs": [
    {
     "name": "stdout",
     "output_type": "stream",
     "text": [
      "Before dropping column: \n",
      "   name  age  marks\n",
      "0  Joe   20   85.1\n",
      "1  Nat   21   77.8\n",
      "\n",
      "After dropping column: \n",
      "   name  marks\n",
      "0  Joe   85.1\n",
      "1  Nat   77.8\n"
     ]
    }
   ],
   "source": [
    "import pandas as pd\n",
    "\n",
    "student_dict = {\"name\": [\"Joe\", \"Nat\"], \"age\": [20, 21], \"marks\": [85.10, 77.80]}\n",
    "\n",
    "# Create DataFrame from dict\n",
    "student_df = pd.DataFrame(student_dict)\n",
    "print(\"Before dropping column: \\n\", student_df)\n",
    "\n",
    "# drop column\n",
    "student_df.pop('age')\n",
    "\n",
    "print(\"\\nAfter dropping column: \\n\", student_df)"
   ]
  },
  {
   "cell_type": "markdown",
   "metadata": {},
   "source": [
    "## Drop column using pandas DataFrame delete\n",
    "\n",
    "We can also use the pandas inbuilt function **`del`** to drop a single column from a DataFrame. It is a very simplified way of dropping the column from a DataFrame.\n",
    "\n",
    "We need to select the column of DataFrame which needs to be deleted and pass it as **`del df[col_label]`**.\n",
    "\n",
    ">**Note:** It can be used to drop a column only. It cannot drop multiple columns or row(s)."
   ]
  },
  {
   "cell_type": "code",
   "execution_count": 12,
   "metadata": {
    "ExecuteTime": {
     "end_time": "2021-06-17T11:53:05.742416Z",
     "start_time": "2021-06-17T11:53:05.718984Z"
    }
   },
   "outputs": [
    {
     "name": "stdout",
     "output_type": "stream",
     "text": [
      "Before dropping column: \n",
      "   name  age  marks\n",
      "0  Joe   20   85.1\n",
      "1  Nat   21   77.8\n",
      "\n",
      "After dropping column: \n",
      "   name  marks\n",
      "0  Joe   85.1\n",
      "1  Nat   77.8\n"
     ]
    }
   ],
   "source": [
    "import pandas as pd\n",
    "\n",
    "student_dict = {\"name\": [\"Joe\", \"Nat\"], \"age\": [20, 21], \"marks\": [85.10, 77.80]}\n",
    "\n",
    "# Create DataFrame from dict\n",
    "student_df = pd.DataFrame(student_dict)\n",
    "print(\"Before dropping column: \\n\", student_df)\n",
    "\n",
    "# drop column\n",
    "del student_df['age']\n",
    "\n",
    "print(\"\\nAfter dropping column: \\n\", student_df)"
   ]
  },
  {
   "cell_type": "markdown",
   "metadata": {},
   "source": [
    "## Compare DataFrame `drop()` vs. `pop()` vs. `del`\n",
    "\n",
    "| Features | **`drop()`** | **`pop()`** | **`del`** |\n",
    "|:---- |:---- |:---- | :---- |\n",
    "| **Operates on axis**               | **columns and rows** | **only column**   | **only column** |\n",
    "| **Delete multiple columns**        | **Yes**              | **No**            | **No** |\n",
    "| **Drop in-place or return a copy** | **Both**             | **Only in-place** | **Only in-place** |\n",
    "| **Performance**                    | **Fast**             | **Slow**          | **Slow** |"
   ]
  },
  {
   "cell_type": "code",
   "execution_count": null,
   "metadata": {},
   "outputs": [],
   "source": []
  }
 ],
 "metadata": {
  "hide_input": false,
  "kernelspec": {
   "display_name": "Python 3",
   "language": "python",
   "name": "python3"
  },
  "language_info": {
   "codemirror_mode": {
    "name": "ipython",
    "version": 3
   },
   "file_extension": ".py",
   "mimetype": "text/x-python",
   "name": "python",
   "nbconvert_exporter": "python",
   "pygments_lexer": "ipython3",
   "version": "3.8.8"
  },
  "toc": {
   "base_numbering": 1,
   "nav_menu": {},
   "number_sections": true,
   "sideBar": true,
   "skip_h1_title": false,
   "title_cell": "Table of Contents",
   "title_sidebar": "Contents",
   "toc_cell": false,
   "toc_position": {},
   "toc_section_display": true,
   "toc_window_display": false
  },
  "varInspector": {
   "cols": {
    "lenName": 16,
    "lenType": 16,
    "lenVar": 40
   },
   "kernels_config": {
    "python": {
     "delete_cmd_postfix": "",
     "delete_cmd_prefix": "del ",
     "library": "var_list.py",
     "varRefreshCmd": "print(var_dic_list())"
    },
    "r": {
     "delete_cmd_postfix": ") ",
     "delete_cmd_prefix": "rm(",
     "library": "var_list.r",
     "varRefreshCmd": "cat(var_dic_list()) "
    }
   },
   "types_to_exclude": [
    "module",
    "function",
    "builtin_function_or_method",
    "instance",
    "_Feature"
   ],
   "window_display": false
  }
 },
 "nbformat": 4,
 "nbformat_minor": 2
}
